{
  "nbformat": 4,
  "nbformat_minor": 0,
  "metadata": {
    "colab": {
      "provenance": [],
      "collapsed_sections": [
        "iOzoYoI8Vp0v"
      ],
      "authorship_tag": "ABX9TyOb7ko7sdzIfPyloEYxL7Zm",
      "include_colab_link": true
    },
    "kernelspec": {
      "name": "python3",
      "display_name": "Python 3"
    },
    "language_info": {
      "name": "python"
    }
  },
  "cells": [
    {
      "cell_type": "markdown",
      "metadata": {
        "id": "view-in-github",
        "colab_type": "text"
      },
      "source": [
        "<a href=\"https://colab.research.google.com/github/prof-sd1/CSEC_CPD/blob/main/Module_3.ipynb\" target=\"_parent\"><img src=\"https://colab.research.google.com/assets/colab-badge.svg\" alt=\"Open In Colab\"/></a>"
      ]
    },
    {
      "cell_type": "markdown",
      "source": [
        "# Module 3: Core Python Libraries for Data Science"
      ],
      "metadata": {
        "id": "aM8LXireVoMc"
      }
    },
    {
      "cell_type": "markdown",
      "source": [
        "## 3.1 Introduction to Python Libraries for Data Science"
      ],
      "metadata": {
        "id": "iOzoYoI8Vp0v"
      }
    },
    {
      "cell_type": "markdown",
      "source": [
        "### Why Libraries Matter\n",
        "\n",
        "In Python, libraries are pre-written collections of code that simplify complex tasks. For data science, they provide powerful tools for:\n",
        "\n",
        "- Numerical computation\n",
        "\n",
        "- Data manipulation\n",
        "\n",
        "- Visualization\n",
        "\n",
        "- Machine learning (covered in later modules)\n",
        "\n",
        "Instead of writing everything from scratch, we import and use these libraries to save time, boost productivity, and maintain clean code."
      ],
      "metadata": {
        "id": "0oWyZZjHVuRF"
      }
    },
    {
      "cell_type": "markdown",
      "source": [
        "### Core Python Libraries in This Module"
      ],
      "metadata": {
        "id": "moaZlX9FVzsb"
      }
    },
    {
      "cell_type": "markdown",
      "source": [
        "|  Library|Purpose                                                                 |\n",
        "| -------------- | -------------------------------------------------------------------------- |\n",
        "| **NumPy**      | Fast mathematical operations on large, multi-dimensional arrays            |\n",
        "| **Pandas**     | Manipulate, clean, and analyze structured tabular data                     |\n",
        "| **Matplotlib** | Create basic static charts (line, bar, scatter, etc.)                      |\n",
        "| **Seaborn**    | Create beautiful and statistical plots with minimal code                   |\n",
        "| **Plotly**     | Create **interactive** visualizations and dashboards (Zoom, Hover, Filter) |\n"
      ],
      "metadata": {
        "id": "JbjaViWNV4Aw"
      }
    },
    {
      "cell_type": "markdown",
      "source": [
        "### Key Benefits of Using Libraries\n",
        "\n",
        "- Pre-built Functions: Ready-to-use tools save development time\n",
        "\n",
        "- Community Support: Large user base, active development, good documentation\n",
        "\n",
        "- Scalability: Optimized for performance, even with large datasets\n",
        "\n",
        "- Interoperability: Libraries work together smoothly (e.g., Pandas + Seaborn)"
      ],
      "metadata": {
        "id": "cX7kBbpsV9GG"
      }
    },
    {
      "cell_type": "markdown",
      "source": [
        "## 3.2. NumPy – Numerical Computing with Arrays"
      ],
      "metadata": {
        "id": "lefUC-fvU5B9"
      }
    },
    {
      "cell_type": "markdown",
      "source": [
        "NumPy (Numerical Python) is the fundamental package for numerical computation in Python. It provides an efficient multi-dimensional array object and tools for working with these arrays. It is the backbone of many other scientific computing libraries, including Pandas."
      ],
      "metadata": {
        "id": "g9MbAheJXswD"
      }
    },
    {
      "cell_type": "markdown",
      "source": [
        "### 3.2.1 Introduction to NumPy Arrays\n",
        "\n",
        "* **`ndarray` Object:** The core of NumPy is the `ndarray` (n-dimensional array) object. It is a homogeneous multi-dimensional array of fixed-size items. All elements in a NumPy array must be of the same data type.\n",
        "    * **Homogeneous:** Unlike Python lists, which can hold elements of different data types, all elements in a NumPy array must have the same type. This allows for more efficient storage and mathematical operations.\n",
        "    * **Fixed-size:** Once created, the size of a NumPy array cannot be changed. If you need a different size, you must create a new array.\n",
        "\n",
        "* **Key Attributes of `ndarray`:**\n",
        "    * `ndim`: The number of dimensions (axes) of the array.\n",
        "    * `shape`: A tuple indicating the size of the array in each dimension. For example, a 2x3 matrix will have `shape (2, 3)`.\n",
        "    * `size`: The total number of elements in the array.\n",
        "    * `dtype`: The data type of the elements in the array (e.g., `int64`, `float32`).\n",
        "    * `itemsize`: The size in bytes of each element.\n",
        "    * `data`: The buffer containing the actual elements of the array.\n",
        "\n",
        "* **Creating NumPy Arrays:**\n",
        "    * `np.array([list])`: Creates an array from a Python list or tuple.\n",
        "    * `np.zeros(shape)`: Creates an array filled with zeros.\n",
        "    * `np.ones(shape)`: Creates an array filled with ones.\n",
        "    * `np.empty(shape)`: Creates an array with random values (values depend on memory state).\n",
        "    * `np.arange(start, stop, step)`: Creates an array with evenly spaced values within a given interval (similar to Python's `range()`).\n",
        "    * `np.linspace(start, stop, num)`: Creates an array with a specified number of evenly spaced values over an interval.\n",
        "    * `np.full(shape, fill_value)`: Creates an array of a given shape filled with a specified value.\n",
        "    * `np.eye(N)`: Creates an identity matrix.\n",
        "* **Examples of NumPy Arrays:**"
      ],
      "metadata": {
        "id": "jSx6LIMbSWva"
      }
    },
    {
      "cell_type": "markdown",
      "source": [
        "Import Numpy Library"
      ],
      "metadata": {
        "id": "J7RDNTclYtvz"
      }
    },
    {
      "cell_type": "code",
      "source": [
        "import numpy as np"
      ],
      "metadata": {
        "id": "qcOkYMlxY5Tf"
      },
      "execution_count": 2,
      "outputs": []
    },
    {
      "cell_type": "code",
      "source": [
        "# 1D Array (Vector)\n",
        "a = np.array([1, 2, 3])\n",
        "print(a)"
      ],
      "metadata": {
        "colab": {
          "base_uri": "https://localhost:8080/"
        },
        "id": "ZW2nnqLfYhJu",
        "outputId": "8628bebb-482a-4a64-a247-f447fa1b0d85"
      },
      "execution_count": null,
      "outputs": [
        {
          "output_type": "stream",
          "name": "stdout",
          "text": [
            "[1 2 3]\n"
          ]
        }
      ]
    },
    {
      "cell_type": "code",
      "source": [
        "# 2D Array (Matrix)\n",
        "b = np.array([[1, 2], [3, 4]])\n",
        "print(b)"
      ],
      "metadata": {
        "colab": {
          "base_uri": "https://localhost:8080/"
        },
        "id": "Wsa2eL3KZOpA",
        "outputId": "23aa3a89-51f2-49ed-c20c-2fdf3e1f18c0"
      },
      "execution_count": null,
      "outputs": [
        {
          "output_type": "stream",
          "name": "stdout",
          "text": [
            "[[1 2]\n",
            " [3 4]]\n"
          ]
        }
      ]
    },
    {
      "cell_type": "code",
      "source": [
        "#Array of zeros\n",
        "z = np.zeros((2, 3))\n",
        "print(z)\n"
      ],
      "metadata": {
        "colab": {
          "base_uri": "https://localhost:8080/"
        },
        "id": "6QJMQjQgZV5G",
        "outputId": "63308c54-88ef-4ad9-e563-5aabbff1480e"
      },
      "execution_count": null,
      "outputs": [
        {
          "output_type": "stream",
          "name": "stdout",
          "text": [
            "[[0. 0. 0.]\n",
            " [0. 0. 0.]]\n"
          ]
        }
      ]
    },
    {
      "cell_type": "code",
      "source": [
        "#Array of Ones\n",
        "o = np.ones((3, 2))\n",
        "print(o)"
      ],
      "metadata": {
        "colab": {
          "base_uri": "https://localhost:8080/"
        },
        "id": "j7Q0puzDZmQ_",
        "outputId": "a18cd220-41ba-4758-c5bc-6d84e4f14aec"
      },
      "execution_count": null,
      "outputs": [
        {
          "output_type": "stream",
          "name": "stdout",
          "text": [
            "[[1. 1.]\n",
            " [1. 1.]\n",
            " [1. 1.]]\n"
          ]
        }
      ]
    },
    {
      "cell_type": "code",
      "source": [
        "#Uninitialized Values (Garbage Data)\n",
        "e = np.empty((2, 2))\n",
        "print(e)"
      ],
      "metadata": {
        "colab": {
          "base_uri": "https://localhost:8080/"
        },
        "id": "ynWlNc_GZzuy",
        "outputId": "4b4dd871-6ef5-49f0-f231-8f50d430e4e2"
      },
      "execution_count": null,
      "outputs": [
        {
          "output_type": "stream",
          "name": "stdout",
          "text": [
            "[[4.9e-324 9.9e-324]\n",
            " [1.5e-323 2.0e-323]]\n"
          ]
        }
      ]
    },
    {
      "cell_type": "code",
      "source": [
        "#Array of with evenly spaced values within a specified interval\n",
        "r = np.arange(0, 10, 2)\n",
        "print(r)"
      ],
      "metadata": {
        "colab": {
          "base_uri": "https://localhost:8080/"
        },
        "id": "VqPMWcn2aD1R",
        "outputId": "d7a28d73-3267-4950-e9b5-3df9049a01e5"
      },
      "execution_count": null,
      "outputs": [
        {
          "output_type": "stream",
          "name": "stdout",
          "text": [
            "[0 2 4 6 8]\n"
          ]
        }
      ]
    },
    {
      "cell_type": "code",
      "source": [
        "#Array of evenly spaced numbers over a specified interval\n",
        "l = np.linspace(0, 1, 5)\n",
        "print(l)"
      ],
      "metadata": {
        "colab": {
          "base_uri": "https://localhost:8080/"
        },
        "id": "TIl2hJ0oaoMN",
        "outputId": "65a58afb-dacb-45ad-94cd-31b0a32f50e5"
      },
      "execution_count": null,
      "outputs": [
        {
          "output_type": "stream",
          "name": "stdout",
          "text": [
            "[0.   0.25 0.5  0.75 1.  ]\n"
          ]
        }
      ]
    },
    {
      "cell_type": "code",
      "source": [
        "#Constant Values\n",
        "f = np.full((2, 2), 7)\n",
        "print(f)"
      ],
      "metadata": {
        "colab": {
          "base_uri": "https://localhost:8080/"
        },
        "id": "qnJ_Uepva7Kz",
        "outputId": "3758c7f1-04d5-4491-b8ac-baf56d29eabf"
      },
      "execution_count": null,
      "outputs": [
        {
          "output_type": "stream",
          "name": "stdout",
          "text": [
            "[[7 7]\n",
            " [7 7]]\n"
          ]
        }
      ]
    },
    {
      "cell_type": "code",
      "source": [
        "#Identity Matrix\n",
        "i = np.eye(3)\n",
        "print(i)"
      ],
      "metadata": {
        "colab": {
          "base_uri": "https://localhost:8080/"
        },
        "id": "Ns5NEFbNbMmx",
        "outputId": "ff5065fc-9573-48d1-ff53-458a1952c799"
      },
      "execution_count": null,
      "outputs": [
        {
          "output_type": "stream",
          "name": "stdout",
          "text": [
            "[[1. 0. 0.]\n",
            " [0. 1. 0.]\n",
            " [0. 0. 1.]]\n"
          ]
        }
      ]
    },
    {
      "cell_type": "markdown",
      "source": [
        "NumPy ndarray Attributes"
      ],
      "metadata": {
        "id": "jV-DNjm4b6-f"
      }
    },
    {
      "cell_type": "code",
      "source": [
        "# Create a 2D NumPy array\n",
        "arr = np.array([[10, 20, 30], [40, 50, 60]])\n",
        "print(\"Array:\\n\", arr)"
      ],
      "metadata": {
        "colab": {
          "base_uri": "https://localhost:8080/"
        },
        "id": "A10_2Udyb-i5",
        "outputId": "15249434-c85b-4a81-f7a7-10ac6414f019"
      },
      "execution_count": null,
      "outputs": [
        {
          "output_type": "stream",
          "name": "stdout",
          "text": [
            "Array:\n",
            " [[10 20 30]\n",
            " [40 50 60]]\n"
          ]
        }
      ]
    },
    {
      "cell_type": "code",
      "source": [
        "print(\"Number of Dimensions (ndim):\", arr.ndim)\n"
      ],
      "metadata": {
        "colab": {
          "base_uri": "https://localhost:8080/"
        },
        "id": "hqUiQbJlcGCA",
        "outputId": "d4a5ceb0-4a1d-4225-dd2e-5ded43e81a01"
      },
      "execution_count": null,
      "outputs": [
        {
          "output_type": "stream",
          "name": "stdout",
          "text": [
            "Number of Dimensions (ndim): 2\n"
          ]
        }
      ]
    },
    {
      "cell_type": "code",
      "source": [
        "print(\"Shape (rows, columns):\", arr.shape)\n"
      ],
      "metadata": {
        "colab": {
          "base_uri": "https://localhost:8080/"
        },
        "id": "O7V0n0aqcMqz",
        "outputId": "74899659-3b3c-4de2-ffbc-c2e52b56528a"
      },
      "execution_count": null,
      "outputs": [
        {
          "output_type": "stream",
          "name": "stdout",
          "text": [
            "Shape (rows, columns): (2, 3)\n"
          ]
        }
      ]
    },
    {
      "cell_type": "code",
      "source": [
        "print(\"Total Number of Elements (size):\", arr.size)"
      ],
      "metadata": {
        "colab": {
          "base_uri": "https://localhost:8080/"
        },
        "id": "JtjXuxAdcOwb",
        "outputId": "5093235d-2051-464b-c6aa-ac3dade1048b"
      },
      "execution_count": null,
      "outputs": [
        {
          "output_type": "stream",
          "name": "stdout",
          "text": [
            "Total Number of Elements (size): 6\n"
          ]
        }
      ]
    },
    {
      "cell_type": "code",
      "source": [
        "print(\"Data Type (dtype):\", arr.dtype)"
      ],
      "metadata": {
        "colab": {
          "base_uri": "https://localhost:8080/"
        },
        "id": "VSE5DbibcVGr",
        "outputId": "eb25fd6a-51b9-4701-8aa7-153f3d5b7b54"
      },
      "execution_count": null,
      "outputs": [
        {
          "output_type": "stream",
          "name": "stdout",
          "text": [
            "Data Type (dtype): int64\n"
          ]
        }
      ]
    },
    {
      "cell_type": "code",
      "source": [
        "print(\"Size of One Item (itemsize):\", arr.itemsize)\n"
      ],
      "metadata": {
        "colab": {
          "base_uri": "https://localhost:8080/"
        },
        "id": "6wAUjNridqnO",
        "outputId": "12391a15-aa71-4bff-97e2-61d08b0d7384"
      },
      "execution_count": null,
      "outputs": [
        {
          "output_type": "stream",
          "name": "stdout",
          "text": [
            "Size of One Item (itemsize): 8\n"
          ]
        }
      ]
    },
    {
      "cell_type": "code",
      "source": [
        "print(\"Memory Location (data):\", arr.data)"
      ],
      "metadata": {
        "colab": {
          "base_uri": "https://localhost:8080/"
        },
        "id": "-NMpthC1d0ug",
        "outputId": "00afe9db-8c7c-4fc1-ea3d-c5def92437d8"
      },
      "execution_count": null,
      "outputs": [
        {
          "output_type": "stream",
          "name": "stdout",
          "text": [
            "Memory Location (data): <memory at 0x7c86478bfac0>\n"
          ]
        }
      ]
    },
    {
      "cell_type": "markdown",
      "source": [
        "### 3.2.2 Indexing, Slicing, and Reshaping\n",
        "\n",
        "Accessing and manipulating subsets of array data is crucial.\n",
        "\n",
        "* **Indexing:**\n",
        "    * **1D Arrays:** Similar to Python lists. `arr[index]`\n",
        "    * **Multi-dimensional Arrays:** Use a comma-separated tuple of indices for each dimension. `arr[row_index, col_index]` or `arr[dim1_idx, dim2_idx, dim3_idx]`\n",
        "\n",
        "* **Slicing:** Extracts a sub-array (a view of the original array, not a copy).\n",
        "    * `arr[start:stop:step]` (for each dimension)\n",
        "    * `arr[row_start:row_stop, col_start:col_stop]`\n",
        "    * `arr[:]`: Selects all elements along an axis.\n",
        "    * `arr[..., index]`: Ellipsis can be used to indicate full slices for preceding dimensions.\n",
        "\n",
        "* **Boolean Indexing (Masking):** Selecting elements based on a boolean condition.\n",
        "    * `arr[arr > 5]`: Returns a 1D array of all elements that satisfy the condition.\n",
        "    * `arr[(arr > 5) & (arr < 10)]`: Combining conditions using logical operators (`&`, `|`, `~`).\n",
        "\n",
        "* **Fancy Indexing:** Using arrays of integers to select arbitrary subsets of data.\n",
        "    * `arr[[0, 2, 4]]`: Selects elements at specific indices.\n",
        "    * `arr[[rows], [cols]]`: Selects specific (row, column) pairs.\n",
        "\n",
        "* **Reshaping:** Changing the shape of an array without changing its data.\n",
        "    * `arr.reshape(new_shape)`: Returns a new array with the specified shape. The total number of elements must remain the same.\n",
        "        * `arr.reshape(-1, num_cols)`: `-1` automatically calculates the number of rows.\n",
        "        * `arr.reshape(num_rows, -1)`: `-1` automatically calculates the number of columns.\n",
        "    * `arr.flatten()` / `arr.ravel()`: Converts a multi-dimensional array into a 1D array. `flatten` returns a copy, `ravel` returns a view.\n",
        "    * `arr.T` / `arr.transpose()`: Transposes the array (swaps axes).\n",
        "    * `arr.newaxis`: Used to increase the dimension of an array. `arr[:, np.newaxis]` or `arr[np.newaxis, :]`.\n",
        "\n"
      ],
      "metadata": {
        "id": "YG8FCnoXWc2R"
      }
    },
    {
      "cell_type": "markdown",
      "source": [
        "* **Exampples of Indexing, Slicing, and Reshaping**"
      ],
      "metadata": {
        "id": "7DGC0vhzencT"
      }
    },
    {
      "cell_type": "code",
      "source": [
        "#1D Array Indexing\n",
        "arr1d = np.array([10, 20, 30, 40, 50])\n",
        "print(\"First Element: \",arr1d[0])\n",
        "print(\"Second Element: \",arr1d[1])\n",
        "print(\"Third Element: \",arr1d[2])\n",
        "print(\"Fourth Element: \",arr1d[3])\n",
        "print(\"Last Element: \",arr1d[-1])"
      ],
      "metadata": {
        "colab": {
          "base_uri": "https://localhost:8080/"
        },
        "id": "eG5eGmgteloy",
        "outputId": "2bb93223-8517-468b-ffa1-598e472f0943"
      },
      "execution_count": null,
      "outputs": [
        {
          "output_type": "stream",
          "name": "stdout",
          "text": [
            "First Element:  10\n",
            "Second Element:  20\n",
            "Third Element:  30\n",
            "Fourth Element:  40\n",
            "Last Element:  50\n"
          ]
        }
      ]
    },
    {
      "cell_type": "code",
      "source": [
        "#Multi-dimensional Array Indexing\n",
        "arr2d = np.array([[1, 2, 3], [4, 5, 6]])\n",
        "print(arr2d[1, 2])  #2nd row, 3rd column"
      ],
      "metadata": {
        "colab": {
          "base_uri": "https://localhost:8080/"
        },
        "id": "gU07WGB8hhOk",
        "outputId": "aec681c4-e78f-413c-83f0-0d60f3086206"
      },
      "execution_count": null,
      "outputs": [
        {
          "output_type": "stream",
          "name": "stdout",
          "text": [
            "6\n"
          ]
        }
      ]
    },
    {
      "cell_type": "code",
      "source": [
        "#1D Slicing\n",
        "print(arr1d[1:4])  # second element to fourth element\n"
      ],
      "metadata": {
        "colab": {
          "base_uri": "https://localhost:8080/"
        },
        "id": "RR5i62nih6Be",
        "outputId": "93dad700-ae4b-4b66-f937-8de161f7985d"
      },
      "execution_count": null,
      "outputs": [
        {
          "output_type": "stream",
          "name": "stdout",
          "text": [
            "[20 30 40]\n"
          ]
        }
      ]
    },
    {
      "cell_type": "code",
      "source": [
        "#2D slicing\n",
        "print(arr2d[0:2, 1:3])"
      ],
      "metadata": {
        "colab": {
          "base_uri": "https://localhost:8080/"
        },
        "id": "2AGu8tPhiMtT",
        "outputId": "1a5aa5f3-894f-4cd4-d935-e965926db88d"
      },
      "execution_count": null,
      "outputs": [
        {
          "output_type": "stream",
          "name": "stdout",
          "text": [
            "[[2 3]\n",
            " [5 6]]\n"
          ]
        }
      ]
    },
    {
      "cell_type": "code",
      "source": [
        "#Full Slice and Ellipsis\n",
        "print(arr2d[:, :])  # Output: Full array"
      ],
      "metadata": {
        "colab": {
          "base_uri": "https://localhost:8080/"
        },
        "id": "oQM64CaMicN5",
        "outputId": "874a8ad0-983a-4821-a108-02be44ba4dc9"
      },
      "execution_count": null,
      "outputs": [
        {
          "output_type": "stream",
          "name": "stdout",
          "text": [
            "[[1 2 3]\n",
            " [4 5 6]]\n"
          ]
        }
      ]
    },
    {
      "cell_type": "code",
      "source": [
        "print(arr2d[..., 1])  # Output: Second column"
      ],
      "metadata": {
        "colab": {
          "base_uri": "https://localhost:8080/"
        },
        "id": "Fv_vBVE4is2v",
        "outputId": "8ac0022e-f37c-4368-be8f-677e0e6c00b9"
      },
      "execution_count": null,
      "outputs": [
        {
          "output_type": "stream",
          "name": "stdout",
          "text": [
            "[2 5]\n"
          ]
        }
      ]
    },
    {
      "cell_type": "code",
      "source": [
        "#Boolean Indexing (Masking)  Simple Condition\n",
        "mask = arr1d > 25\n",
        "print(arr1d[mask])\n",
        "# Or directly:\n",
        "print(arr1d[arr1d > 25])  # Same output\n"
      ],
      "metadata": {
        "colab": {
          "base_uri": "https://localhost:8080/"
        },
        "id": "-Huyw2VKixa1",
        "outputId": "b06aa128-8c81-43b5-c117-b193bdca3327"
      },
      "execution_count": null,
      "outputs": [
        {
          "output_type": "stream",
          "name": "stdout",
          "text": [
            "[30 40 50]\n",
            "[30 40 50]\n"
          ]
        }
      ]
    },
    {
      "cell_type": "code",
      "source": [
        "#Boolean Indexing (Masking) Combined  Condition\n",
        "print(arr1d[(arr1d > 20) & (arr1d < 50)])"
      ],
      "metadata": {
        "colab": {
          "base_uri": "https://localhost:8080/"
        },
        "id": "9dNuvciSjKlE",
        "outputId": "d9666af4-40df-4e75-a06c-0fc89de870e8"
      },
      "execution_count": null,
      "outputs": [
        {
          "output_type": "stream",
          "name": "stdout",
          "text": [
            "[30 40]\n"
          ]
        }
      ]
    },
    {
      "cell_type": "code",
      "source": [
        "#Fancy Indexing\n",
        "#Select Specific Indices\n",
        "print(arr1d[[0, 2, 4]])"
      ],
      "metadata": {
        "colab": {
          "base_uri": "https://localhost:8080/"
        },
        "id": "iUJcNS0cjaOn",
        "outputId": "94057bcc-5864-4401-ca36-7e6f02875574"
      },
      "execution_count": null,
      "outputs": [
        {
          "output_type": "stream",
          "name": "stdout",
          "text": [
            "[10 30 50]\n"
          ]
        }
      ]
    },
    {
      "cell_type": "code",
      "source": [
        "#Select Specific Elements from 2D Array\n",
        "arr2d = np.array([[1, 2, 3],\n",
        "                  [4, 5, 6]])\n",
        "rows = [0, 1]\n",
        "cols = [2, 0]\n",
        "print(arr2d[rows, cols])"
      ],
      "metadata": {
        "colab": {
          "base_uri": "https://localhost:8080/"
        },
        "id": "swysc5Bdkj9O",
        "outputId": "4cd6525d-a010-40c7-ae9c-30a2ac7cbe11"
      },
      "execution_count": null,
      "outputs": [
        {
          "output_type": "stream",
          "name": "stdout",
          "text": [
            "[3 4]\n"
          ]
        }
      ]
    },
    {
      "cell_type": "code",
      "source": [
        "#Reshaping\n",
        "arr = np.array([[1, 2, 3], [4, 5, 6]])\n",
        "reshaped = arr.reshape(3, 2)\n",
        "print(reshaped)"
      ],
      "metadata": {
        "colab": {
          "base_uri": "https://localhost:8080/"
        },
        "id": "PCqZ5gtJlHPA",
        "outputId": "43f0bd27-508c-4754-c6c9-1bdd3fedeb7f"
      },
      "execution_count": null,
      "outputs": [
        {
          "output_type": "stream",
          "name": "stdout",
          "text": [
            "[[1 2]\n",
            " [3 4]\n",
            " [5 6]]\n"
          ]
        }
      ]
    },
    {
      "cell_type": "code",
      "source": [
        "print(arr.reshape(-1, 1))  # Reshape to 6 rows, 1 column"
      ],
      "metadata": {
        "colab": {
          "base_uri": "https://localhost:8080/"
        },
        "id": "GobYJir2lYhS",
        "outputId": "b537a6b6-a7b8-4429-9a15-8bbd4b07f440"
      },
      "execution_count": null,
      "outputs": [
        {
          "output_type": "stream",
          "name": "stdout",
          "text": [
            "[[1]\n",
            " [2]\n",
            " [3]\n",
            " [4]\n",
            " [5]\n",
            " [6]]\n"
          ]
        }
      ]
    },
    {
      "cell_type": "code",
      "source": [
        "#Flattening\n",
        "flat1 = arr.flatten()\n",
        "flat2 = arr.ravel()\n",
        "print(flat1)\n"
      ],
      "metadata": {
        "colab": {
          "base_uri": "https://localhost:8080/"
        },
        "id": "AWeQT0NYldjR",
        "outputId": "f2259873-0643-49bb-922f-0c0ba8a8f425"
      },
      "execution_count": null,
      "outputs": [
        {
          "output_type": "stream",
          "name": "stdout",
          "text": [
            "[1 2 3 4 5 6]\n"
          ]
        }
      ]
    },
    {
      "cell_type": "code",
      "source": [
        "#Transpose and .T\n",
        "print(arr.T)"
      ],
      "metadata": {
        "colab": {
          "base_uri": "https://localhost:8080/"
        },
        "id": "_M1VJHfslnp1",
        "outputId": "733caf60-4440-4f6e-9fdc-ad5f46227d71"
      },
      "execution_count": null,
      "outputs": [
        {
          "output_type": "stream",
          "name": "stdout",
          "text": [
            "[[1 4]\n",
            " [2 5]\n",
            " [3 6]]\n"
          ]
        }
      ]
    },
    {
      "cell_type": "code",
      "source": [
        "#Adding a New Axis\n",
        "arr = np.array([1, 2, 3])\n",
        "print(arr.shape)  # (3,)\n",
        "\n",
        "arr_col = arr[:, np.newaxis]  # Convert to column vector\n",
        "print(arr_col.shape)\n",
        "\n",
        "arr_row = arr[np.newaxis, :]  # Convert to row vector\n",
        "print(arr_row.shape)"
      ],
      "metadata": {
        "colab": {
          "base_uri": "https://localhost:8080/"
        },
        "id": "PTA8K8EJlvWQ",
        "outputId": "745989ce-d236-4cf6-90dd-14476e6452ab"
      },
      "execution_count": null,
      "outputs": [
        {
          "output_type": "stream",
          "name": "stdout",
          "text": [
            "(3,)\n",
            "(3, 1)\n",
            "(1, 3)\n"
          ]
        }
      ]
    },
    {
      "cell_type": "markdown",
      "source": [
        "### 3.2.3 Vectorized Operations and Broadcasting\n",
        "\n",
        "One of NumPy's greatest strengths is its ability to perform operations on entire arrays without explicit loops, leading to significant performance gains.\n",
        "\n",
        "* **Vectorized Operations:** Applying mathematical operations element-wise to entire arrays.\n",
        "    * Arithmetic operations: `+`, `-`, `*`, `/`, `**` (element-wise multiplication, division, power).\n",
        "    * Comparison operations: `>`, `<`, `==`, `!=`, `>=`, `<=` (element-wise, returns a boolean array).\n",
        "    * Mathematical functions: `np.sqrt()`, `np.exp()`, `np.log()`, `np.sin()`, `np.cos()`, `np.abs()`, `np.round()`, `np.floor()`, `np.ceil()`, etc.\n",
        "\n",
        "* **Broadcasting:** NumPy's ability to perform operations on arrays of different shapes by automatically \"broadcasting\" the smaller array across the larger array.\n",
        "    * **Rules for Broadcasting:**\n",
        "        1.  If the arrays do not have the same number of dimensions, the shape of the smaller array is padded with ones on its left side.\n",
        "        2.  If the shape of the two arrays does not match in any dimension, and neither dimension has a size of 1, an error is raised.\n",
        "        3.  If the shape of the two arrays does not match in any dimension, and one of the dimensions has a size of 1, the array with size 1 is stretched to match the other shape.\n",
        "    * **Examples:**\n",
        "        * Adding a scalar to an array: `arr + 5`\n",
        "        * Adding a 1D array to a 2D array: `matrix + vector` (if dimensions allow)\n",
        "\n",
        "* **Example of Vectorized Operations and Broadcasting**\n",
        "\n"
      ],
      "metadata": {
        "id": "syh4zLNfWsPH"
      }
    },
    {
      "cell_type": "code",
      "source": [
        "#Arithmetic Operations (Element-wise)\n",
        "\n",
        "a = np.array([1, 2, 3])\n",
        "b = np.array([4, 5, 6])\n",
        "\n",
        "print(\"a + b:\", a + b)\n",
        "print(\"a - b:\", a - b)\n",
        "print(\"a * b:\", a * b)\n",
        "print(\"a / b:\", a / b)\n",
        "print(\"a ** 2:\", a ** 2)"
      ],
      "metadata": {
        "colab": {
          "base_uri": "https://localhost:8080/"
        },
        "id": "iCbot2emmsGG",
        "outputId": "683b98c7-4586-4600-c60f-38ccfb36362d"
      },
      "execution_count": null,
      "outputs": [
        {
          "output_type": "stream",
          "name": "stdout",
          "text": [
            "a + b: [5 7 9]\n",
            "a - b: [-3 -3 -3]\n",
            "a * b: [ 4 10 18]\n",
            "a / b: [0.25 0.4  0.5 ]\n",
            "a ** 2: [1 4 9]\n"
          ]
        }
      ]
    },
    {
      "cell_type": "code",
      "source": [
        "#Comparison Operations\n",
        "print(\"a > 2:\", a > 2)\n",
        "print(\"b == 5:\", b == 5)\n",
        "print(\"a != b:\", a != b)\n"
      ],
      "metadata": {
        "colab": {
          "base_uri": "https://localhost:8080/"
        },
        "id": "_T7WMZevm8vO",
        "outputId": "75fd74d4-5c8d-4a44-987c-13f6f2ab469f"
      },
      "execution_count": null,
      "outputs": [
        {
          "output_type": "stream",
          "name": "stdout",
          "text": [
            "a > 2: [False False  True]\n",
            "b == 5: [False  True False]\n",
            "a != b: [ True  True  True]\n"
          ]
        }
      ]
    },
    {
      "cell_type": "code",
      "source": [
        "#Mathematical Functions\n",
        "x = np.array([0, np.pi/2, np.pi])\n",
        "\n",
        "print(\"np.sin(x):\", np.sin(x))\n",
        "print(\"np.sqrt(a):\", np.sqrt(a))\n",
        "print(\"np.exp(a):\", np.exp(a))\n",
        "print(\"np.log(b):\", np.log(b))\n",
        "print(\"np.round([1.2, 2.6]):\", np.round([1.2, 2.6]))\n",
        "print(\"np.floor([1.7, 2.3]):\", np.floor([1.7, 2.3]))\n",
        "print(\"np.ceil([1.2, 2.8]):\", np.ceil([1.2, 2.8]))\n"
      ],
      "metadata": {
        "colab": {
          "base_uri": "https://localhost:8080/"
        },
        "id": "xmPzh26MnPTx",
        "outputId": "95fb5a9c-e002-41e6-a573-29f1a310c732"
      },
      "execution_count": null,
      "outputs": [
        {
          "output_type": "stream",
          "name": "stdout",
          "text": [
            "np.sin(x): [0.0000000e+00 1.0000000e+00 1.2246468e-16]\n",
            "np.sqrt(a): [1.         1.41421356 1.73205081]\n",
            "np.exp(a): [ 2.71828183  7.3890561  20.08553692]\n",
            "np.log(b): [1.38629436 1.60943791 1.79175947]\n",
            "np.round([1.2, 2.6]): [1. 3.]\n",
            "np.floor([1.7, 2.3]): [1. 2.]\n",
            "np.ceil([1.2, 2.8]): [2. 3.]\n"
          ]
        }
      ]
    },
    {
      "cell_type": "code",
      "source": [
        "#Scalar Broadcasting\n",
        "arr = np.array([1, 2, 3])\n",
        "print(\"arr + 10:\", arr + 10)\n",
        "print(\"arr * 2:\", arr * 2)\n"
      ],
      "metadata": {
        "colab": {
          "base_uri": "https://localhost:8080/"
        },
        "id": "NQK0hoZbnjb0",
        "outputId": "d9d1eae4-c090-4bd7-fdb3-15fe47016101"
      },
      "execution_count": null,
      "outputs": [
        {
          "output_type": "stream",
          "name": "stdout",
          "text": [
            "arr + 10: [11 12 13]\n",
            "arr * 2: [2 4 6]\n"
          ]
        }
      ]
    },
    {
      "cell_type": "code",
      "source": [
        "#1D Row Vector with 2D Array\n",
        "matrix = np.array([[1, 2, 3],\n",
        "                   [4, 5, 6]])\n",
        "\n",
        "row_vec = np.array([10, 20, 30])\n",
        "\n",
        "print(\"matrix + row_vec:\\n\", matrix + row_vec)\n"
      ],
      "metadata": {
        "colab": {
          "base_uri": "https://localhost:8080/"
        },
        "id": "Za6vXsBcnssD",
        "outputId": "fa25605b-da0e-49fa-b27b-1c771a5f136a"
      },
      "execution_count": null,
      "outputs": [
        {
          "output_type": "stream",
          "name": "stdout",
          "text": [
            "matrix + row_vec:\n",
            " [[11 22 33]\n",
            " [14 25 36]]\n"
          ]
        }
      ]
    },
    {
      "cell_type": "code",
      "source": [
        "#1D Column Vector with 2D Array\n",
        "col_vec = np.array([[100], [200]])\n",
        "\n",
        "print(\"matrix + col_vec:\\n\", matrix + col_vec)\n",
        "\n"
      ],
      "metadata": {
        "colab": {
          "base_uri": "https://localhost:8080/"
        },
        "id": "1kyoO-aEoDp3",
        "outputId": "5f544526-fbf9-4bda-853e-f50b5e0b4895"
      },
      "execution_count": null,
      "outputs": [
        {
          "output_type": "stream",
          "name": "stdout",
          "text": [
            "matrix + col_vec:\n",
            " [[101 102 103]\n",
            " [204 205 206]]\n"
          ]
        }
      ]
    },
    {
      "cell_type": "code",
      "source": [
        "#2.4 Incompatible Shapes (raises error)\n",
        "try:\n",
        "    incompatible = np.array([1, 2])\n",
        "    print(matrix + incompatible)\n",
        "except ValueError as e:\n",
        "    print(\"Broadcasting Error:\", e)\n"
      ],
      "metadata": {
        "colab": {
          "base_uri": "https://localhost:8080/"
        },
        "id": "V_GfDEvSoUIK",
        "outputId": "1b9bebb0-b49d-4320-e5d8-c530990e6ec7"
      },
      "execution_count": null,
      "outputs": [
        {
          "output_type": "stream",
          "name": "stdout",
          "text": [
            "Broadcasting Error: operands could not be broadcast together with shapes (2,3) (2,) \n"
          ]
        }
      ]
    },
    {
      "cell_type": "markdown",
      "source": [
        "### 3.2.4 Aggregation and Statistics\n",
        "\n",
        "NumPy provides powerful functions for calculating statistical properties of arrays.\n",
        "\n",
        "* **Basic Aggregations:**\n",
        "    * `arr.sum()` / `np.sum(arr)`: Sum of all elements.\n",
        "    * `arr.mean()` / `np.mean(arr)`: Mean (average) of all elements.\n",
        "    * `arr.max()` / `np.max(arr)`: Maximum value.\n",
        "    * `arr.min()` / `np.min(arr)`: Minimum value.\n",
        "    * `arr.std()` / `np.std(arr)`: Standard deviation.\n",
        "    * `arr.var()` / `np.var(arr)`: Variance.\n",
        "    * `arr.median()` / `np.median(arr)`: Median (for 1D arrays or along an axis).\n",
        "\n",
        "* **Aggregations Along an Axis:**\n",
        "    * Most aggregation functions accept an `axis` argument:\n",
        "        * `axis=0`: Operate column-wise (aggregate down columns).\n",
        "        * `axis=1`: Operate row-wise (aggregate across rows).\n",
        "    * Example: `matrix.sum(axis=0)` (sum of each column), `matrix.mean(axis=1)` (mean of each row).\n",
        "\n",
        "* **Other Statistical Functions:**\n",
        "    * `np.argmin(arr)` / `np.argmax(arr)`: Returns the index of the minimum/maximum value.\n",
        "    * `np.percentile(arr, q)`: Computes the q-th percentile.\n",
        "    * `np.corrcoef(arr1, arr2)`: Correlation coefficient.\n",
        "    * `np.unique(arr)`: Finds the unique elements of an array.\n",
        "* **Example of Aggregation and Statistics**\n",
        "\n"
      ],
      "metadata": {
        "id": "yMckyRuyW4Yl"
      }
    },
    {
      "cell_type": "code",
      "source": [
        "#Basic Aggregations\n",
        "arr = np.array([1, 2, 3, 4, 5, 6])\n",
        "print(\"Sum:\", arr.sum())\n",
        "print(\"Mean:\", arr.mean())\n",
        "print(\"Max:\", arr.max())\n",
        "print(\"Min:\", arr.min())\n",
        "print(\"Standard Deviation:\", arr.std())\n",
        "print(\"Variance:\", arr.var())\n",
        "print(\"Median:\", np.median(arr))"
      ],
      "metadata": {
        "colab": {
          "base_uri": "https://localhost:8080/"
        },
        "id": "BIPvh-eCouzU",
        "outputId": "5d10cfba-e654-450f-a4ee-977f035d8b87"
      },
      "execution_count": null,
      "outputs": [
        {
          "output_type": "stream",
          "name": "stdout",
          "text": [
            "Sum: 21\n",
            "Mean: 3.5\n",
            "Max: 6\n",
            "Min: 1\n",
            "Standard Deviation: 1.707825127659933\n",
            "Variance: 2.9166666666666665\n",
            "Median: 3.5\n"
          ]
        }
      ]
    },
    {
      "cell_type": "code",
      "source": [
        "#Aggregation Along an Axis\n",
        "matrix = np.array([[1, 2, 3],\n",
        "                   [4, 5, 6]])\n",
        "#Sum along columns (axis=0)\n",
        "print(\"Column-wise sum:\", matrix.sum(axis=0))  # Output: [5 7 9]\n",
        "# Mean along rows (axis=1)\n",
        "print(\"Row-wise mean:\", matrix.mean(axis=1))\n",
        "#Standard deviation along axis\n",
        "print(\"Column-wise std:\", matrix.std(axis=0))\n"
      ],
      "metadata": {
        "colab": {
          "base_uri": "https://localhost:8080/"
        },
        "id": "N44CJN1dsI8k",
        "outputId": "094152ca-c161-400c-d884-b40d3ec37f8e"
      },
      "execution_count": null,
      "outputs": [
        {
          "output_type": "stream",
          "name": "stdout",
          "text": [
            "Column-wise sum: [5 7 9]\n",
            "Row-wise mean: [2. 5.]\n",
            "Column-wise std: [1.5 1.5 1.5]\n"
          ]
        }
      ]
    },
    {
      "cell_type": "code",
      "source": [
        "#np.argmin() and np.argmax()\n",
        "print(\"Index of min value:\", np.argmin(arr))\n",
        "print(\"Index of max value:\", np.argmax(arr))\n"
      ],
      "metadata": {
        "colab": {
          "base_uri": "https://localhost:8080/"
        },
        "id": "9iw7J26GsxjH",
        "outputId": "209926a1-6d01-4174-b43c-2680ed0f05e7"
      },
      "execution_count": null,
      "outputs": [
        {
          "output_type": "stream",
          "name": "stdout",
          "text": [
            "Index of min value: 0\n",
            "Index of max value: 5\n"
          ]
        }
      ]
    },
    {
      "cell_type": "code",
      "source": [
        "#np.percentile(arr, q)\n",
        "print(\"25th percentile:\", np.percentile(arr, 25))\n",
        "print(\"90th percentile:\", np.percentile(arr, 90))\n"
      ],
      "metadata": {
        "colab": {
          "base_uri": "https://localhost:8080/"
        },
        "id": "n1-vd4ZEtD2H",
        "outputId": "6e273dd2-115e-47d7-9290-0648b65e5704"
      },
      "execution_count": null,
      "outputs": [
        {
          "output_type": "stream",
          "name": "stdout",
          "text": [
            "25th percentile: 2.25\n",
            "90th percentile: 5.5\n",
            "25th percentile: 2.25\n",
            "90th percentile: 5.5\n"
          ]
        }
      ]
    },
    {
      "cell_type": "code",
      "source": [
        "#np.corrcoef(arr1, arr2)\n",
        "arr1 = np.array([1, 2, 3, 4, 5])\n",
        "arr2 = np.array([2, 4, 6, 8, 10])\n",
        "\n",
        "print(\"Correlation matrix:\\n\", np.corrcoef(arr1, arr2))"
      ],
      "metadata": {
        "colab": {
          "base_uri": "https://localhost:8080/"
        },
        "id": "dFkJceQ6tL6E",
        "outputId": "f50a9cee-8bd3-4dd5-8b27-730740c24c72"
      },
      "execution_count": null,
      "outputs": [
        {
          "output_type": "stream",
          "name": "stdout",
          "text": [
            "Correlation matrix:\n",
            " [[1. 1.]\n",
            " [1. 1.]]\n"
          ]
        }
      ]
    },
    {
      "cell_type": "code",
      "source": [
        "#np.unique()\n",
        "arr3 = np.array([1, 2, 2, 3, 4, 4, 4])\n",
        "print(\"Unique values:\", np.unique(arr3))\n"
      ],
      "metadata": {
        "colab": {
          "base_uri": "https://localhost:8080/"
        },
        "id": "bFDyxnAFt3ZU",
        "outputId": "4ed570cc-1bb3-4830-99f8-e17867fb81e5"
      },
      "execution_count": null,
      "outputs": [
        {
          "output_type": "stream",
          "name": "stdout",
          "text": [
            "Unique values: [1 2 3 4]\n"
          ]
        }
      ]
    },
    {
      "cell_type": "markdown",
      "source": [
        "### 3.2.5 Linear Algebra in NumPy\n",
        "\n",
        "NumPy is extensively used for linear algebra operations, crucial in many scientific and data analysis applications.\n",
        "\n",
        "* **Dot Product:**\n",
        "    * `np.dot(a, b)`: For 1D arrays, computes the inner product. For 2D arrays, matrix multiplication.\n",
        "    * `a @ b`: Operator for matrix multiplication (Python 3.5+).\n",
        "\n",
        "* **Matrix Operations:**\n",
        "    * `np.linalg.inv(matrix)`: Inverse of a matrix.\n",
        "    * `np.linalg.det(matrix)`: Determinant of a matrix.\n",
        "    * `np.linalg.eig(matrix)`: Eigenvalues and eigenvectors.\n",
        "    * `np.linalg.solve(A, b)`: Solves a system of linear equations $Ax = b$.\n",
        "    * `np.transpose(matrix)` or `matrix.T`: Transpose of a matrix.\n",
        "\n",
        "* **Other Useful Functions:**\n",
        "    * `np.matmul(a, b)`: Matrix product of two arrays.\n",
        "    * `np.vdot(a, b)`: Dot product of two vectors (complex conjugate if complex numbers).\n",
        "    * `np.outer(a, b)`: Outer product of two vectors.\n",
        "\n",
        "* **Examples of Linear Algebra**"
      ],
      "metadata": {
        "id": "XaBX-9DCW_Aj"
      }
    },
    {
      "cell_type": "code",
      "source": [
        "#np.dot(a, b) – Dot Product (1D)\n",
        "a = np.array([1, 2, 3])\n",
        "b = np.array([4, 5, 6])\n",
        "print(\"Dot Product:\", np.dot(a, b))"
      ],
      "metadata": {
        "colab": {
          "base_uri": "https://localhost:8080/"
        },
        "id": "OGGTJddau3pD",
        "outputId": "9e586c35-d663-4e01-fbd3-26671ddae47e"
      },
      "execution_count": null,
      "outputs": [
        {
          "output_type": "stream",
          "name": "stdout",
          "text": [
            "Dot Product: 32\n"
          ]
        }
      ]
    },
    {
      "cell_type": "code",
      "source": [
        "#Matrix Multiplication (2D)\n",
        "matrix1 = np.array([[1, 2], [3, 4]])\n",
        "matrix2 = np.array([[5, 6], [7, 8]])\n",
        "print(\"Matrix Multiplication:\\n\", np.matmul(matrix1, matrix2))"
      ],
      "metadata": {
        "colab": {
          "base_uri": "https://localhost:8080/"
        },
        "id": "1vm9ImzovHTZ",
        "outputId": "156ad9b1-0f27-47d9-f502-a8c35748a42e"
      },
      "execution_count": null,
      "outputs": [
        {
          "output_type": "stream",
          "name": "stdout",
          "text": [
            "Matrix Multiplication:\n",
            " [[19 22]\n",
            " [43 50]]\n"
          ]
        }
      ]
    },
    {
      "cell_type": "code",
      "source": [
        "#a @ b – Matrix Multiplication Operator (Python 3.5+)\n",
        "A = np.array([[1, 2],\n",
        "              [3, 4]])\n",
        "B = np.array([[5, 6],\n",
        "              [7, 8]])\n",
        "\n",
        "print(\"Matrix Multiplication (2D):\\n\", A @ B)"
      ],
      "metadata": {
        "colab": {
          "base_uri": "https://localhost:8080/"
        },
        "id": "7beKKWJevcM-",
        "outputId": "a5ee4e9e-5eea-4596-901c-b6237616e55c"
      },
      "execution_count": null,
      "outputs": [
        {
          "output_type": "stream",
          "name": "stdout",
          "text": [
            "Matrix Multiplication (2D):\n",
            " [[19 22]\n",
            " [43 50]]\n"
          ]
        }
      ]
    },
    {
      "cell_type": "code",
      "source": [
        "#Inverse of a Matrix – np.linalg.inv()\n",
        "matrix = np.array([[1, 2], [3, 4]])\n",
        "print(\"Inverse of Matrix:\\n\", np.linalg.inv(matrix))"
      ],
      "metadata": {
        "colab": {
          "base_uri": "https://localhost:8080/"
        },
        "id": "X6BmjOufvx59",
        "outputId": "969da07c-d471-490a-cc3c-c641dfa43ceb"
      },
      "execution_count": null,
      "outputs": [
        {
          "output_type": "stream",
          "name": "stdout",
          "text": [
            "Inverse of Matrix:\n",
            " [[-2.   1. ]\n",
            " [ 1.5 -0.5]]\n"
          ]
        }
      ]
    },
    {
      "cell_type": "code",
      "source": [
        "#Determinant – np.linalg.det()\n",
        "matrix = np.array([[1, 2], [3, 4]])\n",
        "print(\"Determinant:\", np.linalg.det(matrix))"
      ],
      "metadata": {
        "colab": {
          "base_uri": "https://localhost:8080/"
        },
        "id": "1wwmKifXv8Z8",
        "outputId": "3cdda35e-f72f-4554-c380-882a68087a94"
      },
      "execution_count": null,
      "outputs": [
        {
          "output_type": "stream",
          "name": "stdout",
          "text": [
            "Determinant: -2.0000000000000004\n"
          ]
        }
      ]
    },
    {
      "cell_type": "code",
      "source": [
        "#Eigenvalues and Eigenvectors – np.linalg.eig()\n",
        "eig_vals, eig_vecs = np.linalg.eig(matrix)\n",
        "print(\"Eigenvalues:\", eig_vals)\n",
        "print(\"Eigenvectors:\\n\", eig_vecs)"
      ],
      "metadata": {
        "colab": {
          "base_uri": "https://localhost:8080/"
        },
        "id": "3Gl_tnKPwHDT",
        "outputId": "9d7009d8-4d74-456c-ae42-1f421d9ecf07"
      },
      "execution_count": null,
      "outputs": [
        {
          "output_type": "stream",
          "name": "stdout",
          "text": [
            "Eigenvalues: [-0.37228132  5.37228132]\n",
            "Eigenvectors:\n",
            " [[-0.82456484 -0.41597356]\n",
            " [ 0.56576746 -0.90937671]]\n"
          ]
        }
      ]
    },
    {
      "cell_type": "code",
      "source": [
        "# Solving Linear System – np.linalg.solve(A, b)\n",
        "#Solves: Ax = b\n",
        "A = np.array([[2, 1], [1, 3]])\n",
        "b = np.array([3, 5])\n",
        "x = np.linalg.solve(A, b)\n",
        "print(\"Solution:\", x)"
      ],
      "metadata": {
        "colab": {
          "base_uri": "https://localhost:8080/"
        },
        "id": "r6UDqaBQwmFe",
        "outputId": "4c4b12e8-4b4a-430e-aed1-602f0451c094"
      },
      "execution_count": null,
      "outputs": [
        {
          "output_type": "stream",
          "name": "stdout",
          "text": [
            "Solution: [0.8 1.4]\n"
          ]
        }
      ]
    },
    {
      "cell_type": "code",
      "source": [
        "#Transpose – np.transpose() or .T\n",
        "print(\"Transpose:\\n\", matrix.T)"
      ],
      "metadata": {
        "colab": {
          "base_uri": "https://localhost:8080/"
        },
        "id": "2Smv2Uuqw6zN",
        "outputId": "5fa12465-4939-4eff-e371-ee80e20d4559"
      },
      "execution_count": null,
      "outputs": [
        {
          "output_type": "stream",
          "name": "stdout",
          "text": [
            "Transpose:\n",
            " [[1 3]\n",
            " [2 4]]\n"
          ]
        }
      ]
    },
    {
      "cell_type": "code",
      "source": [
        "#np.matmul(a, b) – Matrix Product\n",
        "a = np.array([[1, 2], [3, 4]])\n",
        "b = np.array([[5, 6], [7, 8]])\n",
        "print(\"Matrix Product:\\n\", np.matmul(a, b))"
      ],
      "metadata": {
        "colab": {
          "base_uri": "https://localhost:8080/"
        },
        "id": "73eUYrSzw9oN",
        "outputId": "dc2dcc3c-08a4-4e37-a305-e98a46877604"
      },
      "execution_count": null,
      "outputs": [
        {
          "output_type": "stream",
          "name": "stdout",
          "text": [
            "Matrix Product:\n",
            " [[19 22]\n",
            " [43 50]]\n"
          ]
        }
      ]
    },
    {
      "cell_type": "code",
      "source": [
        "#np.vdot(a, b) – Vector Dot Product (including complex conjugate)\n",
        "a = np.array([1+2j, 3+4j])\n",
        "b = np.array([5+6j, 7+8j])\n",
        "print(\"Vector Dot Product:\", np.vdot(a, b))"
      ],
      "metadata": {
        "colab": {
          "base_uri": "https://localhost:8080/"
        },
        "id": "lkVBeOYrxJpM",
        "outputId": "375df63f-4469-4644-e667-bef1858f20c9"
      },
      "execution_count": null,
      "outputs": [
        {
          "output_type": "stream",
          "name": "stdout",
          "text": [
            "Vector Dot Product: (70-8j)\n"
          ]
        }
      ]
    },
    {
      "cell_type": "code",
      "source": [
        "#np.outer(a, b) – Outer Product\n",
        "a = np.array([1, 2, 3])\n",
        "b = np.array([4, 5, 6])\n",
        "print(\"Outer Product:\\n\", np.outer(a, b))"
      ],
      "metadata": {
        "colab": {
          "base_uri": "https://localhost:8080/"
        },
        "id": "ILSGWGjGxUhA",
        "outputId": "02c86d90-9b11-4a9b-ecc2-2d3dde04f810"
      },
      "execution_count": null,
      "outputs": [
        {
          "output_type": "stream",
          "name": "stdout",
          "text": [
            "Outer Product:\n",
            " [[ 4  5  6]\n",
            " [ 8 10 12]\n",
            " [12 15 18]]\n"
          ]
        }
      ]
    },
    {
      "cell_type": "markdown",
      "source": [
        "### 3.2.6 Random Number Generation\n",
        "\n",
        "NumPy's `random` module is powerful for generating various types of random numbers and sampling.\n",
        "\n",
        "* **Simple Random Data:**\n",
        "    * `np.random.rand(d0, d1, ..., dn)`: Random values in a given shape `[0.0, 1.0)`.\n",
        "    * `np.random.randn(d0, d1, ..., dn)`: Samples from the \"standard normal\" distribution (mean 0, variance 1).\n",
        "    * `np.random.randint(low, high=None, size=None)`: Random integers from `low` (inclusive) to `high` (exclusive).\n",
        "\n",
        "* **Distributions:**\n",
        "    * `np.random.uniform(low=0.0, high=1.0, size=None)`: Samples from a uniform distribution.\n",
        "    * `np.random.normal(loc=0.0, scale=1.0, size=None)`: Samples from a normal (Gaussian) distribution.\n",
        "    * `np.random.poisson(lam=1.0, size=None)`: Samples from a Poisson distribution.\n",
        "    * `np.random.binomial(n, p, size=None)`: Samples from a binomial distribution.\n",
        "\n",
        "* **Shuffling and Permutations:**\n",
        "    * `np.random.shuffle(array)`: Shuffles the array *in place*.\n",
        "    * `np.random.permutation(array)`: Randomly permutes a sequence or returns a permuted range.\n",
        "\n",
        "* **Seed for Reproducibility:**\n",
        "    * `np.random.seed(seed_value)`: Sets the seed for NumPy's random number generator, ensuring that sequences of random numbers are reproducible. This is crucial for debugging and research.\n",
        "\n",
        "* **Examples for Random Number Generation**"
      ],
      "metadata": {
        "id": "2HbvoBvZXD9S"
      }
    },
    {
      "cell_type": "code",
      "execution_count": null,
      "metadata": {
        "colab": {
          "base_uri": "https://localhost:8080/"
        },
        "id": "-jgRril8SU-U",
        "outputId": "6e1d5eee-5d22-46e4-e64f-a9174764db54"
      },
      "outputs": [
        {
          "output_type": "stream",
          "name": "stdout",
          "text": [
            "Random values between 0 and 1:\n",
            " [[0.23295942 0.42627077 0.21191362]\n",
            " [0.45476906 0.70985121 0.00219416]]\n"
          ]
        }
      ],
      "source": [
        "#np.random.rand(d0, d1, ..., dn)\n",
        "print(\"Random values between 0 and 1:\\n\", np.random.rand(2, 3))"
      ]
    },
    {
      "cell_type": "code",
      "source": [
        "#np.random.randn(d0, d1, ..., dn)\n",
        "print(\"Random values from standard normal distribution:\\n\", np.random.randn(2, 3))"
      ],
      "metadata": {
        "colab": {
          "base_uri": "https://localhost:8080/"
        },
        "id": "IuO3upqgziQy",
        "outputId": "cb2c67b2-c9c2-4dfc-8da8-a9c901e43916"
      },
      "execution_count": null,
      "outputs": [
        {
          "output_type": "stream",
          "name": "stdout",
          "text": [
            "Random values from standard normal distribution:\n",
            " [[ 0.19060888 -0.32223171 -0.50997766]\n",
            " [-0.84177551  2.21332332 -0.19373709]]\n"
          ]
        }
      ]
    },
    {
      "cell_type": "code",
      "source": [
        "#np.random.randint(low, high=None, size=None)\n",
        "print(\"Random integers between 1 and 10:\\n\", np.random.randint(1, 11, size=(2, 3)))"
      ],
      "metadata": {
        "colab": {
          "base_uri": "https://localhost:8080/"
        },
        "id": "pfDOAZQszs66",
        "outputId": "79216170-9ad0-447f-f954-3eb6e836012b"
      },
      "execution_count": null,
      "outputs": [
        {
          "output_type": "stream",
          "name": "stdout",
          "text": [
            "Random integers between 1 and 10:\n",
            " [[8 3 1]\n",
            " [1 3 9]]\n"
          ]
        }
      ]
    },
    {
      "cell_type": "code",
      "source": [
        "#np.random.uniform(low, high, size)\n",
        "print(\"Random values from uniform distribution:\\n\", np.random.uniform(5, 6, size=(2, 3)))"
      ],
      "metadata": {
        "colab": {
          "base_uri": "https://localhost:8080/"
        },
        "id": "E34TkZhQzzNA",
        "outputId": "30f30799-21a1-4f0f-b665-8b112d5a0407"
      },
      "execution_count": null,
      "outputs": [
        {
          "output_type": "stream",
          "name": "stdout",
          "text": [
            "Random values from uniform distribution:\n",
            " [[5.33535335 5.86810052 5.26875716]\n",
            " [5.34632457 5.33647706 5.06109176]]\n"
          ]
        }
      ]
    },
    {
      "cell_type": "code",
      "source": [
        "#np.random.normal(loc, scale, size)\n",
        "print(\"Random values from normal distribution:\\n\", np.random.normal(0, 1, size=(2, 3)))"
      ],
      "metadata": {
        "colab": {
          "base_uri": "https://localhost:8080/"
        },
        "id": "NtA7KvPVz_Fh",
        "outputId": "75e3a87e-13a3-4528-9ac2-a7d184fde3c9"
      },
      "execution_count": null,
      "outputs": [
        {
          "output_type": "stream",
          "name": "stdout",
          "text": [
            "Random values from normal distribution:\n",
            " [[-2.10923599 -0.00991546 -1.38928053]\n",
            " [-1.24067668 -0.84928646 -0.53141333]]\n"
          ]
        }
      ]
    },
    {
      "cell_type": "code",
      "source": [
        "#np.random.poisson(lam, size)\n",
        "print(\"Random values from Poisson distribution:\\n\", np.random.poisson(5, size=(2, 3)))"
      ],
      "metadata": {
        "colab": {
          "base_uri": "https://localhost:8080/"
        },
        "id": "xXR-y_wH0IFg",
        "outputId": "71ae1b0f-0519-49ff-d49d-f83283ca9ba8"
      },
      "execution_count": null,
      "outputs": [
        {
          "output_type": "stream",
          "name": "stdout",
          "text": [
            "Random values from Poisson distribution:\n",
            " [[7 1 3]\n",
            " [4 5 3]]\n"
          ]
        }
      ]
    },
    {
      "cell_type": "code",
      "source": [
        "#np.random.binomial(n, p, size)\n",
        "print(\"Random values from binomial distribution:\\n\", np.random.binomial(10, 0.5, size=(2, 3)))"
      ],
      "metadata": {
        "colab": {
          "base_uri": "https://localhost:8080/"
        },
        "id": "Eb_eN4VT0Sql",
        "outputId": "46f24ef0-56cc-4aea-e2f3-6241aa63e549"
      },
      "execution_count": null,
      "outputs": [
        {
          "output_type": "stream",
          "name": "stdout",
          "text": [
            "Random values from binomial distribution:\n",
            " [[3 6 6]\n",
            " [5 5 8]]\n"
          ]
        }
      ]
    },
    {
      "cell_type": "code",
      "source": [
        "#np.random.shuffle(array) – In-place\n",
        "arr = np.array([1, 2, 3, 4, 5])\n",
        "np.random.shuffle(arr)\n",
        "print(\"Shuffled array:\", arr)"
      ],
      "metadata": {
        "colab": {
          "base_uri": "https://localhost:8080/"
        },
        "id": "TXH56GHd0YbP",
        "outputId": "cc7b3642-f89f-4ec7-ae8e-65003259a2f0"
      },
      "execution_count": null,
      "outputs": [
        {
          "output_type": "stream",
          "name": "stdout",
          "text": [
            "Shuffled array: [4 5 3 2 1]\n"
          ]
        }
      ]
    },
    {
      "cell_type": "code",
      "source": [
        "#np.random.permutation(array) – Returns new array\n",
        "arr = np.array([1, 2, 3, 4, 5])\n",
        "print(\"Permuted array:\", np.random.permutation(arr))"
      ],
      "metadata": {
        "colab": {
          "base_uri": "https://localhost:8080/"
        },
        "id": "AMXtvF1j0g8d",
        "outputId": "0acccc3c-b4bc-4d76-9719-e01b8bfef685"
      },
      "execution_count": null,
      "outputs": [
        {
          "output_type": "stream",
          "name": "stdout",
          "text": [
            "Permuted array: [5 2 1 4 3]\n"
          ]
        }
      ]
    },
    {
      "cell_type": "code",
      "source": [
        "#np.random.seed(seed_value)\n",
        "np.random.seed(42)\n",
        "print(\"Random values with seed 42:\\n\", np.random.rand(2, 3))"
      ],
      "metadata": {
        "colab": {
          "base_uri": "https://localhost:8080/"
        },
        "id": "XvLLp6c80qO7",
        "outputId": "dfb604f1-dc89-4816-be63-e209e5c2ebcc"
      },
      "execution_count": null,
      "outputs": [
        {
          "output_type": "stream",
          "name": "stdout",
          "text": [
            "Random values with seed 42:\n",
            " [[0.37454012 0.95071431 0.73199394]\n",
            " [0.59865848 0.15601864 0.15599452]]\n"
          ]
        }
      ]
    },
    {
      "cell_type": "markdown",
      "source": [
        "## 3.3. Pandas – Data Analysis & Manipulation\n"
      ],
      "metadata": {
        "id": "4XKFyuoDVqlX"
      }
    },
    {
      "cell_type": "markdown",
      "source": [
        "\n",
        "\n",
        "Pandas is a powerful open-source data analysis and manipulation library for Python. It provides high-performance, easy-to-use data structures and data analysis tools.\n",
        "\n",
        "### 3.3.1 Series and DataFrames\n",
        "\n",
        "* **Series:** A one-dimensional labeled array capable of holding any data type (integers, strings, floating point numbers, Python objects, etc.). It is similar to a column in a spreadsheet or a SQL table, or a dictionary in Python, but with an ordered index.\n",
        "    * **Key Characteristics:** Homogeneous data, size immutable, value mutable.\n",
        "    * **Creation:** From lists, NumPy arrays, dictionaries, or scalar values.\n",
        "    * **Attributes & Methods:** `index`, `values`, `dtype`, `name`, `head()`, `tail()`, `unique()`, `value_counts()`.\n",
        "\n",
        "* **DataFrame:** A two-dimensional labeled data structure with columns of potentially different types. It is similar to a spreadsheet, a SQL table, or a dictionary of Series objects. It is the most commonly used Pandas object.\n",
        "    * **Key Characteristics:** Heterogeneous data, size mutable, value mutable.\n",
        "    * **Creation:** From dictionaries of Series/lists/arrays, lists of dictionaries, NumPy arrays, or by reading external files.\n",
        "    * **Attributes & Methods:** `index`, `columns`, `values`, `dtypes`, `shape`, `size`, `ndim`, `head()`, `tail()`, `info()`, `describe()`, `T` (transpose).\n",
        "* **Examples of Series and DataFrames**"
      ],
      "metadata": {
        "id": "rY-lfYdSVcjs"
      }
    },
    {
      "cell_type": "code",
      "source": [
        "#import pandas library\n",
        "import pandas as pd"
      ],
      "metadata": {
        "id": "uZEQHvRU6AVb"
      },
      "execution_count": null,
      "outputs": []
    },
    {
      "cell_type": "code",
      "source": [
        "# Creating a Series from a list\n",
        "s = pd.Series([100, 200, 300], index=['a', 'b', 'c'], name='Sales')\n",
        "print(s)"
      ],
      "metadata": {
        "colab": {
          "base_uri": "https://localhost:8080/"
        },
        "id": "Ai9Gfk6D6V7f",
        "outputId": "528c1f94-4868-4637-a74d-7f7a030aaf28"
      },
      "execution_count": null,
      "outputs": [
        {
          "output_type": "stream",
          "name": "stdout",
          "text": [
            "a    100\n",
            "b    200\n",
            "c    300\n",
            "Name: Sales, dtype: int64\n"
          ]
        }
      ]
    },
    {
      "cell_type": "code",
      "source": [
        "#Accessing Series Attributes and Methods\n",
        "print(\"Index:\", s.index)             # Index object\n",
        "print(\"Values:\", s.values)           # Numpy array of values\n",
        "print(\"Data type:\", s.dtype)         # int64\n",
        "print(\"Name:\", s.name)               # 'Sales'\n",
        "print(\"Head:\\n\", s.head(2))          # First 2 elements\n",
        "print(\"Tail:\\n\", s.tail(1))          # Last element\n",
        "print(\"Unique values:\", s.unique())  # Unique values\n",
        "print(\"Value counts:\\n\", s.value_counts())  # Count of each value\n"
      ],
      "metadata": {
        "colab": {
          "base_uri": "https://localhost:8080/"
        },
        "id": "NTiD2QSY6upM",
        "outputId": "aa4a850f-d213-47a1-db06-202407e65af2"
      },
      "execution_count": null,
      "outputs": [
        {
          "output_type": "stream",
          "name": "stdout",
          "text": [
            "Index: Index(['a', 'b', 'c'], dtype='object')\n",
            "Values: [100 200 300]\n",
            "Data type: int64\n",
            "Name: Sales\n",
            "Head:\n",
            " a    100\n",
            "b    200\n",
            "Name: Sales, dtype: int64\n",
            "Tail:\n",
            " c    300\n",
            "Name: Sales, dtype: int64\n",
            "Unique values: [100 200 300]\n",
            "Value counts:\n",
            " Sales\n",
            "100    1\n",
            "200    1\n",
            "300    1\n",
            "Name: count, dtype: int64\n"
          ]
        }
      ]
    },
    {
      "cell_type": "code",
      "source": [
        "# Creating a DataFrame from a dictionary of lists\n",
        "data = {\n",
        "    'Name': ['Alice', 'Bob', 'Charlie'],\n",
        "    'Age': [25, 30, 35],\n",
        "    'Salary': [50000, 60000, 70000]\n",
        "}\n",
        "\n",
        "df = pd.DataFrame(data)\n",
        "print(df)\n"
      ],
      "metadata": {
        "colab": {
          "base_uri": "https://localhost:8080/"
        },
        "id": "93X594xU66DQ",
        "outputId": "d27c4cd0-e634-4427-a381-85e1a6bc50ff"
      },
      "execution_count": null,
      "outputs": [
        {
          "output_type": "stream",
          "name": "stdout",
          "text": [
            "      Name  Age  Salary\n",
            "0    Alice   25   50000\n",
            "1      Bob   30   60000\n",
            "2  Charlie   35   70000\n"
          ]
        }
      ]
    },
    {
      "cell_type": "code",
      "source": [
        "#Accessing DataFrame Attributes and Methods\n",
        "print(\"Index:\", df.index)             # RangeIndex\n",
        "print(\"Columns:\", df.columns)         # Column names\n",
        "print(\"Values:\\n\", df.values)         # Numpy 2D array\n",
        "print(\"Data Types:\\n\", df.dtypes)     # Column data types\n",
        "print(\"Shape:\", df.shape)             # (3, 3)\n",
        "print(\"Size:\", df.size)               # 9\n",
        "print(\"Dimensions:\", df.ndim)         # 2\n",
        "print(\"Head:\\n\", df.head(2))          # First 2 rows\n",
        "print(\"Tail:\\n\", df.tail(1))          # Last row\n",
        "print(\"Info:\\n\"); df.info()           # Summary info\n",
        "print(\"Describe:\\n\", df.describe())   # Statistical summary\n",
        "print(\"Transpose:\\n\", df.T)           # Transposed DataFrame\n"
      ],
      "metadata": {
        "colab": {
          "base_uri": "https://localhost:8080/"
        },
        "id": "dqLhB6u96_pG",
        "outputId": "57c68ba5-edfe-4006-e182-e6a81511c52f"
      },
      "execution_count": null,
      "outputs": [
        {
          "output_type": "stream",
          "name": "stdout",
          "text": [
            "Index: RangeIndex(start=0, stop=3, step=1)\n",
            "Columns: Index(['Name', 'Age', 'Salary'], dtype='object')\n",
            "Values:\n",
            " [['Alice' 25 50000]\n",
            " ['Bob' 30 60000]\n",
            " ['Charlie' 35 70000]]\n",
            "Data Types:\n",
            " Name      object\n",
            "Age        int64\n",
            "Salary     int64\n",
            "dtype: object\n",
            "Shape: (3, 3)\n",
            "Size: 9\n",
            "Dimensions: 2\n",
            "Head:\n",
            "     Name  Age  Salary\n",
            "0  Alice   25   50000\n",
            "1    Bob   30   60000\n",
            "Tail:\n",
            "       Name  Age  Salary\n",
            "2  Charlie   35   70000\n",
            "Info:\n",
            "\n",
            "<class 'pandas.core.frame.DataFrame'>\n",
            "RangeIndex: 3 entries, 0 to 2\n",
            "Data columns (total 3 columns):\n",
            " #   Column  Non-Null Count  Dtype \n",
            "---  ------  --------------  ----- \n",
            " 0   Name    3 non-null      object\n",
            " 1   Age     3 non-null      int64 \n",
            " 2   Salary  3 non-null      int64 \n",
            "dtypes: int64(2), object(1)\n",
            "memory usage: 204.0+ bytes\n",
            "Describe:\n",
            "         Age   Salary\n",
            "count   3.0      3.0\n",
            "mean   30.0  60000.0\n",
            "std     5.0  10000.0\n",
            "min    25.0  50000.0\n",
            "25%    27.5  55000.0\n",
            "50%    30.0  60000.0\n",
            "75%    32.5  65000.0\n",
            "max    35.0  70000.0\n",
            "Transpose:\n",
            "             0      1        2\n",
            "Name    Alice    Bob  Charlie\n",
            "Age        25     30       35\n",
            "Salary  50000  60000    70000\n"
          ]
        }
      ]
    },
    {
      "cell_type": "markdown",
      "source": [
        "\n",
        "### 3.3.2 Data Input and Output\n",
        "\n",
        "Pandas provides extensive functionality to read data from and write data to various file formats, making it versatile for data ingestion and export.\n",
        "\n",
        "* **Reading Data:**\n",
        "    * `pd.read_csv()`: For Comma Separated Values files.\n",
        "    * `pd.read_excel()`: For Microsoft Excel files.\n",
        "    * `pd.read_sql()`: For SQL databases (requires a database connector like `SQLAlchemy`).\n",
        "    * `pd.read_json()`: For JSON (JavaScript Object Notation) files.\n",
        "    * `pd.read_html()`: For HTML tables.\n",
        "    * `pd.read_clipboard()`: For data copied to the clipboard.\n",
        "\n",
        "* **Writing Data:**\n",
        "    * `df.to_csv()`: To write to CSV files.\n",
        "    * `df.to_excel()`: To write to Excel files.\n",
        "    * `df.to_sql()`: To write to SQL databases.\n",
        "    * `df.to_json()`: To write to JSON files.\n",
        "    * `df.to_html()`: To write to HTML tables.\n",
        "* **Examples of Data Input and Output**\n"
      ],
      "metadata": {
        "id": "isuGFyHI3oOc"
      }
    },
    {
      "cell_type": "code",
      "source": [
        "#pd.read_csv() – Read a CSV file\n",
        "df_csv = pd.read_csv('/content/sample data.csv')\n",
        "print(df_csv.head())"
      ],
      "metadata": {
        "colab": {
          "base_uri": "https://localhost:8080/"
        },
        "id": "I0pQfXEy7nJx",
        "outputId": "5cc04b98-144f-4504-c232-66ba0d30e694"
      },
      "execution_count": null,
      "outputs": [
        {
          "output_type": "stream",
          "name": "stdout",
          "text": [
            "   Index      Customer Id First Name Last Name  \\\n",
            "0      1  DD37Cf93aecA6Dc     Sheryl    Baxter   \n",
            "1      2  1Ef7b82A4CAAD10    Preston    Lozano   \n",
            "2      3  6F94879bDAfE5a6        Roy     Berry   \n",
            "3      4  5Cef8BFA16c5e3c      Linda     Olsen   \n",
            "4      5  053d585Ab6b3159     Joanna    Bender   \n",
            "\n",
            "                           Company               City  \\\n",
            "0                  Rasmussen Group       East Leonard   \n",
            "1                      Vega-Gentry  East Jimmychester   \n",
            "2                    Murillo-Perry      Isabelborough   \n",
            "3  Dominguez, Mcmillan and Donovan         Bensonview   \n",
            "4         Martin, Lang and Andrade     West Priscilla   \n",
            "\n",
            "                      Country                 Phone 1                Phone 2  \\\n",
            "0                       Chile            229.077.5154       397.884.0519x718   \n",
            "1                    Djibouti              5153435776       686-620-1820x944   \n",
            "2         Antigua and Barbuda         +1-539-402-0259    (496)978-3969x58947   \n",
            "3          Dominican Republic  001-808-617-6467x12895        +1-813-324-8756   \n",
            "4  Slovakia (Slovak Republic)  001-234-203-0635x76146  001-199-446-3860x3486   \n",
            "\n",
            "                         Email Subscription Date                      Website  \n",
            "0     zunigavanessa@smith.info        2020-08-24   http://www.stephenson.com/  \n",
            "1              vmata@colon.com        2021-04-23        http://www.hobbs.com/  \n",
            "2          beckycarr@hogan.com        2020-03-25     http://www.lawrence.com/  \n",
            "3  stanleyblackwell@benson.org        2020-06-02   http://www.good-lyons.com/  \n",
            "4      colinalvarado@miles.net        2021-04-17  https://goodwin-ingram.com/  \n"
          ]
        }
      ]
    },
    {
      "cell_type": "code",
      "source": [
        "#pd.read_excel() – Read an Excel file\n",
        "df_excel = pd.read_excel('/content/sample data.xlsx')\n",
        "print(df_excel.head())"
      ],
      "metadata": {
        "colab": {
          "base_uri": "https://localhost:8080/"
        },
        "id": "mCHM--SO-Bck",
        "outputId": "bece0c7c-6328-446d-bae4-43f7a00ac326"
      },
      "execution_count": null,
      "outputs": [
        {
          "output_type": "stream",
          "name": "stdout",
          "text": [
            "   Index      Customer Id First Name Last Name  \\\n",
            "0      1  DD37Cf93aecA6Dc     Sheryl    Baxter   \n",
            "1      2  1Ef7b82A4CAAD10    Preston    Lozano   \n",
            "2      3  6F94879bDAfE5a6        Roy     Berry   \n",
            "3      4  5Cef8BFA16c5e3c      Linda     Olsen   \n",
            "4      5  053d585Ab6b3159     Joanna    Bender   \n",
            "\n",
            "                           Company               City  \\\n",
            "0                  Rasmussen Group       East Leonard   \n",
            "1                      Vega-Gentry  East Jimmychester   \n",
            "2                    Murillo-Perry      Isabelborough   \n",
            "3  Dominguez, Mcmillan and Donovan         Bensonview   \n",
            "4         Martin, Lang and Andrade     West Priscilla   \n",
            "\n",
            "                      Country                 Phone 1                Phone 2  \\\n",
            "0                       Chile            229.077.5154       397.884.0519x718   \n",
            "1                    Djibouti              5153435776       686-620-1820x944   \n",
            "2         Antigua and Barbuda         +1-539-402-0259    (496)978-3969x58947   \n",
            "3          Dominican Republic  001-808-617-6467x12895        +1-813-324-8756   \n",
            "4  Slovakia (Slovak Republic)  001-234-203-0635x76146  001-199-446-3860x3486   \n",
            "\n",
            "                         Email Subscription Date                      Website  \n",
            "0     zunigavanessa@smith.info        2020-08-24   http://www.stephenson.com/  \n",
            "1              vmata@colon.com        2021-04-23        http://www.hobbs.com/  \n",
            "2          beckycarr@hogan.com        2020-03-25     http://www.lawrence.com/  \n",
            "3  stanleyblackwell@benson.org        2020-06-02   http://www.good-lyons.com/  \n",
            "4      colinalvarado@miles.net        2021-04-17  https://goodwin-ingram.com/  \n"
          ]
        }
      ]
    },
    {
      "cell_type": "code",
      "source": [
        "from sqlalchemy import create_engine\n",
        "# Load your uploaded SQLite file\n",
        "db_path = '/content/sqlite.db'\n",
        "# Create a connection engine\n",
        "engine = create_engine(f'sqlite:///{db_path}')\n",
        "\n",
        "table_name = 'department'  # ← replace with a real one\n",
        "df = pd.read_sql(f\"SELECT * FROM {table_name}\", con=engine)\n",
        "\n",
        "# Show data\n",
        "print(df.head())\n"
      ],
      "metadata": {
        "colab": {
          "base_uri": "https://localhost:8080/"
        },
        "id": "ENLUTSnI-pqG",
        "outputId": "3893a478-fbe9-4f2e-b8b8-0306ebc94420"
      },
      "execution_count": null,
      "outputs": [
        {
          "output_type": "stream",
          "name": "stdout",
          "text": [
            "   department_id department_name\n",
            "0              1       Executive\n",
            "1              2              HR\n",
            "2              3           Sales\n",
            "3              4     Development\n",
            "4              5         Support\n"
          ]
        }
      ]
    },
    {
      "cell_type": "code",
      "source": [
        "#pd.read_json() – Read a JSON file\n",
        "df_json = pd.read_json('/content/sample_data/anscombe.json')\n",
        "print(df_json.head())"
      ],
      "metadata": {
        "colab": {
          "base_uri": "https://localhost:8080/"
        },
        "id": "L8GyZTC9Bupl",
        "outputId": "e9fb9f9e-80cc-434a-8376-49b73dc843b9"
      },
      "execution_count": null,
      "outputs": [
        {
          "output_type": "stream",
          "name": "stdout",
          "text": [
            "  Series   X     Y\n",
            "0      I  10  8.04\n",
            "1      I   8  6.95\n",
            "2      I  13  7.58\n",
            "3      I   9  8.81\n",
            "4      I  11  8.33\n"
          ]
        }
      ]
    },
    {
      "cell_type": "code",
      "source": [
        "#pd.read_html() – Read HTML tables from a webpage\n",
        "url = 'https://en.wikipedia.org/wiki/List_of_countries_by_GDP_(nominal)'\n",
        "tables = pd.read_html(url)\n",
        "print(tables[2].head())\n"
      ],
      "metadata": {
        "colab": {
          "base_uri": "https://localhost:8080/"
        },
        "id": "xWrxgGMPB6yB",
        "outputId": "01528699-022a-4433-da37-49712ef6cc8c"
      },
      "execution_count": null,
      "outputs": [
        {
          "output_type": "stream",
          "name": "stdout",
          "text": [
            "  Country/Territory IMF[1][12]            World Bank[13]             \\\n",
            "  Country/Territory   Forecast       Year       Estimate       Year   \n",
            "0             World  113795678       2025      111326370       2024   \n",
            "1     United States   30507217       2025       29184890       2024   \n",
            "2             China   19231705  [n 1]2025       18743803  [n 3]2024   \n",
            "3           Germany    4744804       2025        4659929       2024   \n",
            "4             India    4187017       2025        3912686       2024   \n",
            "\n",
            "  United Nations[14]             \n",
            "            Estimate       Year  \n",
            "0          100834796       2022  \n",
            "1           27720700       2023  \n",
            "2           17794782  [n 1]2023  \n",
            "3            4525704       2023  \n",
            "4            3575778       2023  \n"
          ]
        }
      ]
    },
    {
      "cell_type": "code",
      "source": [
        "#df.to_csv() – Write to CSV\n",
        "df_csv.to_csv('output.csv', index=False)"
      ],
      "metadata": {
        "id": "XUWe4wdpGWBV"
      },
      "execution_count": null,
      "outputs": []
    },
    {
      "cell_type": "code",
      "source": [
        "#df.to_excel() – Write to Excel\n",
        "df_excel.to_excel('output.xlsx', index=False)\n"
      ],
      "metadata": {
        "id": "4RMKMtlVGlkU"
      },
      "execution_count": null,
      "outputs": []
    },
    {
      "cell_type": "code",
      "source": [
        "#df.to_sql() – Write to SQL database\n",
        "df.to_sql('new_table', con=engine, if_exists='replace', index=False)"
      ],
      "metadata": {
        "colab": {
          "base_uri": "https://localhost:8080/"
        },
        "id": "MMmuaW1bG8cD",
        "outputId": "44446c34-fa4a-45b3-9054-ecef38913141"
      },
      "execution_count": null,
      "outputs": [
        {
          "output_type": "execute_result",
          "data": {
            "text/plain": [
              "3"
            ]
          },
          "metadata": {},
          "execution_count": 127
        }
      ]
    },
    {
      "cell_type": "code",
      "source": [
        "#df.to_json() – Write to JSON\n",
        "df_json.to_json('output.json')"
      ],
      "metadata": {
        "id": "hn4N32NbHIWh"
      },
      "execution_count": null,
      "outputs": []
    },
    {
      "cell_type": "code",
      "source": [
        "#df.to_html() – Write to HTML\n",
        "tables[2].to_html('output.html', index=False)"
      ],
      "metadata": {
        "id": "UdeObBIcHLZ_"
      },
      "execution_count": null,
      "outputs": []
    },
    {
      "cell_type": "markdown",
      "source": [
        "### 3.3.3 Exploring and Summarizing Data\n",
        "\n",
        "Understanding your data's structure and basic statistics is a crucial first step in any data analysis workflow.\n",
        "\n",
        "* **Basic Information:**\n",
        "    * `df.info()`: Provides a concise summary of a DataFrame, including data types, non-null values, and memory usage.\n",
        "    * `df.shape`: Returns a tuple representing the dimensionality (rows, columns) of the DataFrame.\n",
        "    * `df.columns`: Lists the column names.\n",
        "    * `df.index`: Shows the index of the DataFrame.\n",
        "\n",
        "* **Descriptive Statistics:**\n",
        "    * `df.describe()`: Generates descriptive statistics of numerical columns (count, mean, std, min, 25%, 50%, 75%, max).\n",
        "    * `df.describe(include='all')`: Includes descriptive statistics for non-numerical columns as well.\n",
        "    * `df.value_counts()`: Returns a Series containing counts of unique values in a Series/column.\n",
        "    * `df.unique()`: Returns unique values in a Series/column.\n",
        "    * `df.nunique()`: Returns the number of unique values in a Series/column.\n",
        "\n",
        "* **Data Inspection:**\n",
        "    * `df.head(n)`: Returns the first `n` rows (default 5).\n",
        "    * `df.tail(n)`: Returns the last `n` rows (default 5).\n",
        "    * `df.sample(n)`: Returns a random sample of `n` rows.\n",
        "* **Examples of Exploring and Summarizing Data**\n"
      ],
      "metadata": {
        "id": "8N3x8m1F3eue"
      }
    },
    {
      "cell_type": "code",
      "source": [
        "import pandas as pd\n",
        "\n",
        "# Sample data\n",
        "data = {\n",
        "    'Name': ['Alice', 'Bob', 'Charlie', 'David', 'Eva', 'Frank', 'Grace', 'Henry'],\n",
        "    'Age': [25, 30, 35, 40, 28, 33, 29, 41],\n",
        "    'City': ['NY', 'LA', 'NY', 'Chicago', 'LA', 'Chicago', 'NY', 'LA'],\n",
        "    'Score': [85, 90, 88, 92, 87, 85, 90, 91]\n",
        "}\n",
        "\n",
        "df = pd.DataFrame(data)\n",
        "\n",
        "# Basic Information\n",
        "print(\"df.info():\")\n",
        "print(df.info())  # Summary including data types and non-null counts\n",
        "\n",
        "print(\"\\ndf.shape:\")\n",
        "print(df.shape)  # (rows, columns)\n",
        "\n",
        "print(\"\\ndf.columns:\")\n",
        "print(df.columns)  # Index of column names\n",
        "\n",
        "print(\"\\ndf.index:\")\n",
        "print(df.index)  # RangeIndex, shows index range\n"
      ],
      "metadata": {
        "id": "3n9KCqJkIAm2",
        "colab": {
          "base_uri": "https://localhost:8080/"
        },
        "outputId": "bc65b9ce-52c5-4bca-ebb1-05d8b92bc395"
      },
      "execution_count": null,
      "outputs": [
        {
          "output_type": "stream",
          "name": "stdout",
          "text": [
            "df.info():\n",
            "<class 'pandas.core.frame.DataFrame'>\n",
            "RangeIndex: 8 entries, 0 to 7\n",
            "Data columns (total 4 columns):\n",
            " #   Column  Non-Null Count  Dtype \n",
            "---  ------  --------------  ----- \n",
            " 0   Name    8 non-null      object\n",
            " 1   Age     8 non-null      int64 \n",
            " 2   City    8 non-null      object\n",
            " 3   Score   8 non-null      int64 \n",
            "dtypes: int64(2), object(2)\n",
            "memory usage: 388.0+ bytes\n",
            "None\n",
            "\n",
            "df.shape:\n",
            "(8, 4)\n",
            "\n",
            "df.columns:\n",
            "Index(['Name', 'Age', 'City', 'Score'], dtype='object')\n",
            "\n",
            "df.index:\n",
            "RangeIndex(start=0, stop=8, step=1)\n"
          ]
        }
      ]
    },
    {
      "cell_type": "code",
      "source": [
        "\n",
        "# Descriptive Statistics\n",
        "print(\"\\ndf.describe():\")\n",
        "print(df.describe())  # Stats for numerical columns\n",
        "\n",
        "print(\"\\ndf.describe(include='all'):\")\n",
        "print(df.describe(include='all'))  # Stats for all columns including object types\n",
        "\n",
        "print(\"\\ndf['City'].value_counts():\")\n",
        "print(df['City'].value_counts())  # Counts of unique values in City\n",
        "\n",
        "print(\"\\ndf['City'].unique():\")\n",
        "print(df['City'].unique())  # Unique values in City\n",
        "\n",
        "print(\"\\ndf['City'].nunique():\")\n",
        "print(df['City'].nunique())  # Number of unique cities\n"
      ],
      "metadata": {
        "colab": {
          "base_uri": "https://localhost:8080/"
        },
        "id": "jV42T7clJPH7",
        "outputId": "c1eecdda-36cc-4d89-8e4e-432a928d5a57"
      },
      "execution_count": null,
      "outputs": [
        {
          "output_type": "stream",
          "name": "stdout",
          "text": [
            "\n",
            "df.describe():\n",
            "             Age      Score\n",
            "count   8.000000   8.000000\n",
            "mean   32.625000  88.500000\n",
            "std     5.730557   2.672612\n",
            "min    25.000000  85.000000\n",
            "25%    28.750000  86.500000\n",
            "50%    31.500000  89.000000\n",
            "75%    36.250000  90.250000\n",
            "max    41.000000  92.000000\n",
            "\n",
            "df.describe(include='all'):\n",
            "         Name        Age City      Score\n",
            "count       8   8.000000    8   8.000000\n",
            "unique      8        NaN    3        NaN\n",
            "top     Alice        NaN   NY        NaN\n",
            "freq        1        NaN    3        NaN\n",
            "mean      NaN  32.625000  NaN  88.500000\n",
            "std       NaN   5.730557  NaN   2.672612\n",
            "min       NaN  25.000000  NaN  85.000000\n",
            "25%       NaN  28.750000  NaN  86.500000\n",
            "50%       NaN  31.500000  NaN  89.000000\n",
            "75%       NaN  36.250000  NaN  90.250000\n",
            "max       NaN  41.000000  NaN  92.000000\n",
            "\n",
            "df['City'].value_counts():\n",
            "City\n",
            "NY         3\n",
            "LA         3\n",
            "Chicago    2\n",
            "Name: count, dtype: int64\n",
            "\n",
            "df['City'].unique():\n",
            "['NY' 'LA' 'Chicago']\n",
            "\n",
            "df['City'].nunique():\n",
            "3\n"
          ]
        }
      ]
    },
    {
      "cell_type": "code",
      "source": [
        "\n",
        "# Data Inspection\n",
        "print(\"\\ndf.head(3):\")\n",
        "print(df.head(3))  # First 3 rows\n",
        "\n",
        "print(\"\\ndf.tail(2):\")\n",
        "print(df.tail(2))  # Last 2 rows\n",
        "\n",
        "print(\"\\ndf.sample(3):\")\n",
        "print(df.sample(3))  # Random 3 rows\n"
      ],
      "metadata": {
        "colab": {
          "base_uri": "https://localhost:8080/"
        },
        "id": "Yznj771tJYCc",
        "outputId": "c95cb7b6-d30a-4edc-e8b4-7961dae4e399"
      },
      "execution_count": null,
      "outputs": [
        {
          "output_type": "stream",
          "name": "stdout",
          "text": [
            "\n",
            "df.head(3):\n",
            "      Name  Age City  Score\n",
            "0    Alice   25   NY     85\n",
            "1      Bob   30   LA     90\n",
            "2  Charlie   35   NY     88\n",
            "\n",
            "df.tail(2):\n",
            "    Name  Age City  Score\n",
            "6  Grace   29   NY     90\n",
            "7  Henry   41   LA     91\n",
            "\n",
            "df.sample(3):\n",
            "      Name  Age City  Score\n",
            "7    Henry   41   LA     91\n",
            "2  Charlie   35   NY     88\n",
            "0    Alice   25   NY     85\n"
          ]
        }
      ]
    },
    {
      "cell_type": "markdown",
      "source": [
        "\n",
        "### 3.3.4 Selecting and Filtering Data\n",
        "\n",
        "Accessing specific subsets of your data is fundamental for analysis.\n",
        "\n",
        "* **Column Selection:**\n",
        "    * `df['column_name']`: Select a single column (returns a Series).\n",
        "    * `df[['col1', 'col2']]`: Select multiple columns (returns a DataFrame).\n",
        "    * `df.column_name`: Shorthand for single column selection (not recommended if column name has spaces or conflicts with methods).\n",
        "\n",
        "* **Row Selection (Indexing):**\n",
        "    * **`.loc[]` (Label-based indexing):** Primarily for selection by label/name.\n",
        "        * `df.loc[row_label]`: Select a row by its label.\n",
        "        * `df.loc[row_label_start:row_label_end]`: Select a range of rows by label (inclusive).\n",
        "        * `df.loc[row_label, col_label]`: Select a specific cell.\n",
        "        * `df.loc[:, 'col_name']`: Select all rows for a specific column.\n",
        "        * `df.loc[boolean_condition]`: Filtering rows based on a condition.\n",
        "    * **`.iloc[]` (Integer-position based indexing):** Primarily for selection by integer position.\n",
        "        * `df.iloc[row_index]`: Select a row by its integer position.\n",
        "        * `df.iloc[row_index_start:row_index_end]`: Select a range of rows by integer position (exclusive end).\n",
        "        * `df.iloc[row_index, col_index]`: Select a specific cell.\n",
        "        * `df.iloc[:, 0]`: Select all rows for the first column.\n",
        "\n",
        "* **Conditional Filtering (Boolean Indexing):**\n",
        "    * `df[df['column'] > value]`: Select rows where a column satisfies a condition.\n",
        "    * `df[(df['col1'] > value1) & (df['col2'] == 'text')]`: Combine multiple conditions using `&` (AND), `|` (OR), `~` (NOT).\n",
        "    * `df[df['column'].isin(['val1', 'val2'])]`: Select rows where a column's value is in a list.\n",
        "    * `df[df['column'].isnull()]`: Select rows with null values.\n",
        "    * `df[df['column'].notnull()]`: Select rows with non-null values.\n",
        "\n",
        "* **Examples of Selecting and Filtering Data**"
      ],
      "metadata": {
        "id": "yss17Peo3XBl"
      }
    },
    {
      "cell_type": "code",
      "source": [
        "# Sample DataFrame\n",
        "data = {\n",
        "    'Name': ['Alice', 'Bob', 'Charlie', 'David', 'Eva'],\n",
        "    'Age': [25, 30, 35, 40, 28],\n",
        "    'City': ['NY', 'LA', 'NY', 'Chicago', 'LA'],\n",
        "    'Score': [85, np.nan, 88, 92, 87]}\n",
        "df = pd.DataFrame(data)"
      ],
      "metadata": {
        "id": "SlSLFTfTKX46"
      },
      "execution_count": null,
      "outputs": []
    },
    {
      "cell_type": "code",
      "source": [
        "# --- Column Selection ---\n",
        "\n",
        "# Single column (Series)\n",
        "print(\"df['Name']:\\n\", df['Name'], \"\\n\")\n",
        "\n",
        "# Multiple columns (DataFrame)\n",
        "print(\"df[['Name', 'Score']]:\\n\", df[['Name', 'Score']], \"\\n\")\n",
        "\n",
        "# Shorthand attribute (Series) — use cautiously!\n",
        "print(\"df.Age:\\n\", df.Age, \"\\n\")"
      ],
      "metadata": {
        "colab": {
          "base_uri": "https://localhost:8080/"
        },
        "id": "RC0FAhgeKhY-",
        "outputId": "f4479594-8ea1-468d-e1d3-28b37211c2d0"
      },
      "execution_count": null,
      "outputs": [
        {
          "output_type": "stream",
          "name": "stdout",
          "text": [
            "df['Name']:\n",
            " 0      Alice\n",
            "1        Bob\n",
            "2    Charlie\n",
            "3      David\n",
            "4        Eva\n",
            "Name: Name, dtype: object \n",
            "\n",
            "df[['Name', 'Score']]:\n",
            "       Name  Score\n",
            "0    Alice   85.0\n",
            "1      Bob    NaN\n",
            "2  Charlie   88.0\n",
            "3    David   92.0\n",
            "4      Eva   87.0 \n",
            "\n",
            "df.Age:\n",
            " 0    25\n",
            "1    30\n",
            "2    35\n",
            "3    40\n",
            "4    28\n",
            "Name: Age, dtype: int64 \n",
            "\n"
          ]
        }
      ]
    },
    {
      "cell_type": "code",
      "source": [
        "\n",
        "# --- Row Selection (.loc) ---\n",
        "\n",
        "# Select row by label (index)\n",
        "print(\"df.loc[2]:\\n\", df.loc[2], \"\\n\")\n",
        "\n",
        "# Select rows by label range (inclusive)\n",
        "print(\"df.loc[1:3]:\\n\", df.loc[1:3], \"\\n\")\n",
        "\n",
        "# Select specific cell\n",
        "print(\"df.loc[3, 'City']:\", df.loc[3, 'City'], \"\\n\")\n",
        "\n",
        "# Select all rows for column\n",
        "print(\"df.loc[:, 'Score']:\\n\", df.loc[:, 'Score'], \"\\n\")\n",
        "\n",
        "# Filter rows where Age > 28\n",
        "print(\"df.loc[df['Age'] > 28]:\\n\", df.loc[df['Age'] > 28], \"\\n\")\n"
      ],
      "metadata": {
        "colab": {
          "base_uri": "https://localhost:8080/"
        },
        "id": "G4IHXmLsL757",
        "outputId": "673f79e1-8c5c-4f49-a6e5-9ac83ad56323"
      },
      "execution_count": null,
      "outputs": [
        {
          "output_type": "stream",
          "name": "stdout",
          "text": [
            "df.loc[2]:\n",
            " Name     Charlie\n",
            "Age           35\n",
            "City          NY\n",
            "Score       88.0\n",
            "Name: 2, dtype: object \n",
            "\n",
            "df.loc[1:3]:\n",
            "       Name  Age     City  Score\n",
            "1      Bob   30       LA    NaN\n",
            "2  Charlie   35       NY   88.0\n",
            "3    David   40  Chicago   92.0 \n",
            "\n",
            "df.loc[3, 'City']: Chicago \n",
            "\n",
            "df.loc[:, 'Score']:\n",
            " 0    85.0\n",
            "1     NaN\n",
            "2    88.0\n",
            "3    92.0\n",
            "4    87.0\n",
            "Name: Score, dtype: float64 \n",
            "\n",
            "df.loc[df['Age'] > 28]:\n",
            "       Name  Age     City  Score\n",
            "1      Bob   30       LA    NaN\n",
            "2  Charlie   35       NY   88.0\n",
            "3    David   40  Chicago   92.0 \n",
            "\n"
          ]
        }
      ]
    },
    {
      "cell_type": "code",
      "source": [
        "# --- Row Selection (.iloc) ---\n",
        "\n",
        "# Select row by integer position\n",
        "print(\"df.iloc[2]:\\n\", df.iloc[2], \"\\n\")\n",
        "\n",
        "# Select rows by integer slice (end exclusive)\n",
        "print(\"df.iloc[1:4]:\\n\", df.iloc[1:4], \"\\n\")\n",
        "\n",
        "# Select specific cell by position\n",
        "print(\"df.iloc[3, 2]:\", df.iloc[3, 2], \"\\n\")\n",
        "\n",
        "# Select all rows of first column\n",
        "print(\"df.iloc[:, 0]:\\n\", df.iloc[:, 0], \"\\n\")"
      ],
      "metadata": {
        "colab": {
          "base_uri": "https://localhost:8080/"
        },
        "id": "VWxibduUMAPz",
        "outputId": "94bb9029-e036-44f8-86da-65ca3aab6172"
      },
      "execution_count": null,
      "outputs": [
        {
          "output_type": "stream",
          "name": "stdout",
          "text": [
            "df.iloc[2]:\n",
            " Name     Charlie\n",
            "Age           35\n",
            "City          NY\n",
            "Score       88.0\n",
            "Name: 2, dtype: object \n",
            "\n",
            "df.iloc[1:4]:\n",
            "       Name  Age     City  Score\n",
            "1      Bob   30       LA    NaN\n",
            "2  Charlie   35       NY   88.0\n",
            "3    David   40  Chicago   92.0 \n",
            "\n",
            "df.iloc[3, 2]: Chicago \n",
            "\n",
            "df.iloc[:, 0]:\n",
            " 0      Alice\n",
            "1        Bob\n",
            "2    Charlie\n",
            "3      David\n",
            "4        Eva\n",
            "Name: Name, dtype: object \n",
            "\n"
          ]
        }
      ]
    },
    {
      "cell_type": "code",
      "source": [
        "# --- Conditional Filtering (Boolean Indexing) ---\n",
        "\n",
        "# Rows where Score > 85 (ignoring NaN automatically)\n",
        "print(\"df[df['Score'] > 85]:\\n\", df[df['Score'] > 85], \"\\n\")\n",
        "\n",
        "# Rows where Age > 28 AND City is 'NY'\n",
        "print(\"df[(df['Age'] > 28) & (df['City'] == 'NY')]:\\n\", df[(df['Age'] > 28) & (df['City'] == 'NY')], \"\\n\")\n",
        "\n",
        "# Rows where City is in ['NY', 'LA']\n",
        "print(\"df[df['City'].isin(['NY', 'LA'])]:\\n\", df[df['City'].isin(['NY', 'LA'])], \"\\n\")\n",
        "\n",
        "# Rows where Score is null\n",
        "print(\"df[df['Score'].isnull()]:\\n\", df[df['Score'].isnull()], \"\\n\")\n",
        "\n",
        "# Rows where Score is not null\n",
        "print(\"df[df['Score'].notnull()]:\\n\", df[df['Score'].notnull()], \"\\n\")\n"
      ],
      "metadata": {
        "colab": {
          "base_uri": "https://localhost:8080/"
        },
        "id": "dWUJLXdmMMsH",
        "outputId": "549f3dad-a534-4f70-a9f7-ae2a9823083b"
      },
      "execution_count": null,
      "outputs": [
        {
          "output_type": "stream",
          "name": "stdout",
          "text": [
            "df[df['Score'] > 85]:\n",
            "       Name  Age     City  Score\n",
            "2  Charlie   35       NY   88.0\n",
            "3    David   40  Chicago   92.0\n",
            "4      Eva   28       LA   87.0 \n",
            "\n",
            "df[(df['Age'] > 28) & (df['City'] == 'NY')]:\n",
            "       Name  Age City  Score\n",
            "2  Charlie   35   NY   88.0 \n",
            "\n",
            "df[df['City'].isin(['NY', 'LA'])]:\n",
            "       Name  Age City  Score\n",
            "0    Alice   25   NY   85.0\n",
            "1      Bob   30   LA    NaN\n",
            "2  Charlie   35   NY   88.0\n",
            "4      Eva   28   LA   87.0 \n",
            "\n",
            "df[df['Score'].isnull()]:\n",
            "   Name  Age City  Score\n",
            "1  Bob   30   LA    NaN \n",
            "\n",
            "df[df['Score'].notnull()]:\n",
            "       Name  Age     City  Score\n",
            "0    Alice   25       NY   85.0\n",
            "2  Charlie   35       NY   88.0\n",
            "3    David   40  Chicago   92.0\n",
            "4      Eva   28       LA   87.0 \n",
            "\n"
          ]
        }
      ]
    },
    {
      "cell_type": "markdown",
      "source": [
        "### 3.3.5 Cleaning and Preprocessing\n",
        "\n",
        "Data cleaning is a critical step to ensure data quality and prepare it for analysis.\n",
        "\n",
        "* **Handling Missing Data:**\n",
        "    * `df.isnull()` / `df.isna()`: Returns a boolean DataFrame indicating missing values.\n",
        "    * `df.notnull()` / `df.notna()`: Returns a boolean DataFrame indicating non-missing values.\n",
        "    * `df.dropna(axis=0/1, how='any'/'all', inplace=True)`: Remove rows or columns with missing values.\n",
        "        * `axis=0` (default): Drop rows. `axis=1`: Drop columns.\n",
        "        * `how='any'` (default): Drop if any NA values are present. `how='all'`: Drop if all values are NA.\n",
        "    * `df.fillna(value, method='ffill'/'bfill', inplace=True)`: Fill missing values.\n",
        "        * `value`: A scalar or dictionary to fill NaNs.\n",
        "        * `method='ffill'` (forward fill): Propagate last valid observation forward.\n",
        "        * `method='bfill'` (backward fill): Propagate next valid observation backward.\n",
        "\n",
        "* **Handling Duplicates:**\n",
        "    * `df.duplicated()`: Returns a boolean Series indicating duplicate rows.\n",
        "    * `df.drop_duplicates(subset=None, keep='first'/'last'/False, inplace=True)`: Remove duplicate rows.\n",
        "        * `subset`: Columns to consider for identifying duplicates.\n",
        "        * `keep='first'` (default): Keep the first occurrence. `keep='last'`: Keep the last. `keep=False`: Drop all duplicates.\n",
        "\n",
        "* **Data Type Conversion:**\n",
        "    * `df['column'].astype(dtype)`: Convert a column to a specified data type (e.g., `int`, `float`, `str`, `datetime`).\n",
        "    * `pd.to_numeric()`, `pd.to_datetime()`, `pd.to_timedelta()`: More robust functions for type conversion, especially with error handling (`errors='coerce'`).\n",
        "\n",
        "* **Renaming Columns/Index:**\n",
        "    * `df.rename(columns={'old_name': 'new_name'}, inplace=True)`: Rename specific columns.\n",
        "    * `df.columns = ['new_col1', 'new_col2', ...]`: Assign a new list of column names (requires all columns to be named).\n",
        "\n",
        "* **String Manipulation:**\n",
        "    * `df['column'].str.lower()` / `.str.upper()` / `.str.capitalize()`\n",
        "    * `df['column'].str.replace('old', 'new')`\n",
        "    * `df['column'].str.contains('pattern')`\n",
        "    * `df['column'].str.split('delimiter')`\n",
        "* **Examples of Cleaning and Preprocessing**\n",
        "\n"
      ],
      "metadata": {
        "id": "CIQtFvGW3IZH"
      }
    },
    {
      "cell_type": "code",
      "source": [
        "import pandas as pd\n",
        "import numpy as np\n",
        "data = {\n",
        "    'Name': ['Alice', 'Bob', 'Charlie', 'David', 'Eva', 'Bob'],\n",
        "    'Age': ['25', '30', np.nan, '40', '28', '30'],\n",
        "    'City': ['NY', 'LA', 'NY', np.nan, 'LA', 'LA'],\n",
        "    'Score': [85, 90, 88, 92, None, 90],\n",
        "    'Date': ['2022-01-01', '2022-01-02', 'not a date', '2022-01-04', '2022-01-05', '2022-01-02']\n",
        "}\n",
        "\n",
        "df = pd.DataFrame(data)\n",
        "\n",
        "print(\"Original DataFrame:\")\n",
        "print(df)"
      ],
      "metadata": {
        "colab": {
          "base_uri": "https://localhost:8080/"
        },
        "id": "_8jfoh65_prw",
        "outputId": "83eacab4-cfe9-4ee6-c0ab-5b04302e0011"
      },
      "execution_count": 4,
      "outputs": [
        {
          "output_type": "stream",
          "name": "stdout",
          "text": [
            "Original DataFrame:\n",
            "      Name  Age City  Score        Date\n",
            "0    Alice   25   NY   85.0  2022-01-01\n",
            "1      Bob   30   LA   90.0  2022-01-02\n",
            "2  Charlie  NaN   NY   88.0  not a date\n",
            "3    David   40  NaN   92.0  2022-01-04\n",
            "4      Eva   28   LA    NaN  2022-01-05\n",
            "5      Bob   30   LA   90.0  2022-01-02\n"
          ]
        }
      ]
    },
    {
      "cell_type": "code",
      "source": [
        "# --- Handling Missing Data ---\n",
        "\n",
        "# Detect missing values (boolean DataFrame)\n",
        "print(\"\\ndf.isnull():\")\n",
        "print(df.isnull())"
      ],
      "metadata": {
        "colab": {
          "base_uri": "https://localhost:8080/"
        },
        "id": "MvzSVScMALCI",
        "outputId": "e6965283-ffff-40f6-c8e7-0330f33eac66"
      },
      "execution_count": 5,
      "outputs": [
        {
          "output_type": "stream",
          "name": "stdout",
          "text": [
            "\n",
            "df.isnull():\n",
            "    Name    Age   City  Score   Date\n",
            "0  False  False  False  False  False\n",
            "1  False  False  False  False  False\n",
            "2  False   True  False  False  False\n",
            "3  False  False   True  False  False\n",
            "4  False  False  False   True  False\n",
            "5  False  False  False  False  False\n"
          ]
        }
      ]
    },
    {
      "cell_type": "code",
      "source": [
        "# Detect non-missing values\n",
        "print(\"\\ndf.notnull():\")\n",
        "print(df.notnull())"
      ],
      "metadata": {
        "colab": {
          "base_uri": "https://localhost:8080/"
        },
        "id": "NZAgJAo7AOKw",
        "outputId": "7c01ee62-8ed6-4b06-c8f3-d84f3bf62dd9"
      },
      "execution_count": 6,
      "outputs": [
        {
          "output_type": "stream",
          "name": "stdout",
          "text": [
            "\n",
            "df.notnull():\n",
            "   Name    Age   City  Score  Date\n",
            "0  True   True   True   True  True\n",
            "1  True   True   True   True  True\n",
            "2  True  False   True   True  True\n",
            "3  True   True  False   True  True\n",
            "4  True   True   True  False  True\n",
            "5  True   True   True   True  True\n"
          ]
        }
      ]
    },
    {
      "cell_type": "code",
      "source": [
        "# Drop rows with any missing values\n",
        "df_dropna = df.dropna(axis=0, how='any')\n",
        "print(\"\\nDataFrame after dropping rows with any NA:\")\n",
        "print(df_dropna)"
      ],
      "metadata": {
        "colab": {
          "base_uri": "https://localhost:8080/"
        },
        "id": "5jzFJgg8AUlc",
        "outputId": "27fdccbf-fcf5-4aa9-df92-00f891853e35"
      },
      "execution_count": 7,
      "outputs": [
        {
          "output_type": "stream",
          "name": "stdout",
          "text": [
            "\n",
            "DataFrame after dropping rows with any NA:\n",
            "    Name Age City  Score        Date\n",
            "0  Alice  25   NY   85.0  2022-01-01\n",
            "1    Bob  30   LA   90.0  2022-01-02\n",
            "5    Bob  30   LA   90.0  2022-01-02\n"
          ]
        }
      ]
    },
    {
      "cell_type": "code",
      "source": [
        "# Fill missing values in 'Score' with mean (inplace)\n",
        "mean_score = df['Score'].mean()\n",
        "df['Score'].fillna(mean_score, inplace=True)\n",
        "print(\"\\nFilled missing 'Score' with mean:\")\n",
        "print(df['Score'])"
      ],
      "metadata": {
        "colab": {
          "base_uri": "https://localhost:8080/"
        },
        "id": "fFZ9Nr_MAWh4",
        "outputId": "cf518f63-62db-42ac-d64f-38bc49190321"
      },
      "execution_count": 8,
      "outputs": [
        {
          "output_type": "stream",
          "name": "stdout",
          "text": [
            "\n",
            "Filled missing 'Score' with mean:\n",
            "0    85.0\n",
            "1    90.0\n",
            "2    88.0\n",
            "3    92.0\n",
            "4    89.0\n",
            "5    90.0\n",
            "Name: Score, dtype: float64\n"
          ]
        },
        {
          "output_type": "stream",
          "name": "stderr",
          "text": [
            "/tmp/ipython-input-8-1598703206.py:3: FutureWarning: A value is trying to be set on a copy of a DataFrame or Series through chained assignment using an inplace method.\n",
            "The behavior will change in pandas 3.0. This inplace method will never work because the intermediate object on which we are setting values always behaves as a copy.\n",
            "\n",
            "For example, when doing 'df[col].method(value, inplace=True)', try using 'df.method({col: value}, inplace=True)' or df[col] = df[col].method(value) instead, to perform the operation inplace on the original object.\n",
            "\n",
            "\n",
            "  df['Score'].fillna(mean_score, inplace=True)\n"
          ]
        }
      ]
    },
    {
      "cell_type": "code",
      "source": [
        "# Forward fill missing 'City'\n",
        "df['City'].fillna(method='ffill', inplace=True)\n",
        "print(\"\\nForward filled missing 'City':\")\n",
        "print(df['City'])"
      ],
      "metadata": {
        "colab": {
          "base_uri": "https://localhost:8080/"
        },
        "id": "YAtSyTkVAgr8",
        "outputId": "908d9210-73c4-4bb1-f1eb-c5508c9dfbec"
      },
      "execution_count": 9,
      "outputs": [
        {
          "output_type": "stream",
          "name": "stdout",
          "text": [
            "\n",
            "Forward filled missing 'City':\n",
            "0    NY\n",
            "1    LA\n",
            "2    NY\n",
            "3    NY\n",
            "4    LA\n",
            "5    LA\n",
            "Name: City, dtype: object\n"
          ]
        },
        {
          "output_type": "stream",
          "name": "stderr",
          "text": [
            "/tmp/ipython-input-9-2648084590.py:2: FutureWarning: A value is trying to be set on a copy of a DataFrame or Series through chained assignment using an inplace method.\n",
            "The behavior will change in pandas 3.0. This inplace method will never work because the intermediate object on which we are setting values always behaves as a copy.\n",
            "\n",
            "For example, when doing 'df[col].method(value, inplace=True)', try using 'df.method({col: value}, inplace=True)' or df[col] = df[col].method(value) instead, to perform the operation inplace on the original object.\n",
            "\n",
            "\n",
            "  df['City'].fillna(method='ffill', inplace=True)\n",
            "/tmp/ipython-input-9-2648084590.py:2: FutureWarning: Series.fillna with 'method' is deprecated and will raise in a future version. Use obj.ffill() or obj.bfill() instead.\n",
            "  df['City'].fillna(method='ffill', inplace=True)\n"
          ]
        }
      ]
    },
    {
      "cell_type": "code",
      "source": [
        "# --- Handling Duplicates ---\n",
        "\n",
        "# Check for duplicates (boolean Series)\n",
        "print(\"\\ndf.duplicated():\")\n",
        "print(df.duplicated())"
      ],
      "metadata": {
        "colab": {
          "base_uri": "https://localhost:8080/"
        },
        "id": "BRAK8QkiAiRs",
        "outputId": "115b0bf8-77e2-416e-eb88-293f88cc4fab"
      },
      "execution_count": 10,
      "outputs": [
        {
          "output_type": "stream",
          "name": "stdout",
          "text": [
            "\n",
            "df.duplicated():\n",
            "0    False\n",
            "1    False\n",
            "2    False\n",
            "3    False\n",
            "4    False\n",
            "5     True\n",
            "dtype: bool\n"
          ]
        }
      ]
    },
    {
      "cell_type": "code",
      "source": [
        "# Drop duplicate rows, keep first occurrence\n",
        "df_no_duplicates = df.drop_duplicates()\n",
        "print(\"\\nDataFrame after dropping duplicates:\")\n",
        "print(df_no_duplicates)\n"
      ],
      "metadata": {
        "colab": {
          "base_uri": "https://localhost:8080/"
        },
        "id": "cX0tQG5cAqXX",
        "outputId": "2021ae33-3545-489b-a087-c1636ff0c3e4"
      },
      "execution_count": 11,
      "outputs": [
        {
          "output_type": "stream",
          "name": "stdout",
          "text": [
            "\n",
            "DataFrame after dropping duplicates:\n",
            "      Name  Age City  Score        Date\n",
            "0    Alice   25   NY   85.0  2022-01-01\n",
            "1      Bob   30   LA   90.0  2022-01-02\n",
            "2  Charlie  NaN   NY   88.0  not a date\n",
            "3    David   40   NY   92.0  2022-01-04\n",
            "4      Eva   28   LA   89.0  2022-01-05\n"
          ]
        }
      ]
    },
    {
      "cell_type": "code",
      "source": [
        "# --- Data Type Conversion ---\n",
        "\n",
        "# Convert 'Age' column to numeric (coerce errors to NaN)\n",
        "df['Age'] = pd.to_numeric(df['Age'], errors='coerce')\n",
        "print(\"\\nConverted 'Age' to numeric:\")\n",
        "print(df['Age'])"
      ],
      "metadata": {
        "colab": {
          "base_uri": "https://localhost:8080/"
        },
        "id": "pxglBf5mAuwc",
        "outputId": "87977e67-c2b6-47cc-be9b-f4cd76201a7b"
      },
      "execution_count": 12,
      "outputs": [
        {
          "output_type": "stream",
          "name": "stdout",
          "text": [
            "\n",
            "Converted 'Age' to numeric:\n",
            "0    25.0\n",
            "1    30.0\n",
            "2     NaN\n",
            "3    40.0\n",
            "4    28.0\n",
            "5    30.0\n",
            "Name: Age, dtype: float64\n"
          ]
        }
      ]
    },
    {
      "cell_type": "code",
      "source": [
        "# Convert 'Date' to datetime (coerce errors to NaT)\n",
        "df['Date'] = pd.to_datetime(df['Date'], errors='coerce')\n",
        "print(\"\\nConverted 'Date' to datetime:\")\n",
        "print(df['Date'])"
      ],
      "metadata": {
        "colab": {
          "base_uri": "https://localhost:8080/"
        },
        "id": "7TByLIa3AzAc",
        "outputId": "59250e57-3510-46a0-f1cd-db7a64d448a9"
      },
      "execution_count": 13,
      "outputs": [
        {
          "output_type": "stream",
          "name": "stdout",
          "text": [
            "\n",
            "Converted 'Date' to datetime:\n",
            "0   2022-01-01\n",
            "1   2022-01-02\n",
            "2          NaT\n",
            "3   2022-01-04\n",
            "4   2022-01-05\n",
            "5   2022-01-02\n",
            "Name: Date, dtype: datetime64[ns]\n"
          ]
        }
      ]
    },
    {
      "cell_type": "code",
      "source": [
        "# --- Renaming Columns ---\n",
        "\n",
        "# Rename 'Score' column to 'Exam_Score'\n",
        "df.rename(columns={'Score': 'Exam_Score'}, inplace=True)\n",
        "print(\"\\nRenamed 'Score' to 'Exam_Score':\")\n",
        "print(df.columns)"
      ],
      "metadata": {
        "colab": {
          "base_uri": "https://localhost:8080/"
        },
        "id": "PpBacLMZA4DZ",
        "outputId": "283a79f2-bcc8-4e44-b3ac-a440a30f2e4b"
      },
      "execution_count": 14,
      "outputs": [
        {
          "output_type": "stream",
          "name": "stdout",
          "text": [
            "\n",
            "Renamed 'Score' to 'Exam_Score':\n",
            "Index(['Name', 'Age', 'City', 'Exam_Score', 'Date'], dtype='object')\n"
          ]
        }
      ]
    },
    {
      "cell_type": "code",
      "source": [
        "# Rename all columns at once\n",
        "df.columns = ['FullName', 'Age', 'City', 'Exam_Score', 'Exam_Date']\n",
        "print(\"\\nRenamed all columns:\")\n",
        "print(df.columns)"
      ],
      "metadata": {
        "colab": {
          "base_uri": "https://localhost:8080/"
        },
        "id": "wB_T6t9VA8Pt",
        "outputId": "f15e3be7-59dd-432f-9f34-a52637dbdb4a"
      },
      "execution_count": 15,
      "outputs": [
        {
          "output_type": "stream",
          "name": "stdout",
          "text": [
            "\n",
            "Renamed all columns:\n",
            "Index(['FullName', 'Age', 'City', 'Exam_Score', 'Exam_Date'], dtype='object')\n"
          ]
        }
      ]
    },
    {
      "cell_type": "code",
      "source": [
        "# --- String Manipulation ---\n",
        "\n",
        "# Convert 'FullName' to lowercase\n",
        "print(\"\\nFullName in lowercase:\")\n",
        "print(df['FullName'].str.lower())\n"
      ],
      "metadata": {
        "colab": {
          "base_uri": "https://localhost:8080/"
        },
        "id": "MDSroKCKBAi5",
        "outputId": "e96f8014-9122-4fb7-c426-556dd635418e"
      },
      "execution_count": 16,
      "outputs": [
        {
          "output_type": "stream",
          "name": "stdout",
          "text": [
            "\n",
            "FullName in lowercase:\n",
            "0      alice\n",
            "1        bob\n",
            "2    charlie\n",
            "3      david\n",
            "4        eva\n",
            "5        bob\n",
            "Name: FullName, dtype: object\n"
          ]
        }
      ]
    },
    {
      "cell_type": "code",
      "source": [
        "# Replace 'la' with 'Los Angeles' in 'City' (case-insensitive)\n",
        "print(\"\\nReplace 'la' with 'Los Angeles' in City:\")\n",
        "print(df['City'].str.replace('la', 'Los Angeles', case=False))"
      ],
      "metadata": {
        "colab": {
          "base_uri": "https://localhost:8080/"
        },
        "id": "vFqz9uGNBGsT",
        "outputId": "3ce1b545-aaea-4224-d685-25a07d9db015"
      },
      "execution_count": 17,
      "outputs": [
        {
          "output_type": "stream",
          "name": "stdout",
          "text": [
            "\n",
            "Replace 'la' with 'Los Angeles' in City:\n",
            "0             NY\n",
            "1    Los Angeles\n",
            "2             NY\n",
            "3             NY\n",
            "4    Los Angeles\n",
            "5    Los Angeles\n",
            "Name: City, dtype: object\n"
          ]
        }
      ]
    },
    {
      "cell_type": "code",
      "source": [
        "# Check if 'City' contains substring 'NY'\n",
        "print(\"\\nCheck if 'City' contains 'NY':\")\n",
        "print(df['City'].str.contains('NY'))"
      ],
      "metadata": {
        "colab": {
          "base_uri": "https://localhost:8080/"
        },
        "id": "JsFsv-CpBMZd",
        "outputId": "f587a265-1c5b-471f-bea0-a0dd5757cb6c"
      },
      "execution_count": 18,
      "outputs": [
        {
          "output_type": "stream",
          "name": "stdout",
          "text": [
            "\n",
            "Check if 'City' contains 'NY':\n",
            "0     True\n",
            "1    False\n",
            "2     True\n",
            "3     True\n",
            "4    False\n",
            "5    False\n",
            "Name: City, dtype: bool\n"
          ]
        }
      ]
    },
    {
      "cell_type": "code",
      "source": [
        "# Split 'FullName' by 'i' character\n",
        "print(\"\\nSplit 'FullName' by 'i':\")\n",
        "print(df['FullName'].str.split('i'))"
      ],
      "metadata": {
        "colab": {
          "base_uri": "https://localhost:8080/"
        },
        "id": "hTYAxZktBRBp",
        "outputId": "07dc4b47-69f5-4171-b402-b3238827a4a9"
      },
      "execution_count": 19,
      "outputs": [
        {
          "output_type": "stream",
          "name": "stdout",
          "text": [
            "\n",
            "Split 'FullName' by 'i':\n",
            "0      [Al, ce]\n",
            "1         [Bob]\n",
            "2    [Charl, e]\n",
            "3      [Dav, d]\n",
            "4         [Eva]\n",
            "5         [Bob]\n",
            "Name: FullName, dtype: object\n"
          ]
        }
      ]
    },
    {
      "cell_type": "markdown",
      "source": [
        "### 3.3.6 Grouping and Aggregation\n",
        "\n",
        "Grouping allows you to split data into groups based on some criteria, apply a function to each group independently, and then combine the results.\n",
        "\n",
        "* **`df.groupby('column_name')`:** Creates a `DataFrameGroupBy` object.\n",
        "    * Can group by a single column, multiple columns, or a Series/list.\n",
        "\n",
        "* **Aggregation Functions:** Applied after `groupby()` to each group.\n",
        "    * `sum()`: Sum of values in each group.\n",
        "    * `mean()`: Mean of values.\n",
        "    * `median()`: Median of values.\n",
        "    * `min()`: Minimum value.\n",
        "    * `max()`: Maximum value.\n",
        "    * `std()`: Standard deviation.\n",
        "    * `count()`: Number of non-null values.\n",
        "    * `size()`: Number of values (including nulls).\n",
        "    * `first()` / `last()`: First/last value in each group.\n",
        "    * `nth(n)`: Nth value in each group.\n",
        "    * `agg()`: Apply multiple aggregation functions or custom functions.\n",
        "        * `df.groupby('column').agg({'col1': 'mean', 'col2': ['min', 'max']})`\n",
        "\n",
        "* **`pivot_table()`:** Used for summarizing and reorganizing data, similar to Excel pivot tables.\n",
        "    * `pd.pivot_table(df, values='column_to_aggregate', index='rows', columns='columns', aggfunc='mean')`\n",
        "    * **Parameters:** `values`, `index`, `columns`, `aggfunc`, `fill_value`, `margins`.\n",
        "* **Examples of Grouping and Aggregation\n"
      ],
      "metadata": {
        "id": "VxRDVud03Lr8"
      }
    },
    {
      "cell_type": "code",
      "source": [
        "# Sample DataFrame\n",
        "data = {\n",
        "    'Department': ['Sales', 'Sales', 'HR', 'HR', 'IT', 'IT', 'IT'],\n",
        "    'Employee': ['Alice', 'Bob', 'Charlie', 'David', 'Eva', 'Frank', 'Grace'],\n",
        "    'Salary': [70000, 80000, 60000, 62000, 75000, np.nan, 72000],\n",
        "    'Experience': [5, 6, 4, 5, 7, 8, 6]\n",
        "}\n",
        "\n",
        "df = pd.DataFrame(data)\n",
        "print(\"Original DataFrame:\")\n",
        "print(df)"
      ],
      "metadata": {
        "colab": {
          "base_uri": "https://localhost:8080/"
        },
        "id": "AIFAOuWwBpyq",
        "outputId": "a2f79aa3-2472-4ac1-db05-633971adf353"
      },
      "execution_count": 20,
      "outputs": [
        {
          "output_type": "stream",
          "name": "stdout",
          "text": [
            "Original DataFrame:\n",
            "  Department Employee   Salary  Experience\n",
            "0      Sales    Alice  70000.0           5\n",
            "1      Sales      Bob  80000.0           6\n",
            "2         HR  Charlie  60000.0           4\n",
            "3         HR    David  62000.0           5\n",
            "4         IT      Eva  75000.0           7\n",
            "5         IT    Frank      NaN           8\n",
            "6         IT    Grace  72000.0           6\n"
          ]
        }
      ]
    },
    {
      "cell_type": "code",
      "source": [
        "# Group by Department\n",
        "grouped = df.groupby('Department')\n",
        "print(\"\\ngrouped object type:\", type(grouped))"
      ],
      "metadata": {
        "colab": {
          "base_uri": "https://localhost:8080/"
        },
        "id": "N8qn19q3BvzR",
        "outputId": "96a1ba71-4b1c-44ea-ab83-d13f0ce2a799"
      },
      "execution_count": 21,
      "outputs": [
        {
          "output_type": "stream",
          "name": "stdout",
          "text": [
            "\n",
            "grouped object type: <class 'pandas.core.groupby.generic.DataFrameGroupBy'>\n"
          ]
        }
      ]
    },
    {
      "cell_type": "code",
      "source": [
        "# Sum of salaries by department\n",
        "print(\"\\nSum of Salary by Department:\")\n",
        "print(grouped['Salary'].sum())\n",
        "\n",
        "# Mean salary by department\n",
        "print(\"\\nMean Salary by Department:\")\n",
        "print(grouped['Salary'].mean())\n",
        "\n",
        "# Median experience by department\n",
        "print(\"\\nMedian Experience by Department:\")\n",
        "print(grouped['Experience'].median())\n",
        "\n",
        "# Min salary by department\n",
        "print(\"\\nMinimum Salary by Department:\")\n",
        "print(grouped['Salary'].min())\n",
        "\n",
        "# Max salary by department\n",
        "print(\"\\nMaximum Salary by Department:\")\n",
        "print(grouped['Salary'].max())\n",
        "\n",
        "# Standard deviation of salary\n",
        "print(\"\\nStandard Deviation of Salary:\")\n",
        "print(grouped['Salary'].std())\n",
        "\n",
        "# Count of non-null salaries\n",
        "print(\"\\nCount of non-null salaries:\")\n",
        "print(grouped['Salary'].count())\n",
        "\n",
        "# Size of each group (includes NaNs)\n",
        "print(\"\\nSize of each department group:\")\n",
        "print(grouped.size())\n",
        "\n",
        "# First employee in each group\n",
        "print(\"\\nFirst employee in each department:\")\n",
        "print(grouped['Employee'].first())\n",
        "\n",
        "# Last employee in each group\n",
        "print(\"\\nLast employee in each department:\")\n",
        "print(grouped['Employee'].last())\n",
        "\n",
        "# Second employee (nth = 1, since index is zero-based)\n",
        "print(\"\\nSecond employee in each department:\")\n",
        "print(grouped['Employee'].nth(1))\n"
      ],
      "metadata": {
        "colab": {
          "base_uri": "https://localhost:8080/"
        },
        "id": "iX1zqTDgB3gQ",
        "outputId": "f075144e-6de6-4189-efbe-d4f61afc8089"
      },
      "execution_count": 22,
      "outputs": [
        {
          "output_type": "stream",
          "name": "stdout",
          "text": [
            "\n",
            "Sum of Salary by Department:\n",
            "Department\n",
            "HR       122000.0\n",
            "IT       147000.0\n",
            "Sales    150000.0\n",
            "Name: Salary, dtype: float64\n",
            "\n",
            "Mean Salary by Department:\n",
            "Department\n",
            "HR       61000.0\n",
            "IT       73500.0\n",
            "Sales    75000.0\n",
            "Name: Salary, dtype: float64\n",
            "\n",
            "Median Experience by Department:\n",
            "Department\n",
            "HR       4.5\n",
            "IT       7.0\n",
            "Sales    5.5\n",
            "Name: Experience, dtype: float64\n",
            "\n",
            "Minimum Salary by Department:\n",
            "Department\n",
            "HR       60000.0\n",
            "IT       72000.0\n",
            "Sales    70000.0\n",
            "Name: Salary, dtype: float64\n",
            "\n",
            "Maximum Salary by Department:\n",
            "Department\n",
            "HR       62000.0\n",
            "IT       75000.0\n",
            "Sales    80000.0\n",
            "Name: Salary, dtype: float64\n",
            "\n",
            "Standard Deviation of Salary:\n",
            "Department\n",
            "HR       1414.213562\n",
            "IT       2121.320344\n",
            "Sales    7071.067812\n",
            "Name: Salary, dtype: float64\n",
            "\n",
            "Count of non-null salaries:\n",
            "Department\n",
            "HR       2\n",
            "IT       2\n",
            "Sales    2\n",
            "Name: Salary, dtype: int64\n",
            "\n",
            "Size of each department group:\n",
            "Department\n",
            "HR       2\n",
            "IT       3\n",
            "Sales    2\n",
            "dtype: int64\n",
            "\n",
            "First employee in each department:\n",
            "Department\n",
            "HR       Charlie\n",
            "IT           Eva\n",
            "Sales      Alice\n",
            "Name: Employee, dtype: object\n",
            "\n",
            "Last employee in each department:\n",
            "Department\n",
            "HR       David\n",
            "IT       Grace\n",
            "Sales      Bob\n",
            "Name: Employee, dtype: object\n",
            "\n",
            "Second employee in each department:\n",
            "1      Bob\n",
            "3    David\n",
            "5    Frank\n",
            "Name: Employee, dtype: object\n"
          ]
        }
      ]
    },
    {
      "cell_type": "code",
      "source": [
        "# Multiple aggregations per column\n",
        "print(\"\\nAggregate Salary (mean, min, max), Experience (mean):\")\n",
        "print(df.groupby('Department').agg({\n",
        "    'Salary': ['mean', 'min', 'max'],\n",
        "    'Experience': 'mean'\n",
        "}))\n"
      ],
      "metadata": {
        "colab": {
          "base_uri": "https://localhost:8080/"
        },
        "id": "d1NZj4YdCGCF",
        "outputId": "51f7c81a-50aa-4a65-83bf-60d52ab4af8f"
      },
      "execution_count": 23,
      "outputs": [
        {
          "output_type": "stream",
          "name": "stdout",
          "text": [
            "\n",
            "Aggregate Salary (mean, min, max), Experience (mean):\n",
            "             Salary                   Experience\n",
            "               mean      min      max       mean\n",
            "Department                                      \n",
            "HR          61000.0  60000.0  62000.0        4.5\n",
            "IT          73500.0  72000.0  75000.0        7.0\n",
            "Sales       75000.0  70000.0  80000.0        5.5\n"
          ]
        }
      ]
    },
    {
      "cell_type": "code",
      "source": [
        "# Pivot table: average salary by department\n",
        "pivot = pd.pivot_table(\n",
        "    df,\n",
        "    values='Salary',\n",
        "    index='Department',\n",
        "    columns='Experience',\n",
        "    aggfunc='mean',\n",
        "    fill_value=0\n",
        ")\n",
        "\n",
        "print(\"\\nPivot Table - Mean Salary by Department and Experience:\")\n",
        "print(pivot)\n"
      ],
      "metadata": {
        "colab": {
          "base_uri": "https://localhost:8080/"
        },
        "id": "ODZ8U8QBCPRZ",
        "outputId": "f2af8a44-dcdd-48ea-ab6f-9bf70183d416"
      },
      "execution_count": 24,
      "outputs": [
        {
          "output_type": "stream",
          "name": "stdout",
          "text": [
            "\n",
            "Pivot Table - Mean Salary by Department and Experience:\n",
            "Experience        4        5        6        7\n",
            "Department                                    \n",
            "HR          60000.0  62000.0      0.0      0.0\n",
            "IT              0.0      0.0  72000.0  75000.0\n",
            "Sales           0.0  70000.0  80000.0      0.0\n"
          ]
        }
      ]
    },
    {
      "cell_type": "markdown",
      "source": [
        "### 3.3.7 Merging and Joining\n",
        "\n",
        "Combining DataFrames is a common operation when data is spread across multiple sources.\n",
        "\n",
        "* **`pd.concat([df1, df2])`:** Concatenates DataFrames along a particular axis.\n",
        "    * `axis=0` (default): Stacks rows (vertical concatenation).\n",
        "    * `axis=1`: Stacks columns (horizontal concatenation).\n",
        "    * `ignore_index=True`: Resets the index after concatenation.\n",
        "\n",
        "* **`pd.merge(left, right, on='key', how='inner/outer/left/right')`:** Combines DataFrames based on common columns (keys). Similar to SQL JOINs.\n",
        "    * `left`, `right`: The DataFrames to merge.\n",
        "    * `on`: Column(s) to join on. If not specified, `merge` uses overlapping column names as keys.\n",
        "    * `left_on`, `right_on`: Specify different join keys for left and right DataFrames.\n",
        "    * `how`: Type of merge:\n",
        "        * `'inner'` (default): Returns only rows where the key exists in both DataFrames.\n",
        "        * `'outer'`: Returns all rows, filling `NaN` for non-matching values.\n",
        "        * `'left'`: Returns all rows from the left DataFrame, and matching rows from the right.\n",
        "        * `'right'`: Returns all rows from the right DataFrame, and matching rows from the left.\n",
        "\n",
        "* **`df.join(other_df, on='key', how='left')`:** Similar to `merge`, but defaults to joining on the index of the left DataFrame or a specified key. Often used for combining DataFrames on their indexes.\n",
        "* **Examples of Merging and Joining**\n"
      ],
      "metadata": {
        "id": "moJMVOoJ27cX"
      }
    },
    {
      "cell_type": "code",
      "source": [
        "# DataFrame 1\n",
        "df1 = pd.DataFrame({\n",
        "    'ID': [1, 2, 3],\n",
        "    'Name': ['Alice', 'Bob', 'Charlie']\n",
        "})\n",
        "\n",
        "# DataFrame 2\n",
        "df2 = pd.DataFrame({\n",
        "    'ID': [3, 4, 5],\n",
        "    'Department': ['HR', 'IT', 'Finance']\n",
        "})\n",
        "\n",
        "# DataFrame 3 (for join and concat examples)\n",
        "df3 = pd.DataFrame({\n",
        "    'Age': [25, 30, 35]\n",
        "}, index=[0, 1, 2])\n",
        "\n",
        "df4 = pd.DataFrame({\n",
        "    'Salary': [70000, 80000, 90000]\n",
        "}, index=[0, 1, 2])\n"
      ],
      "metadata": {
        "id": "H9ourAj62693"
      },
      "execution_count": 25,
      "outputs": []
    },
    {
      "cell_type": "code",
      "source": [
        "# Vertical concatenation (row-wise)\n",
        "concat_vertical = pd.concat([df1, df2], axis=0, ignore_index=True)\n",
        "print(\"Vertical Concatenation:\\n\", concat_vertical, \"\\n\")\n",
        "\n",
        "# Horizontal concatenation (column-wise)\n",
        "concat_horizontal = pd.concat([df3, df4], axis=1)\n",
        "print(\"Horizontal Concatenation:\\n\", concat_horizontal, \"\\n\")\n"
      ],
      "metadata": {
        "colab": {
          "base_uri": "https://localhost:8080/"
        },
        "id": "2U20PzlICqQ-",
        "outputId": "5c2ed5f0-26f1-4a59-cf0b-1ec0f2b7ee88"
      },
      "execution_count": 26,
      "outputs": [
        {
          "output_type": "stream",
          "name": "stdout",
          "text": [
            "Vertical Concatenation:\n",
            "    ID     Name Department\n",
            "0   1    Alice        NaN\n",
            "1   2      Bob        NaN\n",
            "2   3  Charlie        NaN\n",
            "3   3      NaN         HR\n",
            "4   4      NaN         IT\n",
            "5   5      NaN    Finance \n",
            "\n",
            "Horizontal Concatenation:\n",
            "    Age  Salary\n",
            "0   25   70000\n",
            "1   30   80000\n",
            "2   35   90000 \n",
            "\n"
          ]
        }
      ]
    },
    {
      "cell_type": "code",
      "source": [
        "# Inner join on 'ID' (only matching IDs from both)\n",
        "merge_inner = pd.merge(df1, df2, on='ID', how='inner')\n",
        "print(\"Inner Merge:\\n\", merge_inner, \"\\n\")\n",
        "\n",
        "# Outer join on 'ID' (all IDs, fill NaN for non-matches)\n",
        "merge_outer = pd.merge(df1, df2, on='ID', how='outer')\n",
        "print(\"Outer Merge:\\n\", merge_outer, \"\\n\")\n",
        "\n",
        "# Left join on 'ID' (all rows from df1, match df2 where possible)\n",
        "merge_left = pd.merge(df1, df2, on='ID', how='left')\n",
        "print(\"Left Merge:\\n\", merge_left, \"\\n\")\n",
        "\n",
        "# Right join on 'ID' (all rows from df2, match df1 where possible)\n",
        "merge_right = pd.merge(df1, df2, on='ID', how='right')\n",
        "print(\"Right Merge:\\n\", merge_right, \"\\n\")\n"
      ],
      "metadata": {
        "colab": {
          "base_uri": "https://localhost:8080/"
        },
        "id": "W3F9P0gkCy6h",
        "outputId": "f90dd212-eaa0-40eb-f37c-ba23f401188b"
      },
      "execution_count": 27,
      "outputs": [
        {
          "output_type": "stream",
          "name": "stdout",
          "text": [
            "Inner Merge:\n",
            "    ID     Name Department\n",
            "0   3  Charlie         HR \n",
            "\n",
            "Outer Merge:\n",
            "    ID     Name Department\n",
            "0   1    Alice        NaN\n",
            "1   2      Bob        NaN\n",
            "2   3  Charlie         HR\n",
            "3   4      NaN         IT\n",
            "4   5      NaN    Finance \n",
            "\n",
            "Left Merge:\n",
            "    ID     Name Department\n",
            "0   1    Alice        NaN\n",
            "1   2      Bob        NaN\n",
            "2   3  Charlie         HR \n",
            "\n",
            "Right Merge:\n",
            "    ID     Name Department\n",
            "0   3  Charlie         HR\n",
            "1   4      NaN         IT\n",
            "2   5      NaN    Finance \n",
            "\n"
          ]
        }
      ]
    },
    {
      "cell_type": "code",
      "source": [
        "# Using df3 and df4 (aligned by index)\n",
        "join_index = df3.join(df4)\n",
        "print(\"Join on Index:\\n\", join_index, \"\\n\")\n",
        "\n",
        "# Join using a key (when index is not aligned)\n",
        "# Prepare DataFrames\n",
        "df_left = pd.DataFrame({\n",
        "    'emp_id': [1, 2, 3],\n",
        "    'name': ['Alice', 'Bob', 'Charlie']\n",
        "})\n",
        "\n",
        "df_right = pd.DataFrame({\n",
        "    'emp_id': [2, 3, 4],\n",
        "    'department': ['HR', 'IT', 'Marketing']\n",
        "})\n",
        "\n",
        "# Set index for join\n",
        "df_left_indexed = df_left.set_index('emp_id')\n",
        "df_right_indexed = df_right.set_index('emp_id')\n",
        "\n",
        "# Left join using index\n",
        "join_keyed = df_left_indexed.join(df_right_indexed, how='left')\n",
        "print(\"Join on Index with Key:\\n\", join_keyed.reset_index(), \"\\n\")\n"
      ],
      "metadata": {
        "colab": {
          "base_uri": "https://localhost:8080/"
        },
        "id": "jWOn_fJyC2IJ",
        "outputId": "058f643c-24cf-447b-9bd4-079eae17a601"
      },
      "execution_count": 28,
      "outputs": [
        {
          "output_type": "stream",
          "name": "stdout",
          "text": [
            "Join on Index:\n",
            "    Age  Salary\n",
            "0   25   70000\n",
            "1   30   80000\n",
            "2   35   90000 \n",
            "\n",
            "Join on Index with Key:\n",
            "    emp_id     name department\n",
            "0       1    Alice        NaN\n",
            "1       2      Bob         HR\n",
            "2       3  Charlie         IT \n",
            "\n"
          ]
        }
      ]
    },
    {
      "cell_type": "markdown",
      "source": [
        "### 3.3.8 Time Series Basics\n",
        "\n",
        "Pandas has excellent support for time-series data, making it a powerful tool for financial, scientific, and other time-dependent analyses.\n",
        "\n",
        "* **DateTime Index:**\n",
        "    * `pd.to_datetime()`: Converts various date/time formats to datetime objects.\n",
        "    * `pd.to_timedelta()`: Converts to timedelta objects.\n",
        "    * `pd.date_range()`: Generates a fixed frequency datetime index.\n",
        "    * Setting a datetime column as the DataFrame index (`df.set_index('Date', inplace=True)`) allows for powerful time-based indexing and operations.\n",
        "\n",
        "* **Time-based Selection:**\n",
        "    * `df['YYYY']`: Selects data for a specific year.\n",
        "    * `df['YYYY-MM']`: Selects data for a specific month.\n",
        "    * `df['YYYY-MM-DD']`: Selects data for a specific day.\n",
        "    * Slicing with dates: `df['2023-01-01':'2023-03-31']`\n",
        "\n",
        "* **Resampling:** Changing the frequency of time series data.\n",
        "    * `df.resample('Frequency_Code')`: Downsampling (e.g., from daily to monthly) or upsampling (e.g., from daily to hourly).\n",
        "    * **Frequency Codes:**\n",
        "        * `'D'`: Daily\n",
        "        * `'W'`: Weekly\n",
        "        * `'M'`: Monthly\n",
        "        * `'Q'`: Quarterly\n",
        "        * `'A'`: Annually\n",
        "        * `'H'`: Hourly\n",
        "        * `'min'`: Minute\n",
        "    * **Aggregation:** After resampling, apply an aggregation function like `.mean()`, `.sum()`, `.ohlc()` (Open, High, Low, Close).\n",
        "\n",
        "* **Shifting:** Shifting data points forward or backward in time.\n",
        "    * `df['column'].shift(periods)`: Shifts values by a specified number of periods. Useful for calculating percentage changes or comparing current values with past/future values.\n",
        "* **Examples of Time Series Basics**"
      ],
      "metadata": {
        "id": "V1h1HVis20Nu"
      }
    },
    {
      "cell_type": "code",
      "source": [
        "# Create sample datetime range and data\n",
        "date_range = pd.date_range(start='2023-01-01', periods=10, freq='D')\n",
        "df = pd.DataFrame({\n",
        "    'Date': date_range,\n",
        "    'Sales': np.random.randint(100, 500, size=10)\n",
        "})\n",
        "\n",
        "# Convert Date column to datetime (if not already)\n",
        "df['Date'] = pd.to_datetime(df['Date'])\n",
        "\n",
        "# Set Date as index\n",
        "df.set_index('Date', inplace=True)\n",
        "\n",
        "print(\"Original Time Series DataFrame:\\n\", df)"
      ],
      "metadata": {
        "id": "ognpamKf2zAM",
        "colab": {
          "base_uri": "https://localhost:8080/"
        },
        "outputId": "aea3aef2-f79a-40e3-cbf1-2bddcb3c0dd0"
      },
      "execution_count": 29,
      "outputs": [
        {
          "output_type": "stream",
          "name": "stdout",
          "text": [
            "Original Time Series DataFrame:\n",
            "             Sales\n",
            "Date             \n",
            "2023-01-01    461\n",
            "2023-01-02    119\n",
            "2023-01-03    406\n",
            "2023-01-04    472\n",
            "2023-01-05    225\n",
            "2023-01-06    200\n",
            "2023-01-07    300\n",
            "2023-01-08    406\n",
            "2023-01-09    396\n",
            "2023-01-10    499\n"
          ]
        }
      ]
    },
    {
      "cell_type": "code",
      "source": [
        "# Convert string to datetime\n",
        "dates = pd.to_datetime(['2023-01-01', '2023-01-15', '2023-02-01'])\n",
        "print(\"\\npd.to_datetime():\\n\", dates)\n",
        "\n",
        "# Timedelta example\n",
        "delta = pd.to_timedelta(['1 day', '2 days', '3 hours'])\n",
        "print(\"\\npd.to_timedelta():\\n\", delta)\n",
        "\n",
        "# Generate a datetime range\n",
        "range_monthly = pd.date_range(start='2023-01-01', periods=3, freq='M')\n",
        "print(\"\\npd.date_range() monthly:\\n\", range_monthly)\n"
      ],
      "metadata": {
        "colab": {
          "base_uri": "https://localhost:8080/"
        },
        "id": "gXKGrjnmEM6O",
        "outputId": "02b108f2-1bfb-4853-cbe9-ab89e44a3776"
      },
      "execution_count": 30,
      "outputs": [
        {
          "output_type": "stream",
          "name": "stdout",
          "text": [
            "\n",
            "pd.to_datetime():\n",
            " DatetimeIndex(['2023-01-01', '2023-01-15', '2023-02-01'], dtype='datetime64[ns]', freq=None)\n",
            "\n",
            "pd.to_timedelta():\n",
            " TimedeltaIndex(['1 days 00:00:00', '2 days 00:00:00', '0 days 03:00:00'], dtype='timedelta64[ns]', freq=None)\n",
            "\n",
            "pd.date_range() monthly:\n",
            " DatetimeIndex(['2023-01-31', '2023-02-28', '2023-03-31'], dtype='datetime64[ns]', freq='ME')\n"
          ]
        },
        {
          "output_type": "stream",
          "name": "stderr",
          "text": [
            "/tmp/ipython-input-30-1871036031.py:10: FutureWarning: 'M' is deprecated and will be removed in a future version, please use 'ME' instead.\n",
            "  range_monthly = pd.date_range(start='2023-01-01', periods=3, freq='M')\n"
          ]
        }
      ]
    },
    {
      "cell_type": "code",
      "source": [
        "df.index = pd.to_datetime(df.index)\n",
        "\n",
        "#  Select by Year (2023)\n",
        "print(\"\\nTime-based selection by year:\")\n",
        "print(df.loc['2023'])\n",
        "\n",
        "#  Select by Month (e.g., January 2023)\n",
        "print(\"\\nTime-based selection by month:\")\n",
        "print(df.loc['2023-01'])\n",
        "\n",
        "#  Select by Exact Day\n",
        "print(\"\\nTime-based selection by specific day:\")\n",
        "print(df.loc['2023-01-05'])\n",
        "\n",
        "#  Date slicing\n",
        "print(\"\\nDate range slicing:\")\n",
        "print(df.loc['2023-01-03':'2023-01-07'])\n"
      ],
      "metadata": {
        "colab": {
          "base_uri": "https://localhost:8080/"
        },
        "id": "CbT_ZpuxEasj",
        "outputId": "0f16d478-6a17-4c6b-aba5-c58bb74b969d"
      },
      "execution_count": 33,
      "outputs": [
        {
          "output_type": "stream",
          "name": "stdout",
          "text": [
            "\n",
            "Time-based selection by year:\n",
            "            Sales\n",
            "Date             \n",
            "2023-01-01    461\n",
            "2023-01-02    119\n",
            "2023-01-03    406\n",
            "2023-01-04    472\n",
            "2023-01-05    225\n",
            "2023-01-06    200\n",
            "2023-01-07    300\n",
            "2023-01-08    406\n",
            "2023-01-09    396\n",
            "2023-01-10    499\n",
            "\n",
            "Time-based selection by month:\n",
            "            Sales\n",
            "Date             \n",
            "2023-01-01    461\n",
            "2023-01-02    119\n",
            "2023-01-03    406\n",
            "2023-01-04    472\n",
            "2023-01-05    225\n",
            "2023-01-06    200\n",
            "2023-01-07    300\n",
            "2023-01-08    406\n",
            "2023-01-09    396\n",
            "2023-01-10    499\n",
            "\n",
            "Time-based selection by specific day:\n",
            "Sales    225\n",
            "Name: 2023-01-05 00:00:00, dtype: int64\n",
            "\n",
            "Date range slicing:\n",
            "            Sales\n",
            "Date             \n",
            "2023-01-03    406\n",
            "2023-01-04    472\n",
            "2023-01-05    225\n",
            "2023-01-06    200\n",
            "2023-01-07    300\n"
          ]
        }
      ]
    },
    {
      "cell_type": "code",
      "source": [
        "# Resample daily data to 3-day sum\n",
        "resampled_sum = df.resample('3D').sum()\n",
        "print(\"\\nResampled (3-day sum):\\n\", resampled_sum)\n",
        "\n",
        "# Resample daily data to weekly mean\n",
        "resampled_mean = df.resample('W').mean()\n",
        "print(\"\\nResampled weekly mean:\\n\", resampled_mean)\n",
        "\n",
        "# Resample and get OHLC (Open, High, Low, Close)\n",
        "resampled_ohlc = df.resample('W').ohlc()\n",
        "print(\"\\nResampled weekly OHLC:\\n\", resampled_ohlc)\n"
      ],
      "metadata": {
        "colab": {
          "base_uri": "https://localhost:8080/"
        },
        "id": "zf-1et5vFJgk",
        "outputId": "edf854c4-5318-4288-9afb-36cfaba0c9f4"
      },
      "execution_count": 34,
      "outputs": [
        {
          "output_type": "stream",
          "name": "stdout",
          "text": [
            "\n",
            "Resampled (3-day sum):\n",
            "             Sales\n",
            "Date             \n",
            "2023-01-01    986\n",
            "2023-01-04    897\n",
            "2023-01-07   1102\n",
            "2023-01-10    499\n",
            "\n",
            "Resampled weekly mean:\n",
            "             Sales\n",
            "Date             \n",
            "2023-01-01  461.0\n",
            "2023-01-08  304.0\n",
            "2023-01-15  447.5\n",
            "\n",
            "Resampled weekly OHLC:\n",
            "            Sales                \n",
            "            open high  low close\n",
            "Date                            \n",
            "2023-01-01   461  461  461   461\n",
            "2023-01-08   119  472  119   406\n",
            "2023-01-15   396  499  396   499\n"
          ]
        }
      ]
    },
    {
      "cell_type": "code",
      "source": [
        "# Shift sales values by 1 day forward\n",
        "df['Shifted+1'] = df['Sales'].shift(1)\n",
        "print(\"\\nSales with 1-day forward shift:\\n\", df)\n",
        "\n",
        "# Calculate daily change\n",
        "df['Daily Change'] = df['Sales'] - df['Shifted+1']\n",
        "print(\"\\nDaily change in sales:\\n\", df)\n"
      ],
      "metadata": {
        "colab": {
          "base_uri": "https://localhost:8080/"
        },
        "id": "mRQec06yFTbR",
        "outputId": "249c6095-2d1d-4869-c0b9-5a339d1ddcaf"
      },
      "execution_count": 35,
      "outputs": [
        {
          "output_type": "stream",
          "name": "stdout",
          "text": [
            "\n",
            "Sales with 1-day forward shift:\n",
            "             Sales  Shifted+1\n",
            "Date                        \n",
            "2023-01-01    461        NaN\n",
            "2023-01-02    119      461.0\n",
            "2023-01-03    406      119.0\n",
            "2023-01-04    472      406.0\n",
            "2023-01-05    225      472.0\n",
            "2023-01-06    200      225.0\n",
            "2023-01-07    300      200.0\n",
            "2023-01-08    406      300.0\n",
            "2023-01-09    396      406.0\n",
            "2023-01-10    499      396.0\n",
            "\n",
            "Daily change in sales:\n",
            "             Sales  Shifted+1  Daily Change\n",
            "Date                                      \n",
            "2023-01-01    461        NaN           NaN\n",
            "2023-01-02    119      461.0        -342.0\n",
            "2023-01-03    406      119.0         287.0\n",
            "2023-01-04    472      406.0          66.0\n",
            "2023-01-05    225      472.0        -247.0\n",
            "2023-01-06    200      225.0         -25.0\n",
            "2023-01-07    300      200.0         100.0\n",
            "2023-01-08    406      300.0         106.0\n",
            "2023-01-09    396      406.0         -10.0\n",
            "2023-01-10    499      396.0         103.0\n"
          ]
        }
      ]
    },
    {
      "cell_type": "markdown",
      "source": [
        "## 3.4. Matplotlib – Static Data Visualization"
      ],
      "metadata": {
        "id": "Zzlnhsq-Wvkl"
      }
    },
    {
      "cell_type": "markdown",
      "source": [
        "Matplotlib is a comprehensive library for creating static, animated, and interactive visualizations in Python. It is widely used for generating plots, histograms, power spectra, bar charts, error charts, scatter plots, etc., with a strong emphasis on flexibility and customization.\n",
        "\n",
        "### 3.4.1 Basics of Pyplot\n",
        "\n",
        "`matplotlib.pyplot` is a collection of command-style functions that make Matplotlib work like MATLAB. Each `pyplot` function makes some change to a figure, e.g., creates a figure, creates a plotting area in a figure, plots some lines in a plotting area, decorates the plot with labels, etc.\n",
        "\n",
        "  * **Import Convention:**"
      ],
      "metadata": {
        "id": "uPNzZa0LWqfX"
      }
    },
    {
      "cell_type": "code",
      "source": [
        "import matplotlib.pyplot as plt"
      ],
      "metadata": {
        "id": "CPXYY41uWtaM"
      },
      "execution_count": 36,
      "outputs": []
    },
    {
      "cell_type": "markdown",
      "source": [
        "* **Figure and Axes:**\n",
        "\n",
        "      * **Figure:** The overall window or page on which everything is drawn. You can have multiple independent figures.\n",
        "      * **Axes:** The area where the data is actually plotted with `x` and `y` (or `z`) ticks and labels. A Figure can contain multiple Axes, but a given Axes object can only be in one Figure.\n",
        "      * **Object-Oriented Interface (Recommended for complex plots):**"
      ],
      "metadata": {
        "id": "npW_tyjZXFHJ"
      }
    },
    {
      "cell_type": "code",
      "source": [
        "#Examples\n",
        "x = [1, 2, 3, 4, 5]\n",
        "y = [2, 3, 5, 7, 11]\n",
        "fig, ax = plt.subplots() # Creates a figure and a single axes\n",
        "ax.plot(x, y) # Plot on the axes\n",
        "ax.set_xlabel('X-axis')\n",
        "ax.set_ylabel('Y-axis')\n",
        "ax.set_title('My Plot')\n",
        "plt.show()"
      ],
      "metadata": {
        "colab": {
          "base_uri": "https://localhost:8080/",
          "height": 472
        },
        "id": "VLuDMOL8W4Lt",
        "outputId": "ee0ea5bf-8ae1-4c52-ec0f-80fa784d0c66"
      },
      "execution_count": 37,
      "outputs": [
        {
          "output_type": "display_data",
          "data": {
            "text/plain": [
              "<Figure size 640x480 with 1 Axes>"
            ],
            "image/png": "[encoded data removed]"
          },
          "metadata": {}
        }
      ]
    },
    {
      "cell_type": "markdown",
      "source": [
        "* **Pyplot Interface (Simpler for quick plots):**"
      ],
      "metadata": {
        "id": "T3xZvsmxXarT"
      }
    },
    {
      "cell_type": "code",
      "source": [
        "plt.plot(x, y) # Plots on the current axes, or creates one if none exists\n",
        "plt.xlabel('X-axis')\n",
        "plt.ylabel('Y-axis')\n",
        "plt.title('My Plot')\n",
        "plt.show()"
      ],
      "metadata": {
        "colab": {
          "base_uri": "https://localhost:8080/",
          "height": 472
        },
        "id": "wQoACwBRXLV_",
        "outputId": "b07c8708-f281-40d7-f91a-ea5bd3044f38"
      },
      "execution_count": null,
      "outputs": [
        {
          "output_type": "display_data",
          "data": {
            "text/plain": [
              "<Figure size 640x480 with 1 Axes>"
            ],
            "image/png": "[encoded data removed]"
          },
          "metadata": {}
        }
      ]
    },
    {
      "cell_type": "markdown",
      "source": [
        "* **Basic Plot Types:**\n",
        "\n",
        "      * `plt.plot(x, y)`: Line plot (most common).\n",
        "          * Can take a format string (e.g., `'r--'` for red dashed line).\n",
        "      * `plt.scatter(x, y)`: Scatter plot.\n",
        "      * `plt.bar(x, height)`: Bar chart (vertical bars).\n",
        "      * `plt.barh(y, width)`: Horizontal bar chart.\n",
        "      * `plt.hist(data)`: Histogram (covered in 3.4.5).\n",
        "      * `plt.boxplot(data)`: Box plot (covered in 3.4.5).\n",
        "      * `plt.pie(data)`: Pie chart.\n",
        "\n",
        "  * **Displaying Plots:**\n",
        "\n",
        "      * `plt.show()`: Displays the figure. This function blocks execution until the figure is closed and is essential for displaying plots when running scripts. In interactive environments (like Jupyter Notebooks), plots might display automatically without `plt.show()`, but it's good practice to include it.\n",
        "\n",
        "### 3.4.2 Labels, Titles, and Legends\n",
        "\n",
        "Adding descriptive text elements is crucial for making plots understandable.\n",
        "\n",
        "  * **Titles:**\n",
        "\n",
        "      * `plt.title('Main Plot Title')`\n",
        "      * `ax.set_title('Main Plot Title')`\n",
        "\n",
        "  * **Axis Labels:**\n",
        "\n",
        "      * `plt.xlabel('X-axis Label')`\n",
        "      * `plt.ylabel('Y-axis Label')`\n",
        "      * `ax.set_xlabel('X-axis Label')`\n",
        "      * `ax.set_ylabel('Y-axis Label')`\n",
        "\n",
        "  * **Legends:** Used to distinguish multiple data series on the same plot.\n",
        "\n",
        "      * When plotting, provide a `label` argument: `plt.plot(x, y1, label='Series 1')`\n",
        "      * Then, call `plt.legend()` or `ax.legend()` to display the legend.\n",
        "      * **Location:** Use `loc` argument (e.g., `loc='upper right'`, `loc='best'`).\n",
        "\n",
        "  * **Text Annotations:**\n",
        "\n",
        "      * `plt.text(x, y, 'Text', ...)`: Add text at arbitrary `x, y` coordinates.\n",
        "      * `plt.annotate('Annotation', xy=(x_data, y_data), xytext=(x_text, y_text), arrowprops=dict(facecolor='black', shrink=0.05))`\n",
        "\n",
        "### 3.4.3 Subplots and Layouts\n",
        "\n",
        "Organizing multiple plots within a single figure is often necessary for comparative analysis.\n",
        "\n",
        "  * **`plt.subplot(nrows, ncols, index)`:** Creates a grid of subplots and selects the `index`-th plot (1-based indexing, top-to-bottom, left-to-right)."
      ],
      "metadata": {
        "id": "Qb_zhMKDYLBL"
      }
    },
    {
      "cell_type": "code",
      "source": [
        "x1 = [0, 1, 2, 3, 4]\n",
        "y1 = [0, 1, 4, 9, 16]\n",
        "\n",
        "x2 = [0, 1, 2, 3, 4]\n",
        "y2 = [0, -1, -2, -3, -4]\n",
        "\n",
        "x3 = [0, 1, 2, 3, 4]\n",
        "y3 = [1, 2, 3, 4, 5]\n",
        "\n",
        "x4 = [0, 1, 2, 3, 4]\n",
        "y4 = [5, 4, 3, 2, 1]\n",
        "plt.subplot(2, 2, 1) # Top-left plot\n",
        "plt.plot(x1, y1)\n",
        "plt.subplot(2, 2, 2) # Top-right plot\n",
        "plt.plot(x2, y2) # ... and so on\n",
        "plt.tight_layout() # Adjust subplot parameters for a tight layout\n",
        "plt.show()"
      ],
      "metadata": {
        "colab": {
          "base_uri": "https://localhost:8080/",
          "height": 266
        },
        "id": "MYAfi3Q-XqRv",
        "outputId": "4c50b18f-9785-45ef-fdee-747e1d3da348"
      },
      "execution_count": null,
      "outputs": [
        {
          "output_type": "display_data",
          "data": {
            "text/plain": [
              "<Figure size 640x480 with 2 Axes>"
            ],
            "image/png": "[encoded data removed]"
          },
          "metadata": {}
        }
      ]
    },
    {
      "cell_type": "markdown",
      "source": [
        "* **`plt.subplots(nrows=1, ncols=1, figsize=...)`:** The recommended object-oriented way to create a figure and a grid of subplots. Returns a `Figure` object and an `Axes` (or array of `Axes`) object(s)."
      ],
      "metadata": {
        "id": "-fQRuWo_Ywq_"
      }
    },
    {
      "cell_type": "code",
      "source": [
        "x2 = [1, 2, 3, 4, 5]\n",
        "y2 = [5, 4, 3, 2, 1]\n",
        "data3 = np.random.randn(100)  # Histogram data\n",
        "x4 = ['A', 'B', 'C', 'D']\n",
        "y4 = [10, 20, 15, 5]\n",
        "fig, axes = plt.subplots(nrows=2, ncols=2, figsize=(10, 8))\n",
        "    # axes is now a 2x2 NumPy array of Axes objects\n",
        "axes[0, 0].plot(x1, y1)\n",
        "axes[0, 0].set_title('Plot 1')\n",
        "axes[0, 1].scatter(x2, y2)\n",
        "axes[1, 0].hist(data3)\n",
        "axes[1, 1].bar(x4, y4)\n",
        "plt.tight_layout()\n",
        "plt.show()"
      ],
      "metadata": {
        "colab": {
          "base_uri": "https://localhost:8080/",
          "height": 670
        },
        "id": "Qb8XfjXMYdaj",
        "outputId": "beff2d09-c24e-44ab-9ff2-3c1e51ee4167"
      },
      "execution_count": null,
      "outputs": [
        {
          "output_type": "display_data",
          "data": {
            "text/plain": [
              "<Figure size 1000x800 with 4 Axes>"
            ],
            "image/png": "[encoded data removed]"
          },
          "metadata": {}
        }
      ]
    },
    {
      "cell_type": "markdown",
      "source": [
        "* If `nrows` or `ncols` is 1, `axes` might be a 1D array. You can iterate or flatten it: `for ax in axes.flat:`.\n",
        "\n",
        "  * **`fig.add_axes([left, bottom, width, height])`:** Adds an Axes to the figure at a specified rectangular position `[left, bottom, width, height]` in normalized figure coordinates (0 to 1). This is useful for placing arbitrary axes, like insets.\n",
        "\n",
        "### 3.4.4 Styling and Customization\n",
        "\n",
        "Matplotlib offers extensive options to customize the appearance of your plots.\n",
        "\n",
        "  * **Line Properties:**\n",
        "\n",
        "      * `color` (e.g., `'red'`, `'#FF0000'`, `(0.1, 0.2, 0.3)`)\n",
        "      * `linestyle` (e.g., `'solid'`, `'dashed'`, `'dotted'`, `'dashdot'`)\n",
        "      * `linewidth` (e.g., `2.5`)\n",
        "      * `marker` (e.g., `'o'`, `'^'`, `'s'`)\n",
        "      * `markersize`\n",
        "      * `alpha` (transparency, from 0 to 1)\n",
        "\n",
        "    Example: `plt.plot(x, y, color='blue', linestyle='--', linewidth=2, marker='o', markersize=6)`\n",
        "\n",
        "  * **Axis Limits:**\n",
        "\n",
        "      * `plt.xlim(xmin, xmax)` / `ax.set_xlim(xmin, xmax)`\n",
        "      * `plt.ylim(ymin, ymax)` / `ax.set_ylim(ymin, ymax)`\n",
        "\n",
        "  * **Ticks and Tick Labels:**\n",
        "\n",
        "      * `plt.xticks()` / `ax.set_xticks()`: Set tick locations.\n",
        "      * `plt.yticks()` / `ax.set_yticks()`: Set tick locations.\n",
        "      * `plt.tick_params()` / `ax.tick_params()`: Customize tick properties (direction, length, color).\n",
        "\n",
        "  * **Grids:**\n",
        "\n",
        "      * `plt.grid(True)` / `ax.grid(True)`: Add a grid to the plot.\n",
        "      * Can customize `linestyle`, `color`, `alpha`.\n",
        "\n",
        "  * **Figure Size:**\n",
        "\n",
        "      * `plt.figure(figsize=(width, height))` (in inches)\n",
        "      * `fig, ax = plt.subplots(figsize=(width, height))`\n",
        "\n",
        "  * **Styles:** Matplotlib provides predefined styles to quickly change the aesthetic of plots.\n",
        "\n",
        "      * `plt.style.use('ggplot')`\n",
        "      * `plt.style.use('seaborn-v0_8')`\n",
        "      * `plt.style.available`: Lists available styles.\n",
        "\n",
        "### 3.4.5 Histograms and Boxplots\n",
        "\n",
        "These are specific types of plots frequently used for visualizing data distributions.\n",
        "\n",
        "  * **Histograms (`plt.hist()` / `ax.hist()`):**\n",
        "\n",
        "      * Shows the distribution of a single numerical variable.\n",
        "      * Divides the data into bins and counts the number of observations in each bin.\n",
        "      * **Key Arguments:**\n",
        "          * `bins`: Number of bins or a sequence of bin edges.\n",
        "          * `range`: The lower and upper range of the bins.\n",
        "          * `density=True`: If `True`, the integral of the histogram will sum to 1 (normalized to form a probability density).\n",
        "          * `alpha`: Transparency.\n",
        "          * `color`: Bar color.\n",
        "          * `edgecolor`: Color of bar edges.\n",
        "\n",
        "    Example: `plt.hist(data, bins=20, density=True, color='skyblue', edgecolor='black')`\n",
        "\n",
        "  * **Boxplots (`plt.boxplot()` / `ax.boxplot()`):**\n",
        "\n",
        "      * Displays the distribution of a numerical variable and highlights outliers.\n",
        "      * Shows the median, quartiles (25th and 75th percentile), and potential outliers.\n",
        "      * **Elements:**\n",
        "          * **Box:** Represents the interquartile range (IQR), from Q1 (25th percentile) to Q3 (75th percentile).\n",
        "          * **Line inside box:** Represents the median (Q2, 50th percentile).\n",
        "          * **Whiskers:** Extend from the box to show the range of the data, typically $1.5 \\\\times IQR$ from the quartiles. Data points outside the whiskers are considered outliers.\n",
        "          * **Outliers:** Plotted as individual points.\n",
        "      * Can plot multiple boxplots for different groups in a single call.\n",
        "\n",
        "    Example: `plt.boxplot(data, vert=True, patch_artist=True)` (for single dataset)\n",
        "    Example: `plt.boxplot([data1, data2, data3], labels=['Group A', 'Group B', 'Group C'])` (for multiple datasets)\n",
        "\n",
        "### 3.4.6 Saving Plots\n",
        "\n",
        "Saving your visualizations in various formats is essential for reports, presentations, and sharing.\n",
        "\n",
        "  * **`plt.savefig('filename.png', dpi=300, bbox_inches='tight')`**\n",
        "\n",
        "      * **`filename`:** The path and name for the saved file (e.g., `'my_plot.png'`, `'report_figure.pdf'`).\n",
        "      * **`dpi` (Dots Per Inch):** Resolution of the saved image. Higher DPI means better quality but larger file size. Common values are 150, 300, 600.\n",
        "      * **`format`:** The file format (e.g., `'png'`, `'jpg'`, `'pdf'`, `'svg'`). Matplotlib infers this from the filename extension, but you can explicitly set it.\n",
        "          * **PNG/JPG:** Raster images, good for web, fixed resolution.\n",
        "          * **PDF/SVG:** Vector graphics, scalable without loss of quality, good for print and interactive viewing (SVG).\n",
        "      * **`bbox_inches='tight'`:** Ensures that all elements of the plot (including labels and titles) are included in the saved figure without extra whitespace.\n",
        "\n",
        "  * **Saving a Specific Figure (Object-Oriented):**"
      ],
      "metadata": {
        "id": "_xdWZ_9OZces"
      }
    },
    {
      "cell_type": "markdown",
      "source": [
        "## 3.5. Seaborn – Statistical Visualization"
      ],
      "metadata": {
        "id": "Y2RnpTSwZlxt"
      }
    },
    {
      "cell_type": "markdown",
      "source": [
        "Seaborn is a Python data visualization library based on Matplotlib. It provides a high-level interface for drawing attractive and informative statistical graphics. Seaborn is particularly well-suited for exploring relationships between multiple variables and presenting statistical summaries.\n",
        "\n",
        "### 3.5.1 Introduction and Styling\n",
        "\n",
        "  * **Relationship with Matplotlib:** Seaborn builds on top of Matplotlib. This means you can use Matplotlib functions to further customize Seaborn plots (e.g., setting titles, labels, or adjusting figure size).\n",
        "  * **Import Convention:**"
      ],
      "metadata": {
        "id": "QQdxJDuyZnuI"
      }
    },
    {
      "cell_type": "code",
      "source": [
        "import seaborn as sns\n",
        "import matplotlib.pyplot as plt # Often used together\n",
        "import pandas as pd # For data handling"
      ],
      "metadata": {
        "id": "ljirOltsY0hM"
      },
      "execution_count": null,
      "outputs": []
    },
    {
      "cell_type": "markdown",
      "source": [
        "* **Loading Datasets:** Seaborn comes with built-in datasets for practice and examples."
      ],
      "metadata": {
        "id": "mCydSzotZ5Ol"
      }
    },
    {
      "cell_type": "code",
      "source": [
        "tips = sns.load_dataset('tips')\n",
        "flights = sns.load_dataset('flights')"
      ],
      "metadata": {
        "id": "rpw06-o5Zyhg"
      },
      "execution_count": null,
      "outputs": []
    },
    {
      "cell_type": "markdown",
      "source": [
        "* **Styling and Themes:** Seaborn offers various pre-defined styles to quickly change the aesthetic of your plots, making them more visually appealing.\n",
        "      * `sns.set_style('darkgrid')`: Dark background with a grid.\n",
        "      * `sns.set_style('whitegrid')`: White background with a grid.\n",
        "      * `sns.set_style('dark')`: Dark background, no grid.\n",
        "      * `sns.set_style('white')`: White background, no grid.\n",
        "      * `sns.set_style('ticks')`: White background with ticks on axes.\n",
        "      * `sns.set_theme()`: A high-level function to set the aesthetic style of the plots. Can combine `style`, `palette`, `font`, `font_scale`, `color_codes`.\n",
        "      * `sns.set_palette('viridis')`: Set the color palette for all plots.\n",
        "      * `sns.despine()`: Removes the top and right spines from plots, often used with `white` or `whitegrid` styles.\n",
        "  * **Figure-level vs. Axes-level Functions:**\n",
        "      * **Axes-level functions:** Most Seaborn functions are axes-level, meaning they plot onto a single `matplotlib.axes.Axes` object. They typically return the `Axes` object. Example: `sns.scatterplot()`, `sns.histplot()`.\n",
        "      * **Figure-level functions:** A few Seaborn functions operate at the figure level, meaning they create an entire figure with multiple axes (e.g., `sns.relplot`, `sns.displot`, `sns.catplot`). They return a `seaborn.FacetGrid` object. These are useful for visualizing relationships across multiple subsets of your data.\n",
        "\n",
        "### 3.5.2 Distribution Plots\n",
        "\n",
        "Visualizing the distribution of a single variable or the joint distribution of two variables.\n",
        "\n",
        "  * **`sns.histplot()`:** Plot a histogram of a numerical variable. Similar to `plt.hist()` but with more statistical features.\n",
        "\n",
        "      * **Arguments:** `data`, `x` (or `y`), `bins`, `kde` (kernel density estimate), `hue` (for separate histograms by category), `stat` (e.g., 'count', 'density', 'probability').\n",
        "      * Example: `sns.histplot(data=df, x='column_name', kde=True)`\n",
        "\n",
        "  * **`sns.kdeplot()`:** Plot a Kernel Density Estimate (KDE). Represents the probability density function of a continuous variable.\n",
        "\n",
        "      * **Arguments:** `data`, `x` (or `y`), `hue`, `fill` (to fill the area under the curve).\n",
        "      * Example: `sns.kdeplot(data=df, x='column_name', fill=True)`\n",
        "\n",
        "  * **`sns.ecdfplot()`:** Plot an Empirical Cumulative Distribution Function (ECDF). Shows the proportion of observations that fall below each value in a dataset.\n",
        "\n",
        "      * Example: `sns.ecdfplot(data=df, x='column_name')`\n",
        "\n",
        "  * **`sns.rugplot()`:** Draws ticks on the axes representing individual observations. Often used in conjunction with `kdeplot` or `histplot`.\n",
        "\n",
        "      * Example: `sns.rugplot(data=df, x='column_name')`\n",
        "\n",
        "  * **`sns.displot()` (Figure-level):** A flexible function that can draw histograms, KDEs, or ECDFs, and can facet the plots across multiple variables.\n",
        "\n",
        "      * **Arguments:** `data`, `x` (or `y`), `kind` ('hist', 'kde', 'ecdf'), `col`, `row` (for faceting), `hue`.\n",
        "      * Example: `sns.displot(data=df, x='total_bill', kind='kde', col='time')`\n",
        "\n",
        "### 3.5.3 Categorical Plots\n",
        "\n",
        "Visualizing relationships between a numerical variable and one or more categorical variables.\n",
        "\n",
        "  * **`sns.boxplot()`:** Draws a boxplot showing the distribution of a numerical variable across different categories.\n",
        "\n",
        "      * **Arguments:** `data`, `x` (categorical), `y` (numerical), `hue`.\n",
        "      * Example: `sns.boxplot(data=df, x='day', y='total_bill')`\n",
        "\n",
        "  * **`sns.violinplot()`:** Combines a boxplot with a KDE plot. Shows the distribution shape, median, and quartiles.\n",
        "\n",
        "      * **Arguments:** `data`, `x` (categorical), `y` (numerical), `hue`, `inner` ('box', 'quartile', 'point', 'stick').\n",
        "      * Example: `sns.violinplot(data=df, x='day', y='total_bill', hue='sex', split=True)`\n",
        "\n",
        "  * **`sns.stripplot()`:** Draws a scatterplot where one variable is categorical. Useful for visualizing individual data points and their spread within categories. Can be used with `boxplot` or `violinplot` to show underlying data.\n",
        "\n",
        "      * **Arguments:** `data`, `x` (categorical), `y` (numerical), `jitter` (to add random noise to prevent overlap).\n",
        "      * Example: `sns.stripplot(data=df, x='day', y='total_bill', jitter=0.2)`\n",
        "\n",
        "  * **`sns.swarmplot()`:** Similar to `stripplot` but adjusts points to prevent overlap without using random jitter. Provides a better representation of the density of observations.\n",
        "\n",
        "      * **Arguments:** `data`, `x` (categorical), `y` (numerical), `hue`.\n",
        "      * Example: `sns.swarmplot(data=df, x='day', y='total_bill')`\n",
        "\n",
        "  * **`sns.barplot()`:** Shows the mean (or other estimator) of a numerical variable for each category, with confidence intervals.\n",
        "\n",
        "      * **Arguments:** `data`, `x` (categorical), `y` (numerical), `hue`, `estimator` (e.g., `np.median`).\n",
        "      * Example: `sns.barplot(data=df, x='day', y='total_bill', hue='sex')`\n",
        "\n",
        "  * **`sns.countplot()`:** Shows the counts of observations in each category. Essentially a bar plot of categorical variable counts.\n",
        "\n",
        "      * **Arguments:** `data`, `x` (or `y`, categorical), `hue`.\n",
        "      * Example: `sns.countplot(data=df, x='day', hue='smoker')`\n",
        "\n",
        "  * **`sns.catplot()` (Figure-level):** A general function for creating various categorical plots with faceting capabilities (`kind` argument).\n",
        "\n",
        "      * **Arguments:** `data`, `x`, `y`, `hue`, `kind` ('point', 'bar', 'strip', 'swarm', 'box', 'violin', 'boxen'), `col`, `row`.\n",
        "      * Example: `sns.catplot(data=df, x='day', y='total_bill', kind='box', col='time')`\n",
        "\n",
        "### 3.5.4 Relational Plots\n",
        "\n",
        "Visualizing the statistical relationship between two or more variables, typically numerical.\n",
        "\n",
        "  * **`sns.scatterplot()`:** Draws a scatter plot, showing the relationship between two numerical variables. Can also represent additional variables through visual mappings (color, size, style).\n",
        "\n",
        "      * **Arguments:** `data`, `x`, `y`, `hue` (color points by category), `size` (vary point size by numerical variable), `style` (vary point marker by category).\n",
        "      * Example: `sns.scatterplot(data=df, x='total_bill', y='tip', hue='time', size='size')`\n",
        "\n",
        "  * **`sns.lineplot()`:** Draws a line plot. By default, it aggregates multiple observations for each `x` value and shows the mean with a confidence interval.\n",
        "\n",
        "      * **Arguments:** `data`, `x`, `y`, `hue`, `size`, `style`, `ci` (confidence interval, e.g., 'sd' for standard deviation, None).\n",
        "      * Example: `sns.lineplot(data=df, x='size', y='tip', hue='time')`\n",
        "\n",
        "  * **`sns.relplot()` (Figure-level):** A general function for creating relational plots with faceting capabilities (`kind` argument).\n",
        "\n",
        "      * **Arguments:** `data`, `x`, `y`, `hue`, `size`, `style`, `kind` ('scatter', 'line'), `col`, `row`.\n",
        "      * Example: `sns.relplot(data=df, x='total_bill', y='tip', hue='smoker', col='time', kind='scatter')`\n",
        "\n",
        "### 3.5.5 Matrix & Heatmaps\n",
        "\n",
        "Visualizing data where relationships or values are represented in a grid.\n",
        "\n",
        "  * **`sns.heatmap()`:** Plots rectangular data as a color-encoded matrix. Commonly used for correlation matrices or showing feature importance.\n",
        "\n",
        "      * **Arguments:** `data` (a 2D array or DataFrame), `vmin`, `vmax` (for color range), `cmap` (color map), `annot=True` (to show values in cells), `fmt` (format for annotations), `linewidths`, `linecolor`.\n",
        "      * Example: `correlation_matrix = df.corr(numeric_only=True)`\n",
        "        `sns.heatmap(correlation_matrix, annot=True, cmap='coolwarm', fmt=\".2f\")`\n",
        "\n",
        "  * **`sns.clustermap()`:** Organizes rows and columns by similarity using hierarchical clustering, then plots the clustered data as a heatmap. Useful for finding patterns in large datasets.\n",
        "\n",
        "      * **Arguments:** `data`, `cmap`, `method` (for clustering linkage), `metric` (for distance calculation).\n",
        "      * Example: `sns.clustermap(data_matrix, cmap='viridis', standard_scale=1)` (standardizes columns to have mean 0 and variance 1)\n",
        "\n",
        "### 3.5.6 Multivariate Exploration\n",
        "\n",
        "Exploring relationships between more than two variables, often by combining plot types or using faceting.\n",
        "\n",
        "  * **`sns.pairplot()`:** Creates a grid of pairwise relationships in a dataset. By default, it shows scatter plots for numerical variables and histograms/KDEs for single variable distributions on the diagonal.\n",
        "\n",
        "      * **Arguments:** `data`, `hue` (to color points by category), `kind` ('scatter', 'kde', 'hist', 'reg'), `diag_kind` ('auto', 'hist', 'kde').\n",
        "      * Example: `sns.pairplot(df, hue='species')`\n",
        "\n",
        "  * **`sns.jointplot()`:** Combines two types of plots (e.g., scatter plot and histograms) to show the joint distribution of two variables along with their marginal distributions.\n",
        "\n",
        "      * **Arguments:** `data`, `x`, `y`, `kind` ('scatter', 'kde', 'hist', 'reg', 'resid').\n",
        "      * Example: `sns.jointplot(data=df, x='total_bill', y='tip', kind='kde')`\n",
        "\n",
        "  * **`sns.FacetGrid()` and `sns.PairGrid()`:** Lower-level classes that provide more control over creating multi-panel plots. Figure-level functions like `relplot`, `displot`, `catplot`, `pairplot` are built on top of these.\n",
        "\n",
        "      * **`FacetGrid`:** Maps variables to different rows and columns of a grid of plots, allowing you to visualize interactions."
      ],
      "metadata": {
        "id": "OrVUZQPfaDW9"
      }
    },
    {
      "cell_type": "code",
      "source": [
        "g = sns.FacetGrid(tips, col='time', row='smoker', hue='sex')\n",
        "g.map(sns.scatterplot, 'total_bill', 'tip')\n",
        "g.add_legend()\n",
        "plt.show()"
      ],
      "metadata": {
        "colab": {
          "base_uri": "https://localhost:8080/",
          "height": 607
        },
        "id": "LNefy3EXZ-il",
        "outputId": "55228c27-1be7-4eab-e329-0fc1421dfe0d"
      },
      "execution_count": null,
      "outputs": [
        {
          "output_type": "display_data",
          "data": {
            "text/plain": [
              "<Figure size 700.25x600 with 4 Axes>"
            ],
            "image/png": "[encoded data removed]"
          },
          "metadata": {}
        }
      ]
    },
    {
      "cell_type": "markdown",
      "source": [
        "* **`PairGrid`:** Specifically designed for pairwise relationships in a dataset, allowing you to define different plot types for the upper triangle, lower triangle, and diagonal."
      ],
      "metadata": {
        "id": "46uRaLomasPx"
      }
    },
    {
      "cell_type": "code",
      "source": [
        "g = sns.PairGrid(tips, hue='sex')\n",
        "g.map_upper(sns.scatterplot)\n",
        "g.map_lower(sns.kdeplot)\n",
        "g.map_diag(sns.histplot, kde=True)\n",
        "g.add_legend()\n",
        "plt.show()"
      ],
      "metadata": {
        "colab": {
          "base_uri": "https://localhost:8080/",
          "height": 737
        },
        "id": "pWvY5XZfaZTZ",
        "outputId": "dda7c940-5404-4b30-a304-102677280838"
      },
      "execution_count": null,
      "outputs": [
        {
          "output_type": "display_data",
          "data": {
            "text/plain": [
              "<Figure size 850.25x750 with 12 Axes>"
            ],
            "image/png": "[encoded data removed]"
          },
          "metadata": {}
        }
      ]
    },
    {
      "cell_type": "markdown",
      "source": [
        "## 3.6. Plotly – Interactive Visualization"
      ],
      "metadata": {
        "id": "RsH_LoxsbnWw"
      }
    },
    {
      "cell_type": "markdown",
      "source": [
        "Plotly is an open-source graphing library that allows you to create interactive, publication-quality graphs. Unlike Matplotlib or Seaborn, Plotly's strength lies in generating web-based visualizations that can be zoomed, panned, and hovered over, offering a dynamic data exploration experience.\n",
        "\n",
        "### 3.6.1 Getting Started with Plotly Express\n",
        "\n",
        "  * **Plotly Express (`px`)**: A high-level wrapper around Plotly.js, designed for quickly creating a wide variety of common statistical graphics with minimal code. It's the recommended starting point for most users.\n",
        "      * **Import Convention**:"
      ],
      "metadata": {
        "id": "USB822IobpOs"
      }
    },
    {
      "cell_type": "code",
      "source": [
        "import plotly.express as px\n",
        "import pandas as pd # Often used for data"
      ],
      "metadata": {
        "id": "q0xxhGrxa4LQ"
      },
      "execution_count": null,
      "outputs": []
    },
    {
      "cell_type": "markdown",
      "source": [
        "* **Data Structure**: Plotly Express functions primarily work with Pandas DataFrames.\n",
        "      * **Basic Usage Pattern**:"
      ],
      "metadata": {
        "id": "PJ3YAVx1b14b"
      }
    },
    {
      "cell_type": "code",
      "source": [
        "# Example: Scatter plot\n",
        "df = px.data.iris() # Load a sample dataset\n",
        "fig = px.scatter(df, x=\"sepal_width\", y=\"sepal_length\", color=\"species\")\n",
        "fig.show() # Display the interactive plot"
      ],
      "metadata": {
        "colab": {
          "base_uri": "https://localhost:8080/",
          "height": 542
        },
        "id": "-EFIP_ktbxa-",
        "outputId": "fc611f44-0ce3-429c-bccf-278da4077084"
      },
      "execution_count": null,
      "outputs": [
        {
          "output_type": "display_data",
          "data": {
            "text/html": [
              "<html>\n",
              "<head><meta charset=\"utf-8\" /></head>\n",
              "<body>\n",
              "    <div>            <script src=\"https://cdnjs.cloudflare.com/ajax/libs/mathjax/2.7.5/MathJax.js?config=TeX-AMS-MML_SVG\"></script><script type=\"text/javascript\">if (window.MathJax && window.MathJax.Hub && window.MathJax.Hub.Config) {window.MathJax.Hub.Config({SVG: {font: \"STIX-Web\"}});}</script>                <script type=\"text/javascript\">window.PlotlyConfig = {MathJaxConfig: 'local'};</script>\n",
              "        <script charset=\"utf-8\" src=\"https://cdn.plot.ly/plotly-2.35.2.min.js\"></script>                <div id=\"451afee0-a80e-43ff-850d-faf8eb807948\" class=\"plotly-graph-div\" style=\"height:525px; width:100%;\"></div>            <script type=\"text/javascript\">                                    window.PLOTLYENV=window.PLOTLYENV || {};                                    if (document.getElementById(\"451afee0-a80e-43ff-850d-faf8eb807948\")) {                    Plotly.newPlot(                        \"451afee0-a80e-43ff-850d-faf8eb807948\",                        [{\"hovertemplate\":\"species=setosa\\u003cbr\\u003esepal_width=%{x}\\u003cbr\\u003esepal_length=%{y}\\u003cextra\\u003e\\u003c\\u002fextra\\u003e\",\"legendgroup\":\"setosa\",\"marker\":{\"color\":\"#636efa\",\"symbol\":\"circle\"},\"mode\":\"markers\",\"name\":\"setosa\",\"orientation\":\"v\",\"showlegend\":true,\"x\":[3.5,3.0,3.2,3.1,3.6,3.9,3.4,3.4,2.9,3.1,3.7,3.4,3.0,3.0,4.0,4.4,3.9,3.5,3.8,3.8,3.4,3.7,3.6,3.3,3.4,3.0,3.4,3.5,3.4,3.2,3.1,3.4,4.1,4.2,3.1,3.2,3.5,3.1,3.0,3.4,3.5,2.3,3.2,3.5,3.8,3.0,3.8,3.2,3.7,3.3],\"xaxis\":\"x\",\"y\":[5.1,4.9,4.7,4.6,5.0,5.4,4.6,5.0,4.4,4.9,5.4,4.8,4.8,4.3,5.8,5.7,5.4,5.1,5.7,5.1,5.4,5.1,4.6,5.1,4.8,5.0,5.0,5.2,5.2,4.7,4.8,5.4,5.2,5.5,4.9,5.0,5.5,4.9,4.4,5.1,5.0,4.5,4.4,5.0,5.1,4.8,5.1,4.6,5.3,5.0],\"yaxis\":\"y\",\"type\":\"scatter\"},{\"hovertemplate\":\"species=versicolor\\u003cbr\\u003esepal_width=%{x}\\u003cbr\\u003esepal_length=%{y}\\u003cextra\\u003e\\u003c\\u002fextra\\u003e\",\"legendgroup\":\"versicolor\",\"marker\":{\"color\":\"#EF553B\",\"symbol\":\"circle\"},\"mode\":\"markers\",\"name\":\"versicolor\",\"orientation\":\"v\",\"showlegend\":true,\"x\":[3.2,3.2,3.1,2.3,2.8,2.8,3.3,2.4,2.9,2.7,2.0,3.0,2.2,2.9,2.9,3.1,3.0,2.7,2.2,2.5,3.2,2.8,2.5,2.8,2.9,3.0,2.8,3.0,2.9,2.6,2.4,2.4,2.7,2.7,3.0,3.4,3.1,2.3,3.0,2.5,2.6,3.0,2.6,2.3,2.7,3.0,2.9,2.9,2.5,2.8],\"xaxis\":\"x\",\"y\":[7.0,6.4,6.9,5.5,6.5,5.7,6.3,4.9,6.6,5.2,5.0,5.9,6.0,6.1,5.6,6.7,5.6,5.8,6.2,5.6,5.9,6.1,6.3,6.1,6.4,6.6,6.8,6.7,6.0,5.7,5.5,5.5,5.8,6.0,5.4,6.0,6.7,6.3,5.6,5.5,5.5,6.1,5.8,5.0,5.6,5.7,5.7,6.2,5.1,5.7],\"yaxis\":\"y\",\"type\":\"scatter\"},{\"hovertemplate\":\"species=virginica\\u003cbr\\u003esepal_width=%{x}\\u003cbr\\u003esepal_length=%{y}\\u003cextra\\u003e\\u003c\\u002fextra\\u003e\",\"legendgroup\":\"virginica\",\"marker\":{\"color\":\"#00cc96\",\"symbol\":\"circle\"},\"mode\":\"markers\",\"name\":\"virginica\",\"orientation\":\"v\",\"showlegend\":true,\"x\":[3.3,2.7,3.0,2.9,3.0,3.0,2.5,2.9,2.5,3.6,3.2,2.7,3.0,2.5,2.8,3.2,3.0,3.8,2.6,2.2,3.2,2.8,2.8,2.7,3.3,3.2,2.8,3.0,2.8,3.0,2.8,3.8,2.8,2.8,2.6,3.0,3.4,3.1,3.0,3.1,3.1,3.1,2.7,3.2,3.3,3.0,2.5,3.0,3.4,3.0],\"xaxis\":\"x\",\"y\":[6.3,5.8,7.1,6.3,6.5,7.6,4.9,7.3,6.7,7.2,6.5,6.4,6.8,5.7,5.8,6.4,6.5,7.7,7.7,6.0,6.9,5.6,7.7,6.3,6.7,7.2,6.2,6.1,6.4,7.2,7.4,7.9,6.4,6.3,6.1,7.7,6.3,6.4,6.0,6.9,6.7,6.9,5.8,6.8,6.7,6.7,6.3,6.5,6.2,5.9],\"yaxis\":\"y\",\"type\":\"scatter\"}],                        {\"template\":{\"data\":{\"histogram2dcontour\":[{\"type\":\"histogram2dcontour\",\"colorbar\":{\"outlinewidth\":0,\"ticks\":\"\"},\"colorscale\":[[0.0,\"#0d0887\"],[0.1111111111111111,\"#46039f\"],[0.2222222222222222,\"#7201a8\"],[0.3333333333333333,\"#9c179e\"],[0.4444444444444444,\"#bd3786\"],[0.5555555555555556,\"#d8576b\"],[0.6666666666666666,\"#ed7953\"],[0.7777777777777778,\"#fb9f3a\"],[0.8888888888888888,\"#fdca26\"],[1.0,\"#f0f921\"]]}],\"choropleth\":[{\"type\":\"choropleth\",\"colorbar\":{\"outlinewidth\":0,\"ticks\":\"\"}}],\"histogram2d\":[{\"type\":\"histogram2d\",\"colorbar\":{\"outlinewidth\":0,\"ticks\":\"\"},\"colorscale\":[[0.0,\"#0d0887\"],[0.1111111111111111,\"#46039f\"],[0.2222222222222222,\"#7201a8\"],[0.3333333333333333,\"#9c179e\"],[0.4444444444444444,\"#bd3786\"],[0.5555555555555556,\"#d8576b\"],[0.6666666666666666,\"#ed7953\"],[0.7777777777777778,\"#fb9f3a\"],[0.8888888888888888,\"#fdca26\"],[1.0,\"#f0f921\"]]}],\"heatmap\":[{\"type\":\"heatmap\",\"colorbar\":{\"outlinewidth\":0,\"ticks\":\"\"},\"colorscale\":[[0.0,\"#0d0887\"],[0.1111111111111111,\"#46039f\"],[0.2222222222222222,\"#7201a8\"],[0.3333333333333333,\"#9c179e\"],[0.4444444444444444,\"#bd3786\"],[0.5555555555555556,\"#d8576b\"],[0.6666666666666666,\"#ed7953\"],[0.7777777777777778,\"#fb9f3a\"],[0.8888888888888888,\"#fdca26\"],[1.0,\"#f0f921\"]]}],\"heatmapgl\":[{\"type\":\"heatmapgl\",\"colorbar\":{\"outlinewidth\":0,\"ticks\":\"\"},\"colorscale\":[[0.0,\"#0d0887\"],[0.1111111111111111,\"#46039f\"],[0.2222222222222222,\"#7201a8\"],[0.3333333333333333,\"#9c179e\"],[0.4444444444444444,\"#bd3786\"],[0.5555555555555556,\"#d8576b\"],[0.6666666666666666,\"#ed7953\"],[0.7777777777777778,\"#fb9f3a\"],[0.8888888888888888,\"#fdca26\"],[1.0,\"#f0f921\"]]}],\"contourcarpet\":[{\"type\":\"contourcarpet\",\"colorbar\":{\"outlinewidth\":0,\"ticks\":\"\"}}],\"contour\":[{\"type\":\"contour\",\"colorbar\":{\"outlinewidth\":0,\"ticks\":\"\"},\"colorscale\":[[0.0,\"#0d0887\"],[0.1111111111111111,\"#46039f\"],[0.2222222222222222,\"#7201a8\"],[0.3333333333333333,\"#9c179e\"],[0.4444444444444444,\"#bd3786\"],[0.5555555555555556,\"#d8576b\"],[0.6666666666666666,\"#ed7953\"],[0.7777777777777778,\"#fb9f3a\"],[0.8888888888888888,\"#fdca26\"],[1.0,\"#f0f921\"]]}],\"surface\":[{\"type\":\"surface\",\"colorbar\":{\"outlinewidth\":0,\"ticks\":\"\"},\"colorscale\":[[0.0,\"#0d0887\"],[0.1111111111111111,\"#46039f\"],[0.2222222222222222,\"#7201a8\"],[0.3333333333333333,\"#9c179e\"],[0.4444444444444444,\"#bd3786\"],[0.5555555555555556,\"#d8576b\"],[0.6666666666666666,\"#ed7953\"],[0.7777777777777778,\"#fb9f3a\"],[0.8888888888888888,\"#fdca26\"],[1.0,\"#f0f921\"]]}],\"mesh3d\":[{\"type\":\"mesh3d\",\"colorbar\":{\"outlinewidth\":0,\"ticks\":\"\"}}],\"scatter\":[{\"fillpattern\":{\"fillmode\":\"overlay\",\"size\":10,\"solidity\":0.2},\"type\":\"scatter\"}],\"parcoords\":[{\"type\":\"parcoords\",\"line\":{\"colorbar\":{\"outlinewidth\":0,\"ticks\":\"\"}}}],\"scatterpolargl\":[{\"type\":\"scatterpolargl\",\"marker\":{\"colorbar\":{\"outlinewidth\":0,\"ticks\":\"\"}}}],\"bar\":[{\"error_x\":{\"color\":\"#2a3f5f\"},\"error_y\":{\"color\":\"#2a3f5f\"},\"marker\":{\"line\":{\"color\":\"#E5ECF6\",\"width\":0.5},\"pattern\":{\"fillmode\":\"overlay\",\"size\":10,\"solidity\":0.2}},\"type\":\"bar\"}],\"scattergeo\":[{\"type\":\"scattergeo\",\"marker\":{\"colorbar\":{\"outlinewidth\":0,\"ticks\":\"\"}}}],\"scatterpolar\":[{\"type\":\"scatterpolar\",\"marker\":{\"colorbar\":{\"outlinewidth\":0,\"ticks\":\"\"}}}],\"histogram\":[{\"marker\":{\"pattern\":{\"fillmode\":\"overlay\",\"size\":10,\"solidity\":0.2}},\"type\":\"histogram\"}],\"scattergl\":[{\"type\":\"scattergl\",\"marker\":{\"colorbar\":{\"outlinewidth\":0,\"ticks\":\"\"}}}],\"scatter3d\":[{\"type\":\"scatter3d\",\"line\":{\"colorbar\":{\"outlinewidth\":0,\"ticks\":\"\"}},\"marker\":{\"colorbar\":{\"outlinewidth\":0,\"ticks\":\"\"}}}],\"scattermapbox\":[{\"type\":\"scattermapbox\",\"marker\":{\"colorbar\":{\"outlinewidth\":0,\"ticks\":\"\"}}}],\"scatterternary\":[{\"type\":\"scatterternary\",\"marker\":{\"colorbar\":{\"outlinewidth\":0,\"ticks\":\"\"}}}],\"scattercarpet\":[{\"type\":\"scattercarpet\",\"marker\":{\"colorbar\":{\"outlinewidth\":0,\"ticks\":\"\"}}}],\"carpet\":[{\"aaxis\":{\"endlinecolor\":\"#2a3f5f\",\"gridcolor\":\"white\",\"linecolor\":\"white\",\"minorgridcolor\":\"white\",\"startlinecolor\":\"#2a3f5f\"},\"baxis\":{\"endlinecolor\":\"#2a3f5f\",\"gridcolor\":\"white\",\"linecolor\":\"white\",\"minorgridcolor\":\"white\",\"startlinecolor\":\"#2a3f5f\"},\"type\":\"carpet\"}],\"table\":[{\"cells\":{\"fill\":{\"color\":\"#EBF0F8\"},\"line\":{\"color\":\"white\"}},\"header\":{\"fill\":{\"color\":\"#C8D4E3\"},\"line\":{\"color\":\"white\"}},\"type\":\"table\"}],\"barpolar\":[{\"marker\":{\"line\":{\"color\":\"#E5ECF6\",\"width\":0.5},\"pattern\":{\"fillmode\":\"overlay\",\"size\":10,\"solidity\":0.2}},\"type\":\"barpolar\"}],\"pie\":[{\"automargin\":true,\"type\":\"pie\"}]},\"layout\":{\"autotypenumbers\":\"strict\",\"colorway\":[\"#636efa\",\"#EF553B\",\"#00cc96\",\"#ab63fa\",\"#FFA15A\",\"#19d3f3\",\"#FF6692\",\"#B6E880\",\"#FF97FF\",\"#FECB52\"],\"font\":{\"color\":\"#2a3f5f\"},\"hovermode\":\"closest\",\"hoverlabel\":{\"align\":\"left\"},\"paper_bgcolor\":\"white\",\"plot_bgcolor\":\"#E5ECF6\",\"polar\":{\"bgcolor\":\"#E5ECF6\",\"angularaxis\":{\"gridcolor\":\"white\",\"linecolor\":\"white\",\"ticks\":\"\"},\"radialaxis\":{\"gridcolor\":\"white\",\"linecolor\":\"white\",\"ticks\":\"\"}},\"ternary\":{\"bgcolor\":\"#E5ECF6\",\"aaxis\":{\"gridcolor\":\"white\",\"linecolor\":\"white\",\"ticks\":\"\"},\"baxis\":{\"gridcolor\":\"white\",\"linecolor\":\"white\",\"ticks\":\"\"},\"caxis\":{\"gridcolor\":\"white\",\"linecolor\":\"white\",\"ticks\":\"\"}},\"coloraxis\":{\"colorbar\":{\"outlinewidth\":0,\"ticks\":\"\"}},\"colorscale\":{\"sequential\":[[0.0,\"#0d0887\"],[0.1111111111111111,\"#46039f\"],[0.2222222222222222,\"#7201a8\"],[0.3333333333333333,\"#9c179e\"],[0.4444444444444444,\"#bd3786\"],[0.5555555555555556,\"#d8576b\"],[0.6666666666666666,\"#ed7953\"],[0.7777777777777778,\"#fb9f3a\"],[0.8888888888888888,\"#fdca26\"],[1.0,\"#f0f921\"]],\"sequentialminus\":[[0.0,\"#0d0887\"],[0.1111111111111111,\"#46039f\"],[0.2222222222222222,\"#7201a8\"],[0.3333333333333333,\"#9c179e\"],[0.4444444444444444,\"#bd3786\"],[0.5555555555555556,\"#d8576b\"],[0.6666666666666666,\"#ed7953\"],[0.7777777777777778,\"#fb9f3a\"],[0.8888888888888888,\"#fdca26\"],[1.0,\"#f0f921\"]],\"diverging\":[[0,\"#8e0152\"],[0.1,\"#c51b7d\"],[0.2,\"#de77ae\"],[0.3,\"#f1b6da\"],[0.4,\"#fde0ef\"],[0.5,\"#f7f7f7\"],[0.6,\"#e6f5d0\"],[0.7,\"#b8e186\"],[0.8,\"#7fbc41\"],[0.9,\"#4d9221\"],[1,\"#276419\"]]},\"xaxis\":{\"gridcolor\":\"white\",\"linecolor\":\"white\",\"ticks\":\"\",\"title\":{\"standoff\":15},\"zerolinecolor\":\"white\",\"automargin\":true,\"zerolinewidth\":2},\"yaxis\":{\"gridcolor\":\"white\",\"linecolor\":\"white\",\"ticks\":\"\",\"title\":{\"standoff\":15},\"zerolinecolor\":\"white\",\"automargin\":true,\"zerolinewidth\":2},\"scene\":{\"xaxis\":{\"backgroundcolor\":\"#E5ECF6\",\"gridcolor\":\"white\",\"linecolor\":\"white\",\"showbackground\":true,\"ticks\":\"\",\"zerolinecolor\":\"white\",\"gridwidth\":2},\"yaxis\":{\"backgroundcolor\":\"#E5ECF6\",\"gridcolor\":\"white\",\"linecolor\":\"white\",\"showbackground\":true,\"ticks\":\"\",\"zerolinecolor\":\"white\",\"gridwidth\":2},\"zaxis\":{\"backgroundcolor\":\"#E5ECF6\",\"gridcolor\":\"white\",\"linecolor\":\"white\",\"showbackground\":true,\"ticks\":\"\",\"zerolinecolor\":\"white\",\"gridwidth\":2}},\"shapedefaults\":{\"line\":{\"color\":\"#2a3f5f\"}},\"annotationdefaults\":{\"arrowcolor\":\"#2a3f5f\",\"arrowhead\":0,\"arrowwidth\":1},\"geo\":{\"bgcolor\":\"white\",\"landcolor\":\"#E5ECF6\",\"subunitcolor\":\"white\",\"showland\":true,\"showlakes\":true,\"lakecolor\":\"white\"},\"title\":{\"x\":0.05},\"mapbox\":{\"style\":\"light\"}}},\"xaxis\":{\"anchor\":\"y\",\"domain\":[0.0,1.0],\"title\":{\"text\":\"sepal_width\"}},\"yaxis\":{\"anchor\":\"x\",\"domain\":[0.0,1.0],\"title\":{\"text\":\"sepal_length\"}},\"legend\":{\"title\":{\"text\":\"species\"},\"tracegroupgap\":0},\"margin\":{\"t\":60}},                        {\"responsive\": true}                    ).then(function(){\n",
              "                            \n",
              "var gd = document.getElementById('451afee0-a80e-43ff-850d-faf8eb807948');\n",
              "var x = new MutationObserver(function (mutations, observer) {{\n",
              "        var display = window.getComputedStyle(gd).display;\n",
              "        if (!display || display === 'none') {{\n",
              "            console.log([gd, 'removed!']);\n",
              "            Plotly.purge(gd);\n",
              "            observer.disconnect();\n",
              "        }}\n",
              "}});\n",
              "\n",
              "// Listen for the removal of the full notebook cells\n",
              "var notebookContainer = gd.closest('#notebook-container');\n",
              "if (notebookContainer) {{\n",
              "    x.observe(notebookContainer, {childList: true});\n",
              "}}\n",
              "\n",
              "// Listen for the clearing of the current output cell\n",
              "var outputEl = gd.closest('.output');\n",
              "if (outputEl) {{\n",
              "    x.observe(outputEl, {childList: true});\n",
              "}}\n",
              "\n",
              "                        })                };                            </script>        </div>\n",
              "</body>\n",
              "</html>"
            ]
          },
          "metadata": {}
        }
      ]
    },
    {
      "cell_type": "markdown",
      "source": [
        "* **Automatic Features**: Plotly Express automatically handles common tasks like:\n",
        "          * Interactive tooltips (hover information).\n",
        "          * Zoom and pan controls.\n",
        "          * Legends that can toggle visibility of traces.\n",
        "          * Facet wrapping and animation capabilities (covered later).\n",
        "\n",
        "### 3.6.2 Core Interactive Plots\n",
        "\n",
        "Plotly Express provides functions for many common chart types, all inherently interactive.\n",
        "\n",
        "  * **Scatter Plots**: `px.scatter()`\n",
        "\n",
        "      * Visualizes the relationship between two numerical variables.\n",
        "      * **Arguments**: `data_frame`, `x`, `y`, `color`, `size`, `symbol`, `hover_name`, `hover_data`, `log_x`, `log_y`, `trendline`.\n",
        "      * Example: `px.scatter(df, x='gdpPercap', y='lifeExp', size='pop', color='continent', log_x=True, size_max=60)`\n",
        "\n",
        "  * **Line Plots**: `px.line()`\n",
        "\n",
        "      * Visualizes trends over a continuous variable, often time.\n",
        "      * **Arguments**: `data_frame`, `x`, `y`, `color`, `line_group`, `markers`, `hover_name`.\n",
        "      * Example: `px.line(df_stock, x='Date', y='Price', color='Company')`\n",
        "\n",
        "  * **Bar Charts**: `px.bar()`\n",
        "\n",
        "      * Compares categorical data.\n",
        "      * **Arguments**: `data_frame`, `x` (categorical), `y` (numerical), `color`, `orientation` ('v' for vertical, 'h' for horizontal), `barmode` ('group', 'overlay', 'relative').\n",
        "      * Example: `px.bar(df_sales, x='Region', y='Sales', color='ProductCategory')`\n",
        "\n",
        "  * **Histograms**: `px.histogram()`\n",
        "\n",
        "      * Shows the distribution of a single numerical variable.\n",
        "      * **Arguments**: `data_frame`, `x`, `color`, `nbins`, `marginal` ('rug', 'box', 'violin', 'histogram').\n",
        "      * Example: `px.histogram(df, x='Age', color='Gender', marginal='rug')`\n",
        "\n",
        "  * **Box Plots**: `px.box()`\n",
        "\n",
        "      * Displays the distribution of a numerical variable across categories, showing median, quartiles, and outliers.\n",
        "      * **Arguments**: `data_frame`, `x` (categorical), `y` (numerical), `color`, `points` ('all', 'outliers', False).\n",
        "      * Example: `px.box(df, x='Day', y='TotalBill', color='Smoker')`\n",
        "\n",
        "  * **Violin Plots**: `px.violin()`\n",
        "\n",
        "      * Combines aspects of box plots and KDE plots to show the full distribution shape.\n",
        "      * **Arguments**: `data_frame`, `x` (categorical), `y` (numerical), `color`, `points` ('all', 'outliers', False), `box` (show inner box plot).\n",
        "      * Example: `px.violin(df, x='Category', y='Value', color='Group', box=True)`\n",
        "\n",
        "### 3.6.3 Categorical and Summary Charts\n",
        "\n",
        "Plotly Express also handles various categorical and aggregation-based charts.\n",
        "\n",
        "  * **Pie Charts**: `px.pie()`\n",
        "\n",
        "      * Displays parts of a whole for a single categorical variable.\n",
        "      * **Arguments**: `data_frame`, `names` (column for category labels), `values` (column for values to aggregate), `hole` (for donut charts).\n",
        "      * Example: `px.pie(df_products, names='Product', values='Revenue', title='Revenue by Product')`\n",
        "\n",
        "  * **Sunburst Charts**: `px.sunburst()`\n",
        "\n",
        "      * Hierarchical data visualization, similar to treemaps but with a radial layout.\n",
        "      * **Arguments**: `data_frame`, `path` (list of columns for hierarchy levels), `values`, `color`.\n",
        "      * Example: `px.sunburst(df_regions, path=['Region', 'Country', 'City'], values='Population')`\n",
        "\n",
        "  * **Treemaps**: `px.treemap()`\n",
        "\n",
        "      * Another hierarchical data visualization, using nested rectangles.\n",
        "      * **Arguments**: `data_frame`, `path` (list of columns for hierarchy levels), `values`, `color`.\n",
        "      * Example: `px.treemap(df_folders, path=[px.Constant('Root'), 'Folder', 'Subfolder'], values='Size')`\n",
        "\n",
        "  * **Funnel Charts**: `px.funnel()`\n",
        "\n",
        "      * Visualizes stages in a linear process, showing progressive reduction.\n",
        "      * **Arguments**: `data_frame`, `x` (values), `y` (stages/categories).\n",
        "      * Example: `px.funnel(df_conversion, x='Count', y='Stage')`\n",
        "\n",
        "### 3.6.4 Faceting and Animation\n",
        "\n",
        "Plotly's interactive nature shines with these features for multivariate exploration.\n",
        "\n",
        "  * **Faceting (Subplots)**:\n",
        "\n",
        "      * Most Plotly Express functions support `facet_row`, `facet_col`, and `facet_col_wrap` arguments.\n",
        "      * This creates multiple subplots (facets) based on the unique values of specified categorical columns. Each subplot displays the same type of chart for a subset of the data.\n",
        "      * Example: `px.scatter(df, x='gdpPercap', y='lifeExp', color='continent', facet_col='year', facet_col_wrap=4)`\n",
        "\n",
        "  * **Animation**:\n",
        "\n",
        "      * The `animation_frame` argument allows you to create animations where the plot evolves over time or another sequential variable. A slider appears below the plot to control the animation.\n",
        "      * **Arguments**: `animation_frame` (column for frames), `animation_group` (column to group traces that persist across frames), `range_x`, `range_y` (to keep axis limits consistent).\n",
        "      * Example: `px.scatter(df_gapminder, x='gdpPercap', y='lifeExp', animation_frame='year', animation_group='country', size='pop', color='continent', hover_name='country', log_x=True, size_max=60, range_x=[100, 100000], range_y=[25, 90])`\n",
        "\n",
        "### 3.6.5 Heatmaps and Correlation\n",
        "\n",
        "  * **`px.imshow()` (Image Show / Heatmap for 2D Data)**:\n",
        "      * Visualizes 2D numerical data as a heatmap. Excellent for showing matrices like correlation matrices.\n",
        "      * **Arguments**: `img` (2D array or DataFrame), `x`, `y` (for axis labels if `img` is array), `color_continuous_scale`, `text_auto` (to display values on heatmap cells), `aspect` ('auto', 'equal', or numerical ratio).\n",
        "      * Example (Correlation Matrix):"
      ],
      "metadata": {
        "id": "Oi_oo6DmcF2j"
      }
    },
    {
      "cell_type": "code",
      "source": [
        "df = sns.load_dataset('tips')\n",
        "df_numeric = df.select_dtypes(include='number')\n",
        "df_corr = df_numeric.corr()\n",
        "fig = px.imshow(df_corr,\n",
        "                text_auto=True,\n",
        "                aspect=\"auto\",\n",
        "                color_continuous_scale='RdBu',\n",
        "                title='Correlation Matrix')\n",
        "\n",
        "fig.show()"
      ],
      "metadata": {
        "colab": {
          "base_uri": "https://localhost:8080/",
          "height": 542
        },
        "id": "8Rf8vLmPb_Tb",
        "outputId": "136b9ca2-a673-41c8-f303-d195a55f59cb"
      },
      "execution_count": null,
      "outputs": [
        {
          "output_type": "display_data",
          "data": {
            "text/html": [
              "<html>\n",
              "<head><meta charset=\"utf-8\" /></head>\n",
              "<body>\n",
              "    <div>            <script src=\"https://cdnjs.cloudflare.com/ajax/libs/mathjax/2.7.5/MathJax.js?config=TeX-AMS-MML_SVG\"></script><script type=\"text/javascript\">if (window.MathJax && window.MathJax.Hub && window.MathJax.Hub.Config) {window.MathJax.Hub.Config({SVG: {font: \"STIX-Web\"}});}</script>                <script type=\"text/javascript\">window.PlotlyConfig = {MathJaxConfig: 'local'};</script>\n",
              "        <script charset=\"utf-8\" src=\"https://cdn.plot.ly/plotly-2.35.2.min.js\"></script>                <div id=\"1db26194-49ac-40bb-92eb-358aa5b6c98b\" class=\"plotly-graph-div\" style=\"height:525px; width:100%;\"></div>            <script type=\"text/javascript\">                                    window.PLOTLYENV=window.PLOTLYENV || {};                                    if (document.getElementById(\"1db26194-49ac-40bb-92eb-358aa5b6c98b\")) {                    Plotly.newPlot(                        \"1db26194-49ac-40bb-92eb-358aa5b6c98b\",                        [{\"coloraxis\":\"coloraxis\",\"name\":\"0\",\"texttemplate\":\"%{z}\",\"x\":[\"total_bill\",\"tip\",\"size\"],\"y\":[\"total_bill\",\"tip\",\"size\"],\"z\":[[1.0,0.6757341092113648,0.5983151309049014],[0.6757341092113648,1.0,0.48929877523035714],[0.5983151309049014,0.48929877523035714,1.0]],\"type\":\"heatmap\",\"xaxis\":\"x\",\"yaxis\":\"y\",\"hovertemplate\":\"x: %{x}\\u003cbr\\u003ey: %{y}\\u003cbr\\u003ecolor: %{z}\\u003cextra\\u003e\\u003c\\u002fextra\\u003e\"}],                        {\"template\":{\"data\":{\"histogram2dcontour\":[{\"type\":\"histogram2dcontour\",\"colorbar\":{\"outlinewidth\":0,\"ticks\":\"\"},\"colorscale\":[[0.0,\"#0d0887\"],[0.1111111111111111,\"#46039f\"],[0.2222222222222222,\"#7201a8\"],[0.3333333333333333,\"#9c179e\"],[0.4444444444444444,\"#bd3786\"],[0.5555555555555556,\"#d8576b\"],[0.6666666666666666,\"#ed7953\"],[0.7777777777777778,\"#fb9f3a\"],[0.8888888888888888,\"#fdca26\"],[1.0,\"#f0f921\"]]}],\"choropleth\":[{\"type\":\"choropleth\",\"colorbar\":{\"outlinewidth\":0,\"ticks\":\"\"}}],\"histogram2d\":[{\"type\":\"histogram2d\",\"colorbar\":{\"outlinewidth\":0,\"ticks\":\"\"},\"colorscale\":[[0.0,\"#0d0887\"],[0.1111111111111111,\"#46039f\"],[0.2222222222222222,\"#7201a8\"],[0.3333333333333333,\"#9c179e\"],[0.4444444444444444,\"#bd3786\"],[0.5555555555555556,\"#d8576b\"],[0.6666666666666666,\"#ed7953\"],[0.7777777777777778,\"#fb9f3a\"],[0.8888888888888888,\"#fdca26\"],[1.0,\"#f0f921\"]]}],\"heatmap\":[{\"type\":\"heatmap\",\"colorbar\":{\"outlinewidth\":0,\"ticks\":\"\"},\"colorscale\":[[0.0,\"#0d0887\"],[0.1111111111111111,\"#46039f\"],[0.2222222222222222,\"#7201a8\"],[0.3333333333333333,\"#9c179e\"],[0.4444444444444444,\"#bd3786\"],[0.5555555555555556,\"#d8576b\"],[0.6666666666666666,\"#ed7953\"],[0.7777777777777778,\"#fb9f3a\"],[0.8888888888888888,\"#fdca26\"],[1.0,\"#f0f921\"]]}],\"heatmapgl\":[{\"type\":\"heatmapgl\",\"colorbar\":{\"outlinewidth\":0,\"ticks\":\"\"},\"colorscale\":[[0.0,\"#0d0887\"],[0.1111111111111111,\"#46039f\"],[0.2222222222222222,\"#7201a8\"],[0.3333333333333333,\"#9c179e\"],[0.4444444444444444,\"#bd3786\"],[0.5555555555555556,\"#d8576b\"],[0.6666666666666666,\"#ed7953\"],[0.7777777777777778,\"#fb9f3a\"],[0.8888888888888888,\"#fdca26\"],[1.0,\"#f0f921\"]]}],\"contourcarpet\":[{\"type\":\"contourcarpet\",\"colorbar\":{\"outlinewidth\":0,\"ticks\":\"\"}}],\"contour\":[{\"type\":\"contour\",\"colorbar\":{\"outlinewidth\":0,\"ticks\":\"\"},\"colorscale\":[[0.0,\"#0d0887\"],[0.1111111111111111,\"#46039f\"],[0.2222222222222222,\"#7201a8\"],[0.3333333333333333,\"#9c179e\"],[0.4444444444444444,\"#bd3786\"],[0.5555555555555556,\"#d8576b\"],[0.6666666666666666,\"#ed7953\"],[0.7777777777777778,\"#fb9f3a\"],[0.8888888888888888,\"#fdca26\"],[1.0,\"#f0f921\"]]}],\"surface\":[{\"type\":\"surface\",\"colorbar\":{\"outlinewidth\":0,\"ticks\":\"\"},\"colorscale\":[[0.0,\"#0d0887\"],[0.1111111111111111,\"#46039f\"],[0.2222222222222222,\"#7201a8\"],[0.3333333333333333,\"#9c179e\"],[0.4444444444444444,\"#bd3786\"],[0.5555555555555556,\"#d8576b\"],[0.6666666666666666,\"#ed7953\"],[0.7777777777777778,\"#fb9f3a\"],[0.8888888888888888,\"#fdca26\"],[1.0,\"#f0f921\"]]}],\"mesh3d\":[{\"type\":\"mesh3d\",\"colorbar\":{\"outlinewidth\":0,\"ticks\":\"\"}}],\"scatter\":[{\"fillpattern\":{\"fillmode\":\"overlay\",\"size\":10,\"solidity\":0.2},\"type\":\"scatter\"}],\"parcoords\":[{\"type\":\"parcoords\",\"line\":{\"colorbar\":{\"outlinewidth\":0,\"ticks\":\"\"}}}],\"scatterpolargl\":[{\"type\":\"scatterpolargl\",\"marker\":{\"colorbar\":{\"outlinewidth\":0,\"ticks\":\"\"}}}],\"bar\":[{\"error_x\":{\"color\":\"#2a3f5f\"},\"error_y\":{\"color\":\"#2a3f5f\"},\"marker\":{\"line\":{\"color\":\"#E5ECF6\",\"width\":0.5},\"pattern\":{\"fillmode\":\"overlay\",\"size\":10,\"solidity\":0.2}},\"type\":\"bar\"}],\"scattergeo\":[{\"type\":\"scattergeo\",\"marker\":{\"colorbar\":{\"outlinewidth\":0,\"ticks\":\"\"}}}],\"scatterpolar\":[{\"type\":\"scatterpolar\",\"marker\":{\"colorbar\":{\"outlinewidth\":0,\"ticks\":\"\"}}}],\"histogram\":[{\"marker\":{\"pattern\":{\"fillmode\":\"overlay\",\"size\":10,\"solidity\":0.2}},\"type\":\"histogram\"}],\"scattergl\":[{\"type\":\"scattergl\",\"marker\":{\"colorbar\":{\"outlinewidth\":0,\"ticks\":\"\"}}}],\"scatter3d\":[{\"type\":\"scatter3d\",\"line\":{\"colorbar\":{\"outlinewidth\":0,\"ticks\":\"\"}},\"marker\":{\"colorbar\":{\"outlinewidth\":0,\"ticks\":\"\"}}}],\"scattermapbox\":[{\"type\":\"scattermapbox\",\"marker\":{\"colorbar\":{\"outlinewidth\":0,\"ticks\":\"\"}}}],\"scatterternary\":[{\"type\":\"scatterternary\",\"marker\":{\"colorbar\":{\"outlinewidth\":0,\"ticks\":\"\"}}}],\"scattercarpet\":[{\"type\":\"scattercarpet\",\"marker\":{\"colorbar\":{\"outlinewidth\":0,\"ticks\":\"\"}}}],\"carpet\":[{\"aaxis\":{\"endlinecolor\":\"#2a3f5f\",\"gridcolor\":\"white\",\"linecolor\":\"white\",\"minorgridcolor\":\"white\",\"startlinecolor\":\"#2a3f5f\"},\"baxis\":{\"endlinecolor\":\"#2a3f5f\",\"gridcolor\":\"white\",\"linecolor\":\"white\",\"minorgridcolor\":\"white\",\"startlinecolor\":\"#2a3f5f\"},\"type\":\"carpet\"}],\"table\":[{\"cells\":{\"fill\":{\"color\":\"#EBF0F8\"},\"line\":{\"color\":\"white\"}},\"header\":{\"fill\":{\"color\":\"#C8D4E3\"},\"line\":{\"color\":\"white\"}},\"type\":\"table\"}],\"barpolar\":[{\"marker\":{\"line\":{\"color\":\"#E5ECF6\",\"width\":0.5},\"pattern\":{\"fillmode\":\"overlay\",\"size\":10,\"solidity\":0.2}},\"type\":\"barpolar\"}],\"pie\":[{\"automargin\":true,\"type\":\"pie\"}]},\"layout\":{\"autotypenumbers\":\"strict\",\"colorway\":[\"#636efa\",\"#EF553B\",\"#00cc96\",\"#ab63fa\",\"#FFA15A\",\"#19d3f3\",\"#FF6692\",\"#B6E880\",\"#FF97FF\",\"#FECB52\"],\"font\":{\"color\":\"#2a3f5f\"},\"hovermode\":\"closest\",\"hoverlabel\":{\"align\":\"left\"},\"paper_bgcolor\":\"white\",\"plot_bgcolor\":\"#E5ECF6\",\"polar\":{\"bgcolor\":\"#E5ECF6\",\"angularaxis\":{\"gridcolor\":\"white\",\"linecolor\":\"white\",\"ticks\":\"\"},\"radialaxis\":{\"gridcolor\":\"white\",\"linecolor\":\"white\",\"ticks\":\"\"}},\"ternary\":{\"bgcolor\":\"#E5ECF6\",\"aaxis\":{\"gridcolor\":\"white\",\"linecolor\":\"white\",\"ticks\":\"\"},\"baxis\":{\"gridcolor\":\"white\",\"linecolor\":\"white\",\"ticks\":\"\"},\"caxis\":{\"gridcolor\":\"white\",\"linecolor\":\"white\",\"ticks\":\"\"}},\"coloraxis\":{\"colorbar\":{\"outlinewidth\":0,\"ticks\":\"\"}},\"colorscale\":{\"sequential\":[[0.0,\"#0d0887\"],[0.1111111111111111,\"#46039f\"],[0.2222222222222222,\"#7201a8\"],[0.3333333333333333,\"#9c179e\"],[0.4444444444444444,\"#bd3786\"],[0.5555555555555556,\"#d8576b\"],[0.6666666666666666,\"#ed7953\"],[0.7777777777777778,\"#fb9f3a\"],[0.8888888888888888,\"#fdca26\"],[1.0,\"#f0f921\"]],\"sequentialminus\":[[0.0,\"#0d0887\"],[0.1111111111111111,\"#46039f\"],[0.2222222222222222,\"#7201a8\"],[0.3333333333333333,\"#9c179e\"],[0.4444444444444444,\"#bd3786\"],[0.5555555555555556,\"#d8576b\"],[0.6666666666666666,\"#ed7953\"],[0.7777777777777778,\"#fb9f3a\"],[0.8888888888888888,\"#fdca26\"],[1.0,\"#f0f921\"]],\"diverging\":[[0,\"#8e0152\"],[0.1,\"#c51b7d\"],[0.2,\"#de77ae\"],[0.3,\"#f1b6da\"],[0.4,\"#fde0ef\"],[0.5,\"#f7f7f7\"],[0.6,\"#e6f5d0\"],[0.7,\"#b8e186\"],[0.8,\"#7fbc41\"],[0.9,\"#4d9221\"],[1,\"#276419\"]]},\"xaxis\":{\"gridcolor\":\"white\",\"linecolor\":\"white\",\"ticks\":\"\",\"title\":{\"standoff\":15},\"zerolinecolor\":\"white\",\"automargin\":true,\"zerolinewidth\":2},\"yaxis\":{\"gridcolor\":\"white\",\"linecolor\":\"white\",\"ticks\":\"\",\"title\":{\"standoff\":15},\"zerolinecolor\":\"white\",\"automargin\":true,\"zerolinewidth\":2},\"scene\":{\"xaxis\":{\"backgroundcolor\":\"#E5ECF6\",\"gridcolor\":\"white\",\"linecolor\":\"white\",\"showbackground\":true,\"ticks\":\"\",\"zerolinecolor\":\"white\",\"gridwidth\":2},\"yaxis\":{\"backgroundcolor\":\"#E5ECF6\",\"gridcolor\":\"white\",\"linecolor\":\"white\",\"showbackground\":true,\"ticks\":\"\",\"zerolinecolor\":\"white\",\"gridwidth\":2},\"zaxis\":{\"backgroundcolor\":\"#E5ECF6\",\"gridcolor\":\"white\",\"linecolor\":\"white\",\"showbackground\":true,\"ticks\":\"\",\"zerolinecolor\":\"white\",\"gridwidth\":2}},\"shapedefaults\":{\"line\":{\"color\":\"#2a3f5f\"}},\"annotationdefaults\":{\"arrowcolor\":\"#2a3f5f\",\"arrowhead\":0,\"arrowwidth\":1},\"geo\":{\"bgcolor\":\"white\",\"landcolor\":\"#E5ECF6\",\"subunitcolor\":\"white\",\"showland\":true,\"showlakes\":true,\"lakecolor\":\"white\"},\"title\":{\"x\":0.05},\"mapbox\":{\"style\":\"light\"}}},\"xaxis\":{\"anchor\":\"y\",\"domain\":[0.0,1.0]},\"yaxis\":{\"anchor\":\"x\",\"domain\":[0.0,1.0],\"autorange\":\"reversed\"},\"coloraxis\":{\"colorscale\":[[0.0,\"rgb(103,0,31)\"],[0.1,\"rgb(178,24,43)\"],[0.2,\"rgb(214,96,77)\"],[0.3,\"rgb(244,165,130)\"],[0.4,\"rgb(253,219,199)\"],[0.5,\"rgb(247,247,247)\"],[0.6,\"rgb(209,229,240)\"],[0.7,\"rgb(146,197,222)\"],[0.8,\"rgb(67,147,195)\"],[0.9,\"rgb(33,102,172)\"],[1.0,\"rgb(5,48,97)\"]]},\"title\":{\"text\":\"Correlation Matrix\"}},                        {\"responsive\": true}                    ).then(function(){\n",
              "                            \n",
              "var gd = document.getElementById('1db26194-49ac-40bb-92eb-358aa5b6c98b');\n",
              "var x = new MutationObserver(function (mutations, observer) {{\n",
              "        var display = window.getComputedStyle(gd).display;\n",
              "        if (!display || display === 'none') {{\n",
              "            console.log([gd, 'removed!']);\n",
              "            Plotly.purge(gd);\n",
              "            observer.disconnect();\n",
              "        }}\n",
              "}});\n",
              "\n",
              "// Listen for the removal of the full notebook cells\n",
              "var notebookContainer = gd.closest('#notebook-container');\n",
              "if (notebookContainer) {{\n",
              "    x.observe(notebookContainer, {childList: true});\n",
              "}}\n",
              "\n",
              "// Listen for the clearing of the current output cell\n",
              "var outputEl = gd.closest('.output');\n",
              "if (outputEl) {{\n",
              "    x.observe(outputEl, {childList: true});\n",
              "}}\n",
              "\n",
              "                        })                };                            </script>        </div>\n",
              "</body>\n",
              "</html>"
            ]
          },
          "metadata": {}
        }
      ]
    },
    {
      "cell_type": "markdown",
      "source": [
        "* **`go.Heatmap()`**: For more fine-grained control and advanced heatmap features (e.g., custom `z` values, more complex annotations), you might directly use `plotly.graph_objects.Heatmap`.\n",
        "          * `import plotly.graph_objects as go`\n",
        "          * `go.Figure(data=go.Heatmap(...))`\n",
        "\n",
        "### 3.6.6 Exporting and Embedding\n",
        "\n",
        "While Plotly excels in interactivity within web environments, you can also export plots for static use or embed them.\n",
        "\n",
        "  * **Displaying in Various Environments**:\n",
        "\n",
        "      * **Jupyter Notebook/Lab**: Plots are rendered directly in the output cell.\n",
        "      * **Google Colab**: Plots are rendered directly.\n",
        "      * **IDE (e.g., VS Code, Spyder)**: `fig.show()` will typically open the plot in your default web browser or a dedicated viewer pane.\n",
        "\n",
        "  * **Saving Static Images**:\n",
        "\n",
        "      * Requires `kaleido` package: `pip install kaleido`\n",
        "      * `fig.write_image(\"plot.png\")`: Saves as PNG.\n",
        "      * `fig.write_image(\"plot.jpeg\")`: Saves as JPEG.\n",
        "      * `fig.write_image(\"plot.svg\")`: Saves as SVG (vector graphics).\n",
        "      * `fig.write_image(\"plot.pdf\")`: Saves as PDF (vector graphics).\n",
        "      * You can specify `scale` for higher resolution: `fig.write_image(\"plot_high_res.png\", scale=2)`\n",
        "\n",
        "  * **Saving as Interactive HTML**:\n",
        "\n",
        "      * `fig.write_html(\"interactive_plot.html\")`: Saves the plot as a standalone HTML file. This file contains all the data and JavaScript needed to make the plot interactive in any web browser, even offline.\n",
        "\n",
        "  * **Embedding in Web Applications**:\n",
        "\n",
        "      * Plotly figures can be converted to JSON, which can then be rendered by Plotly.js in web applications (e.g., Dash, Flask, Django, React, Angular).\n",
        "      * `fig.to_json()`: Converts the figure to a JSON string.\n",
        "\n",
        "  * **Embedding in Dash Applications**: Plotly is the foundational graphing library for Dash, Plotly's framework for building analytical web applications. Figures created with Plotly Express can be directly passed to Dash components.\n",
        "\n",
        "-----"
      ],
      "metadata": {
        "id": "iKrLByiJc4CG"
      }
    },
    {
      "cell_type": "code",
      "source": [],
      "metadata": {
        "id": "-rOmwQdVcOw6"
      },
      "execution_count": null,
      "outputs": []
    }
  ]
}