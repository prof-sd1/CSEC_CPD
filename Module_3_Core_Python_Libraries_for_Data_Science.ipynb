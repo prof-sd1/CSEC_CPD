{
  "nbformat": 4,
  "nbformat_minor": 0,
  "metadata": {
    "colab": {
      "provenance": [],
      "authorship_tag": "ABX9TyN6veoEHT1omDKkqwvFoa92",
      "include_colab_link": true
    },
    "kernelspec": {
      "name": "python3",
      "display_name": "Python 3"
    },
    "language_info": {
      "name": "python"
    }
  },
  "cells": [
    {
      "cell_type": "markdown",
      "metadata": {
        "id": "view-in-github",
        "colab_type": "text"
      },
      "source": [
        "<a href=\"https://colab.research.google.com/github/prof-sd1/CSEC_CPD/blob/main/Module_3_Core_Python_Libraries_for_Data_Science.ipynb\" target=\"_parent\"><img src=\"https://colab.research.google.com/assets/colab-badge.svg\" alt=\"Open In Colab\"/></a>"
      ]
    },
    {
      "cell_type": "markdown",
      "source": [
        "# Module 3: Core Python Libraries for Data Science"
      ],
      "metadata": {
        "id": "Hv2qHuhtlAtE"
      }
    },
    {
      "cell_type": "markdown",
      "source": [
        "## 3.1 Introduction to Python Libraries for Data Science"
      ],
      "metadata": {
        "id": "DUWENiXblEL3"
      }
    },
    {
      "cell_type": "markdown",
      "source": [
        "### Why Libraries Matter\n",
        "\n",
        "In Python, libraries are pre-written collections of code that simplify complex tasks. For data science, they provide powerful tools for:\n",
        "\n",
        "- Numerical computation\n",
        "\n",
        "- Data manipulation\n",
        "\n",
        "- Visualization\n",
        "\n",
        "- Machine learning (covered in later modules)\n",
        "\n",
        "Instead of writing everything from scratch, we import and use these libraries to save time, boost productivity, and maintain clean code."
      ],
      "metadata": {
        "id": "sG4pRaVilkdN"
      }
    },
    {
      "cell_type": "markdown",
      "source": [
        "### Core Python Libraries in This Module"
      ],
      "metadata": {
        "id": "DgTC1eBclzFh"
      }
    },
    {
      "cell_type": "markdown",
      "source": [
        "|  Library|Purpose                                                                 |\n",
        "| -------------- | -------------------------------------------------------------------------- |\n",
        "| **NumPy**      | Fast mathematical operations on large, multi-dimensional arrays            |\n",
        "| **Pandas**     | Manipulate, clean, and analyze structured tabular data                     |\n",
        "| **Matplotlib** | Create basic static charts (line, bar, scatter, etc.)                      |\n",
        "| **Seaborn**    | Create beautiful and statistical plots with minimal code                   |\n",
        "| **Plotly**     | Create **interactive** visualizations and dashboards (Zoom, Hover, Filter) |\n"
      ],
      "metadata": {
        "id": "fjFsTc0Al6Av"
      }
    },
    {
      "cell_type": "markdown",
      "source": [
        "### Key Benefits of Using Libraries\n",
        "\n",
        "- Pre-built Functions: Ready-to-use tools save development time\n",
        "\n",
        "- Community Support: Large user base, active development, good documentation\n",
        "\n",
        "- Scalability: Optimized for performance, even with large datasets\n",
        "\n",
        "- Interoperability: Libraries work together smoothly (e.g., Pandas + Seaborn)"
      ],
      "metadata": {
        "id": "NaUQNu7Hmj0z"
      }
    },
    {
      "cell_type": "markdown",
      "source": [
        "## 3.2 NumPy: Arrays, Vectorized Operations, Linear Algebra"
      ],
      "metadata": {
        "id": "6u0LxZEAmvaV"
      }
    },
    {
      "cell_type": "markdown",
      "source": [
        "### What is NumPy?\n",
        "\n",
        "**NumPy** stands for **Numerical Python**. It is the most basic and powerful Python library used for:\n",
        "\n",
        "- Creating arrays (1D, 2D, or multi-dimensional)\n",
        "\n",
        "- Doing math operations on entire arrays without writing loops\n",
        "\n",
        "- Solving linear algebra problems like matrix multiplication or solving equations\n",
        "\n"
      ],
      "metadata": {
        "id": "HsVO7DPUm_JJ"
      }
    },
    {
      "cell_type": "markdown",
      "source": [
        "### Why Use NumPy Instead of Lists?"
      ],
      "metadata": {
        "id": "sPL5Sl_6nRb7"
      }
    },
    {
      "cell_type": "markdown",
      "source": [
        "| Feature         | Python Lists        | NumPy Arrays                |\n",
        "| --------------- | ------------------- | --------------------------- |\n",
        "| Speed           | Slow for large data | Much faster                 |\n",
        "| Math operations | Manual (use loops)  | Direct (use `+`, `*`, etc.) |\n",
        "| Memory          | High usage          | Optimized & efficient       |\n"
      ],
      "metadata": {
        "id": "TNDPvpeInTbQ"
      }
    },
    {
      "cell_type": "markdown",
      "source": [
        "### Import NumPy"
      ],
      "metadata": {
        "id": "4K_U7dx-nasx"
      }
    },
    {
      "cell_type": "code",
      "execution_count": 1,
      "metadata": {
        "id": "Ly7YWYvXk9mU"
      },
      "outputs": [],
      "source": [
        "import numpy as np"
      ]
    },
    {
      "cell_type": "markdown",
      "source": [
        "## 1. Creating Arrays"
      ],
      "metadata": {
        "id": "Z4dTeHLRp7lc"
      }
    },
    {
      "cell_type": "code",
      "source": [
        "arr = np.array([1, 2, 3])\n",
        "print(arr)\n",
        "print(type(arr))\n",
        "print(arr.shape) #shape\n",
        "print(arr.ndim) #dimension\n",
        "print(arr.dtype) #element datatype\n",
        "print(arr.size)  #size of entire elements"
      ],
      "metadata": {
        "colab": {
          "base_uri": "https://localhost:8080/"
        },
        "id": "RyNJSXBFolwq",
        "outputId": "39811451-41d0-46f0-d3e8-5e2ae38890a5"
      },
      "execution_count": 28,
      "outputs": [
        {
          "output_type": "stream",
          "name": "stdout",
          "text": [
            "[1 2 3]\n",
            "<class 'numpy.ndarray'>\n",
            "(3,)\n",
            "1\n",
            "int64\n",
            "3\n"
          ]
        }
      ]
    },
    {
      "cell_type": "code",
      "source": [
        "#Multi-dimensional Arrays\n",
        "matrix = np.array([[1, 2], [3, 4]])\n",
        "print(matrix)\n",
        "type(matrix)\n",
        "print(matrix.shape)\n",
        "print(matrix.ndim)\n",
        "print(matrix.dtype)\n",
        "print(matrix.size)\n"
      ],
      "metadata": {
        "colab": {
          "base_uri": "https://localhost:8080/"
        },
        "id": "VsgO2xVAqKMe",
        "outputId": "00326051-06a0-4151-9ed7-6fec21a9015d"
      },
      "execution_count": 26,
      "outputs": [
        {
          "output_type": "stream",
          "name": "stdout",
          "text": [
            "[[1 2]\n",
            " [3 4]]\n",
            "(2, 2)\n",
            "2\n",
            "int64\n",
            "4\n"
          ]
        }
      ]
    },
    {
      "cell_type": "markdown",
      "source": [
        "## 2. Initial Placeholders in numpy arrays"
      ],
      "metadata": {
        "id": "EkyzjBmCq7Gv"
      }
    },
    {
      "cell_type": "code",
      "source": [
        "# create a numpy array of Zeros\n",
        "x = np.zeros((4,5))\n",
        "print(x)\n",
        ""
      ],
      "metadata": {
        "colab": {
          "base_uri": "https://localhost:8080/"
        },
        "id": "Tbv8PwKTqfTR",
        "outputId": "fe3a4edb-f16e-4c68-99c7-b3f7b93cd0aa"
      },
      "execution_count": 21,
      "outputs": [
        {
          "output_type": "stream",
          "name": "stdout",
          "text": [
            "[[0. 0. 0. 0. 0.]\n",
            " [0. 0. 0. 0. 0.]\n",
            " [0. 0. 0. 0. 0.]\n",
            " [0. 0. 0. 0. 0.]]\n"
          ]
        }
      ]
    },
    {
      "cell_type": "code",
      "source": [
        "# create a numpy array of ones\n",
        "y = np.ones((3,3))\n",
        "print(y)"
      ],
      "metadata": {
        "colab": {
          "base_uri": "https://localhost:8080/"
        },
        "id": "LpgMxvAYrAMs",
        "outputId": "8f55bd45-da83-4079-ccd2-062d8b5c823a"
      },
      "execution_count": 20,
      "outputs": [
        {
          "output_type": "stream",
          "name": "stdout",
          "text": [
            "[[1. 1. 1.]\n",
            " [1. 1. 1.]\n",
            " [1. 1. 1.]]\n"
          ]
        }
      ]
    },
    {
      "cell_type": "code",
      "source": [
        "# create an identity matrix\n",
        "a = np.eye(3)\n",
        "print(a)"
      ],
      "metadata": {
        "colab": {
          "base_uri": "https://localhost:8080/"
        },
        "id": "ZAOzuX-DrLmi",
        "outputId": "ee2088f4-16dc-400a-a87f-81e34f961def"
      },
      "execution_count": 17,
      "outputs": [
        {
          "output_type": "stream",
          "name": "stdout",
          "text": [
            "[[1. 0. 0.]\n",
            " [0. 1. 0.]\n",
            " [0. 0. 1.]]\n"
          ]
        }
      ]
    },
    {
      "cell_type": "code",
      "source": [
        "np.arange(0, 10, 2)    # [0 2 4 6 8]\n"
      ],
      "metadata": {
        "colab": {
          "base_uri": "https://localhost:8080/"
        },
        "id": "D9XTtO4frOci",
        "outputId": "d47a7115-7a8e-4933-ca0b-50c8cc36cf54"
      },
      "execution_count": 14,
      "outputs": [
        {
          "output_type": "execute_result",
          "data": {
            "text/plain": [
              "array([0, 2, 4, 6, 8])"
            ]
          },
          "metadata": {},
          "execution_count": 14
        }
      ]
    },
    {
      "cell_type": "code",
      "source": [
        "np.linspace(0, 1, 5)   # [0.  0.25 0.5  0.75  1.]"
      ],
      "metadata": {
        "colab": {
          "base_uri": "https://localhost:8080/"
        },
        "id": "nojlKV6qrQ2U",
        "outputId": "e875e771-4ab7-403c-ba69-a472c6275e96"
      },
      "execution_count": 15,
      "outputs": [
        {
          "output_type": "execute_result",
          "data": {
            "text/plain": [
              "array([0.  , 0.25, 0.5 , 0.75, 1.  ])"
            ]
          },
          "metadata": {},
          "execution_count": 15
        }
      ]
    },
    {
      "cell_type": "code",
      "source": [
        "# create a numpy array with random values\n",
        "b = np.random.random((3,4))\n",
        "print(b)"
      ],
      "metadata": {
        "colab": {
          "base_uri": "https://localhost:8080/"
        },
        "id": "79rnN96prRrz",
        "outputId": "841b7259-c3db-4b4f-de90-7a188be33f1b"
      },
      "execution_count": 18,
      "outputs": [
        {
          "output_type": "stream",
          "name": "stdout",
          "text": [
            "[[0.82965816 0.34393895 0.3698941  0.05025047]\n",
            " [0.91918485 0.98892513 0.15822587 0.68490854]\n",
            " [0.15637057 0.31575348 0.6234471  0.29623733]]\n"
          ]
        }
      ]
    },
    {
      "cell_type": "code",
      "source": [
        "# array of a particular value\n",
        "z = np.full((5,4),5)\n",
        "print(z)"
      ],
      "metadata": {
        "colab": {
          "base_uri": "https://localhost:8080/"
        },
        "id": "nQUxL3SUrf30",
        "outputId": "e10f6b26-0128-4368-fab5-b7fe8bc6d2d9"
      },
      "execution_count": 19,
      "outputs": [
        {
          "output_type": "stream",
          "name": "stdout",
          "text": [
            "[[5 5 5 5]\n",
            " [5 5 5 5]\n",
            " [5 5 5 5]\n",
            " [5 5 5 5]\n",
            " [5 5 5 5]]\n"
          ]
        }
      ]
    },
    {
      "cell_type": "code",
      "source": [
        "# random integer values array within a specific range\n",
        "c = np.random.randint(10,100,(3,5))\n",
        "print(c)"
      ],
      "metadata": {
        "colab": {
          "base_uri": "https://localhost:8080/"
        },
        "id": "8Hquh8L4rkgi",
        "outputId": "07fb15eb-bd8c-4ef3-9d89-70407b0d8f3f"
      },
      "execution_count": 22,
      "outputs": [
        {
          "output_type": "stream",
          "name": "stdout",
          "text": [
            "[[72 72 26 17 99]\n",
            " [34 65 63 19 87]\n",
            " [73 55 84 71 36]]\n"
          ]
        }
      ]
    },
    {
      "cell_type": "markdown",
      "source": [
        "### convert a list to a numpy array"
      ],
      "metadata": {
        "id": "V0iADFUFscuw"
      }
    },
    {
      "cell_type": "code",
      "source": [
        "list1 = [10,20,20,20,50]\n",
        "\n",
        "np_array = np.asarray(list1)\n",
        "print(np_array)\n",
        "type(np_array)"
      ],
      "metadata": {
        "colab": {
          "base_uri": "https://localhost:8080/"
        },
        "id": "G5oyBn0_sEan",
        "outputId": "407f0317-1c1b-4ae7-a162-67a9b0f44aef"
      },
      "execution_count": 23,
      "outputs": [
        {
          "output_type": "stream",
          "name": "stdout",
          "text": [
            "[10 20 20 20 50]\n"
          ]
        },
        {
          "output_type": "execute_result",
          "data": {
            "text/plain": [
              "numpy.ndarray"
            ]
          },
          "metadata": {},
          "execution_count": 23
        }
      ]
    },
    {
      "cell_type": "markdown",
      "source": [
        "### Mathematical operations on a np array"
      ],
      "metadata": {
        "id": "gvSoEjH1vPvM"
      }
    },
    {
      "cell_type": "code",
      "source": [
        "a = np.random.randint(0,10,(3,3))\n",
        "b = np.random.randint(10,20,(3,3))"
      ],
      "metadata": {
        "id": "AVdgcxxMsaX9"
      },
      "execution_count": 30,
      "outputs": []
    },
    {
      "cell_type": "code",
      "source": [
        "print(np.add(a,b))\n",
        "print(np.subtract(a,b))\n",
        "print(np.multiply(a,b))\n",
        "print(np.divide(a,b))"
      ],
      "metadata": {
        "colab": {
          "base_uri": "https://localhost:8080/"
        },
        "id": "1NT7ms9LvXqJ",
        "outputId": "d5dc1213-37eb-449c-8f4b-25d8182b45a5"
      },
      "execution_count": 35,
      "outputs": [
        {
          "output_type": "stream",
          "name": "stdout",
          "text": [
            "[[13 11 27]\n",
            " [17 19 20]\n",
            " [21 19 19]]\n",
            "[[-13  -9  -9]\n",
            " [ -9 -17  -6]\n",
            " [-17 -15 -19]]\n",
            "[[  0  10 162]\n",
            " [ 52  18  91]\n",
            " [ 38  34   0]]\n",
            "[[0.         0.1        0.5       ]\n",
            " [0.30769231 0.05555556 0.53846154]\n",
            " [0.10526316 0.11764706 0.        ]]\n"
          ]
        }
      ]
    },
    {
      "cell_type": "code",
      "source": [
        "a = np.array([4, 2, 3, 1])\n",
        "\n",
        "np.sum(a)         # 10\n",
        "np.mean(a)        # 2.5\n",
        "np.std(a)         # 1.118\n",
        "np.max(a)         # 4\n",
        "np.min(a)         # 1\n",
        "np.sort(a)        # [1 2 3 4]\n"
      ],
      "metadata": {
        "colab": {
          "base_uri": "https://localhost:8080/"
        },
        "id": "QMweXia5wLoD",
        "outputId": "f51f6ece-52ae-4610-a089-6b69f868ee57"
      },
      "execution_count": 36,
      "outputs": [
        {
          "output_type": "execute_result",
          "data": {
            "text/plain": [
              "array([1, 2, 3, 4])"
            ]
          },
          "metadata": {},
          "execution_count": 36
        }
      ]
    },
    {
      "cell_type": "code",
      "source": [],
      "metadata": {
        "id": "hk20uvj7wOr2"
      },
      "execution_count": null,
      "outputs": []
    }
  ]
}